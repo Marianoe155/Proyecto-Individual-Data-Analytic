{
 "cells": [
  {
   "cell_type": "markdown",
   "metadata": {},
   "source": [
    "# **Análisis Exploratorio de Datos** (EDA)"
   ]
  },
  {
   "cell_type": "markdown",
   "metadata": {},
   "source": [
    "Para dar inicio a nuestro análisis exploratorio de datos (EDA), es fundamental comenzar por la base sólida de la limpieza y validación preliminar de los datos. Esta etapa es esencial para garantizar la integridad y confiabilidad de nuestra información antes de sumergirnos en la formulación de preguntas, la obtención de conclusiones y la toma de decisiones basadas en datos.\n",
    "\n",
    "En esta fase inicial, nuestro objetivo principal es identificar y abordar cualquier valor faltante, incorrecto o atípico que pueda comprometer la calidad de los datos. La calidad de los datos es un factor crítico en cualquier análisis, ya que los resultados y las conclusiones dependerán en gran medida de la calidad de los datos subyacentes.\n",
    "\n",
    "Una vez que hayamos completado la limpieza y validación preliminar de los datos, estaremos en una posición sólida para explorar los patrones, relaciones y tendencias presentes en los datos, lo que nos permitirá obtener una comprensión más profunda y significativa de nuestro conjunto de datos. A través del EDA, podremos formular preguntas relevantes, realizar análisis estadísticos y visuales, y llegar a conclusiones que respalden la toma de decisiones informadas."
   ]
  },
  {
   "cell_type": "markdown",
   "metadata": {},
   "source": [
    "### En una primera instancia, comenzaremos importando las herramientas necesarias para llevar a cabo la limpieza de datos y cargar los conjuntos de datos que servirán como nuestras fuentes de información.\n",
    " "
   ]
  },
  {
   "cell_type": "code",
   "execution_count": 1,
   "metadata": {},
   "outputs": [],
   "source": [
    "import pandas as pd\n",
    "import numpy as np\n",
    "from scipy import stats\n",
    "import matplotlib.pyplot as plt\n",
    "import seaborn as sns\n",
    "from funcion import *\n",
    "import warnings\n",
    "warnings.filterwarnings(\"ignore\")"
   ]
  },
  {
   "cell_type": "code",
   "execution_count": 177,
   "metadata": {},
   "outputs": [],
   "source": [
    "df1 = pd.read_excel(r\"datasets/mapa_conectividad.xlsx\")\n",
    "df2 = pd.read_excel(r\"datasets/Internet_BAF.xlsx\",sheet_name=\"Total\")\n",
    "df3 = pd.read_excel(r\"datasets/Internet_BAF.xlsx\",sheet_name=\"Provincial\")\n",
    "df4 = pd.read_excel(r\"datasets/Internet_Accesos-por-velocidad.xlsx\",sheet_name=\"Total\")\n",
    "df5 = pd.read_excel(r\"datasets/Internet_Accesos-por-velocidad.xlsx\",sheet_name=\"Provincia\") \n",
    "df6 = pd.read_excel(r\"datasets/Internet_Accesos-por-velocidad.xlsx\",sheet_name=\"Provincia Sin rangos\")\n",
    "df7 = pd.read_excel(r\"datasets/historico_velocidad_internet.xlsx\",sheet_name=\"Total\")\n",
    "df8 = pd.read_excel(r\"datasets/historico_velocidad_internet.xlsx\",sheet_name=\"Provincial\")\n",
    "df9 = pd.read_excel(r\"datasets/Internet_Accesos-por-tecnologia.xlsx\",sheet_name=\"Total\")\n",
    "df10 = pd.read_excel(r\"datasets/Internet_Accesos-por-tecnologia.xlsx\",sheet_name=\"Provincial\")\n",
    "df11 =pd.read_excel(r\"datasets/Internet_Penetracion.xlsx\",sheet_name=\"Total\")\n",
    "df12 =pd.read_excel(r\"datasets/Internet_Penetracion.xlsx\",sheet_name=\"Provincia\")\n",
    "df13 = pd.read_excel(r\"datasets/Internet_Ingresos.xlsx\")\n",
    "df14 = pd.read_excel(r\"datasets/Internet_Accesos-por-velocidad_por loc.xlsx\")\n",
    "df15 = pd.read_excel(r\"datasets/Internet-Accesos-por-tecno_por_loc.xlsx\")"
   ]
  },
  {
   "cell_type": "markdown",
   "metadata": {},
   "source": [
    "# Listado de localidades con conectividad a internet.\n",
    "Listado de localidades con conectividad a internet, con detalle por tipo de conexión."
   ]
  },
  {
   "cell_type": "code",
   "execution_count": 16,
   "metadata": {},
   "outputs": [
    {
     "data": {
      "text/html": [
       "<div>\n",
       "<style scoped>\n",
       "    .dataframe tbody tr th:only-of-type {\n",
       "        vertical-align: middle;\n",
       "    }\n",
       "\n",
       "    .dataframe tbody tr th {\n",
       "        vertical-align: top;\n",
       "    }\n",
       "\n",
       "    .dataframe thead th {\n",
       "        text-align: right;\n",
       "    }\n",
       "</style>\n",
       "<table border=\"1\" class=\"dataframe\">\n",
       "  <thead>\n",
       "    <tr style=\"text-align: right;\">\n",
       "      <th></th>\n",
       "      <th>Provincia</th>\n",
       "      <th>Partido</th>\n",
       "      <th>Localidad</th>\n",
       "      <th>Población</th>\n",
       "      <th>ADSL</th>\n",
       "      <th>Cablemódem</th>\n",
       "      <th>Dial Up</th>\n",
       "      <th>Fibra óptica</th>\n",
       "      <th>Satelital</th>\n",
       "      <th>Wireless</th>\n",
       "      <th>Telefonía Fija</th>\n",
       "      <th>3G</th>\n",
       "      <th>4G</th>\n",
       "      <th>Link</th>\n",
       "      <th>Latitud</th>\n",
       "      <th>Longitud</th>\n",
       "    </tr>\n",
       "  </thead>\n",
       "  <tbody>\n",
       "    <tr>\n",
       "      <th>0</th>\n",
       "      <td>BUENOS AIRES</td>\n",
       "      <td>9 de Julio</td>\n",
       "      <td>Alfredo Demarchi (Est. Facundo Quiroga)</td>\n",
       "      <td>1853</td>\n",
       "      <td>SI</td>\n",
       "      <td>--</td>\n",
       "      <td>--</td>\n",
       "      <td>--</td>\n",
       "      <td>--</td>\n",
       "      <td>--</td>\n",
       "      <td>SI</td>\n",
       "      <td>SI</td>\n",
       "      <td>SI</td>\n",
       "      <td>6588010.0</td>\n",
       "      <td>-35.292982</td>\n",
       "      <td>-61.407254</td>\n",
       "    </tr>\n",
       "    <tr>\n",
       "      <th>1</th>\n",
       "      <td>BUENOS AIRES</td>\n",
       "      <td>9 de Julio</td>\n",
       "      <td>Carlos María Naón</td>\n",
       "      <td>497</td>\n",
       "      <td>--</td>\n",
       "      <td>--</td>\n",
       "      <td>--</td>\n",
       "      <td>--</td>\n",
       "      <td>--</td>\n",
       "      <td>--</td>\n",
       "      <td>SI</td>\n",
       "      <td>SI</td>\n",
       "      <td>SI</td>\n",
       "      <td>6588020.0</td>\n",
       "      <td>-35.239499</td>\n",
       "      <td>-60.825136</td>\n",
       "    </tr>\n",
       "  </tbody>\n",
       "</table>\n",
       "</div>"
      ],
      "text/plain": [
       "      Provincia     Partido                                Localidad  \\\n",
       "0  BUENOS AIRES  9 de Julio  Alfredo Demarchi (Est. Facundo Quiroga)   \n",
       "1  BUENOS AIRES  9 de Julio                        Carlos María Naón   \n",
       "\n",
       "   Población ADSL Cablemódem Dial Up Fibra óptica Satelital Wireless  \\\n",
       "0       1853   SI         --      --           --        --       --   \n",
       "1        497   --         --      --           --        --       --   \n",
       "\n",
       "  Telefonía Fija  3G  4G       Link    Latitud   Longitud  \n",
       "0             SI  SI  SI  6588010.0 -35.292982 -61.407254  \n",
       "1             SI  SI  SI  6588020.0 -35.239499 -60.825136  "
      ]
     },
     "execution_count": 16,
     "metadata": {},
     "output_type": "execute_result"
    }
   ],
   "source": [
    "df1.head(2)"
   ]
  },
  {
   "cell_type": "code",
   "execution_count": 17,
   "metadata": {},
   "outputs": [
    {
     "data": {
      "text/html": [
       "<div>\n",
       "<style scoped>\n",
       "    .dataframe tbody tr th:only-of-type {\n",
       "        vertical-align: middle;\n",
       "    }\n",
       "\n",
       "    .dataframe tbody tr th {\n",
       "        vertical-align: top;\n",
       "    }\n",
       "\n",
       "    .dataframe thead th {\n",
       "        text-align: right;\n",
       "    }\n",
       "</style>\n",
       "<table border=\"1\" class=\"dataframe\">\n",
       "  <thead>\n",
       "    <tr style=\"text-align: right;\">\n",
       "      <th></th>\n",
       "      <th>Población</th>\n",
       "      <th>Link</th>\n",
       "      <th>Latitud</th>\n",
       "      <th>Longitud</th>\n",
       "    </tr>\n",
       "  </thead>\n",
       "  <tbody>\n",
       "    <tr>\n",
       "      <th>count</th>\n",
       "      <td>4.311000e+03</td>\n",
       "      <td>4.299000e+03</td>\n",
       "      <td>4311.000000</td>\n",
       "      <td>4311.000000</td>\n",
       "    </tr>\n",
       "    <tr>\n",
       "      <th>mean</th>\n",
       "      <td>8.695088e+03</td>\n",
       "      <td>3.909339e+07</td>\n",
       "      <td>-32.261794</td>\n",
       "      <td>-63.039123</td>\n",
       "    </tr>\n",
       "    <tr>\n",
       "      <th>std</th>\n",
       "      <td>3.821965e+04</td>\n",
       "      <td>2.939438e+07</td>\n",
       "      <td>4.999418</td>\n",
       "      <td>3.830260</td>\n",
       "    </tr>\n",
       "    <tr>\n",
       "      <th>min</th>\n",
       "      <td>0.000000e+00</td>\n",
       "      <td>2.000010e+06</td>\n",
       "      <td>-77.874009</td>\n",
       "      <td>-72.891627</td>\n",
       "    </tr>\n",
       "    <tr>\n",
       "      <th>25%</th>\n",
       "      <td>1.160000e+02</td>\n",
       "      <td>1.009104e+07</td>\n",
       "      <td>-34.707626</td>\n",
       "      <td>-65.687041</td>\n",
       "    </tr>\n",
       "    <tr>\n",
       "      <th>50%</th>\n",
       "      <td>5.760000e+02</td>\n",
       "      <td>3.400705e+07</td>\n",
       "      <td>-32.283511</td>\n",
       "      <td>-63.450636</td>\n",
       "    </tr>\n",
       "    <tr>\n",
       "      <th>75%</th>\n",
       "      <td>3.203000e+03</td>\n",
       "      <td>6.612602e+07</td>\n",
       "      <td>-28.584663</td>\n",
       "      <td>-60.008572</td>\n",
       "    </tr>\n",
       "    <tr>\n",
       "      <th>max</th>\n",
       "      <td>1.317298e+06</td>\n",
       "      <td>9.401402e+07</td>\n",
       "      <td>-21.817293</td>\n",
       "      <td>-34.626560</td>\n",
       "    </tr>\n",
       "  </tbody>\n",
       "</table>\n",
       "</div>"
      ],
      "text/plain": [
       "          Población          Link      Latitud     Longitud\n",
       "count  4.311000e+03  4.299000e+03  4311.000000  4311.000000\n",
       "mean   8.695088e+03  3.909339e+07   -32.261794   -63.039123\n",
       "std    3.821965e+04  2.939438e+07     4.999418     3.830260\n",
       "min    0.000000e+00  2.000010e+06   -77.874009   -72.891627\n",
       "25%    1.160000e+02  1.009104e+07   -34.707626   -65.687041\n",
       "50%    5.760000e+02  3.400705e+07   -32.283511   -63.450636\n",
       "75%    3.203000e+03  6.612602e+07   -28.584663   -60.008572\n",
       "max    1.317298e+06  9.401402e+07   -21.817293   -34.626560"
      ]
     },
     "execution_count": 17,
     "metadata": {},
     "output_type": "execute_result"
    }
   ],
   "source": [
    "df1.describe()"
   ]
  },
  {
   "cell_type": "code",
   "execution_count": 19,
   "metadata": {},
   "outputs": [],
   "source": [
    "df1.drop_duplicates(inplace= True)"
   ]
  },
  {
   "cell_type": "code",
   "execution_count": 20,
   "metadata": {},
   "outputs": [
    {
     "name": "stdout",
     "output_type": "stream",
     "text": [
      "<class 'pandas.core.frame.DataFrame'>\n",
      "RangeIndex: 4311 entries, 0 to 4310\n",
      "Data columns (total 16 columns):\n",
      " #   Column          Non-Null Count  Dtype  \n",
      "---  ------          --------------  -----  \n",
      " 0   Provincia       4311 non-null   object \n",
      " 1   Partido         4311 non-null   object \n",
      " 2   Localidad       4311 non-null   object \n",
      " 3   Población       4311 non-null   int64  \n",
      " 4   ADSL            4311 non-null   object \n",
      " 5   Cablemódem      4311 non-null   object \n",
      " 6   Dial Up         4311 non-null   object \n",
      " 7   Fibra óptica    4311 non-null   object \n",
      " 8   Satelital       4311 non-null   object \n",
      " 9   Wireless        4311 non-null   object \n",
      " 10  Telefonía Fija  4311 non-null   object \n",
      " 11  3G              4311 non-null   object \n",
      " 12  4G              4311 non-null   object \n",
      " 13  Link            4299 non-null   float64\n",
      " 14  Latitud         4311 non-null   float64\n",
      " 15  Longitud        4311 non-null   float64\n",
      "dtypes: float64(3), int64(1), object(12)\n",
      "memory usage: 539.0+ KB\n"
     ]
    }
   ],
   "source": [
    "df1.info()"
   ]
  },
  {
   "cell_type": "code",
   "execution_count": 26,
   "metadata": {},
   "outputs": [],
   "source": [
    "sin_errores = df1.replace({\"SI\":True,\"--\":False})"
   ]
  },
  {
   "cell_type": "code",
   "execution_count": 27,
   "metadata": {},
   "outputs": [
    {
     "data": {
      "text/html": [
       "<div>\n",
       "<style scoped>\n",
       "    .dataframe tbody tr th:only-of-type {\n",
       "        vertical-align: middle;\n",
       "    }\n",
       "\n",
       "    .dataframe tbody tr th {\n",
       "        vertical-align: top;\n",
       "    }\n",
       "\n",
       "    .dataframe thead th {\n",
       "        text-align: right;\n",
       "    }\n",
       "</style>\n",
       "<table border=\"1\" class=\"dataframe\">\n",
       "  <thead>\n",
       "    <tr style=\"text-align: right;\">\n",
       "      <th></th>\n",
       "      <th>Provincia</th>\n",
       "      <th>Partido</th>\n",
       "      <th>Localidad</th>\n",
       "      <th>Población</th>\n",
       "      <th>ADSL</th>\n",
       "      <th>Cablemódem</th>\n",
       "      <th>Dial Up</th>\n",
       "      <th>Fibra óptica</th>\n",
       "      <th>Satelital</th>\n",
       "      <th>Wireless</th>\n",
       "      <th>Telefonía Fija</th>\n",
       "      <th>3G</th>\n",
       "      <th>4G</th>\n",
       "      <th>Link</th>\n",
       "      <th>Latitud</th>\n",
       "      <th>Longitud</th>\n",
       "    </tr>\n",
       "  </thead>\n",
       "  <tbody>\n",
       "    <tr>\n",
       "      <th>0</th>\n",
       "      <td>BUENOS AIRES</td>\n",
       "      <td>9 de Julio</td>\n",
       "      <td>Alfredo Demarchi (Est. Facundo Quiroga)</td>\n",
       "      <td>1853</td>\n",
       "      <td>True</td>\n",
       "      <td>False</td>\n",
       "      <td>False</td>\n",
       "      <td>False</td>\n",
       "      <td>False</td>\n",
       "      <td>False</td>\n",
       "      <td>True</td>\n",
       "      <td>True</td>\n",
       "      <td>True</td>\n",
       "      <td>6588010.0</td>\n",
       "      <td>-35.292982</td>\n",
       "      <td>-61.407254</td>\n",
       "    </tr>\n",
       "    <tr>\n",
       "      <th>1</th>\n",
       "      <td>BUENOS AIRES</td>\n",
       "      <td>9 de Julio</td>\n",
       "      <td>Carlos María Naón</td>\n",
       "      <td>497</td>\n",
       "      <td>False</td>\n",
       "      <td>False</td>\n",
       "      <td>False</td>\n",
       "      <td>False</td>\n",
       "      <td>False</td>\n",
       "      <td>False</td>\n",
       "      <td>True</td>\n",
       "      <td>True</td>\n",
       "      <td>True</td>\n",
       "      <td>6588020.0</td>\n",
       "      <td>-35.239499</td>\n",
       "      <td>-60.825136</td>\n",
       "    </tr>\n",
       "    <tr>\n",
       "      <th>2</th>\n",
       "      <td>BUENOS AIRES</td>\n",
       "      <td>9 de Julio</td>\n",
       "      <td>Dudignac</td>\n",
       "      <td>2670</td>\n",
       "      <td>False</td>\n",
       "      <td>False</td>\n",
       "      <td>True</td>\n",
       "      <td>False</td>\n",
       "      <td>False</td>\n",
       "      <td>True</td>\n",
       "      <td>True</td>\n",
       "      <td>True</td>\n",
       "      <td>True</td>\n",
       "      <td>6588040.0</td>\n",
       "      <td>-35.651193</td>\n",
       "      <td>-60.709896</td>\n",
       "    </tr>\n",
       "    <tr>\n",
       "      <th>3</th>\n",
       "      <td>BUENOS AIRES</td>\n",
       "      <td>9 de Julio</td>\n",
       "      <td>La Aurora (Est. La Niña)</td>\n",
       "      <td>531</td>\n",
       "      <td>False</td>\n",
       "      <td>False</td>\n",
       "      <td>False</td>\n",
       "      <td>False</td>\n",
       "      <td>False</td>\n",
       "      <td>False</td>\n",
       "      <td>False</td>\n",
       "      <td>False</td>\n",
       "      <td>True</td>\n",
       "      <td>6588050.0</td>\n",
       "      <td>-35.407947</td>\n",
       "      <td>-61.210567</td>\n",
       "    </tr>\n",
       "    <tr>\n",
       "      <th>4</th>\n",
       "      <td>BUENOS AIRES</td>\n",
       "      <td>9 de Julio</td>\n",
       "      <td>Manuel B. Gonnet (Est. French)</td>\n",
       "      <td>748</td>\n",
       "      <td>True</td>\n",
       "      <td>False</td>\n",
       "      <td>False</td>\n",
       "      <td>True</td>\n",
       "      <td>False</td>\n",
       "      <td>False</td>\n",
       "      <td>True</td>\n",
       "      <td>True</td>\n",
       "      <td>True</td>\n",
       "      <td>6588060.0</td>\n",
       "      <td>-35.520141</td>\n",
       "      <td>-60.998949</td>\n",
       "    </tr>\n",
       "    <tr>\n",
       "      <th>...</th>\n",
       "      <td>...</td>\n",
       "      <td>...</td>\n",
       "      <td>...</td>\n",
       "      <td>...</td>\n",
       "      <td>...</td>\n",
       "      <td>...</td>\n",
       "      <td>...</td>\n",
       "      <td>...</td>\n",
       "      <td>...</td>\n",
       "      <td>...</td>\n",
       "      <td>...</td>\n",
       "      <td>...</td>\n",
       "      <td>...</td>\n",
       "      <td>...</td>\n",
       "      <td>...</td>\n",
       "      <td>...</td>\n",
       "    </tr>\n",
       "    <tr>\n",
       "      <th>4306</th>\n",
       "      <td>BUENOS AIRES</td>\n",
       "      <td>Pilar</td>\n",
       "      <td>Pilar</td>\n",
       "      <td>86158</td>\n",
       "      <td>True</td>\n",
       "      <td>True</td>\n",
       "      <td>True</td>\n",
       "      <td>True</td>\n",
       "      <td>True</td>\n",
       "      <td>True</td>\n",
       "      <td>True</td>\n",
       "      <td>True</td>\n",
       "      <td>True</td>\n",
       "      <td>6638040.0</td>\n",
       "      <td>-34.466332</td>\n",
       "      <td>-58.922720</td>\n",
       "    </tr>\n",
       "    <tr>\n",
       "      <th>4307</th>\n",
       "      <td>BUENOS AIRES</td>\n",
       "      <td>Pilar</td>\n",
       "      <td>Presidente Derqui</td>\n",
       "      <td>50783</td>\n",
       "      <td>True</td>\n",
       "      <td>True</td>\n",
       "      <td>False</td>\n",
       "      <td>True</td>\n",
       "      <td>False</td>\n",
       "      <td>True</td>\n",
       "      <td>True</td>\n",
       "      <td>True</td>\n",
       "      <td>True</td>\n",
       "      <td>6638040.0</td>\n",
       "      <td>-34.492862</td>\n",
       "      <td>-58.841699</td>\n",
       "    </tr>\n",
       "    <tr>\n",
       "      <th>4308</th>\n",
       "      <td>BUENOS AIRES</td>\n",
       "      <td>Pilar</td>\n",
       "      <td>Roberto De Vicenzo</td>\n",
       "      <td>0</td>\n",
       "      <td>False</td>\n",
       "      <td>False</td>\n",
       "      <td>False</td>\n",
       "      <td>False</td>\n",
       "      <td>False</td>\n",
       "      <td>False</td>\n",
       "      <td>False</td>\n",
       "      <td>True</td>\n",
       "      <td>True</td>\n",
       "      <td>6638040.0</td>\n",
       "      <td>-34.436965</td>\n",
       "      <td>-58.766994</td>\n",
       "    </tr>\n",
       "    <tr>\n",
       "      <th>4309</th>\n",
       "      <td>BUENOS AIRES</td>\n",
       "      <td>Pilar</td>\n",
       "      <td>Santa Teresa</td>\n",
       "      <td>5324</td>\n",
       "      <td>False</td>\n",
       "      <td>False</td>\n",
       "      <td>False</td>\n",
       "      <td>False</td>\n",
       "      <td>True</td>\n",
       "      <td>False</td>\n",
       "      <td>False</td>\n",
       "      <td>True</td>\n",
       "      <td>True</td>\n",
       "      <td>6638040.0</td>\n",
       "      <td>-34.436691</td>\n",
       "      <td>-58.757347</td>\n",
       "    </tr>\n",
       "    <tr>\n",
       "      <th>4310</th>\n",
       "      <td>BUENOS AIRES</td>\n",
       "      <td>Pilar</td>\n",
       "      <td>Tortuguitas</td>\n",
       "      <td>26024</td>\n",
       "      <td>False</td>\n",
       "      <td>False</td>\n",
       "      <td>False</td>\n",
       "      <td>True</td>\n",
       "      <td>True</td>\n",
       "      <td>True</td>\n",
       "      <td>False</td>\n",
       "      <td>True</td>\n",
       "      <td>True</td>\n",
       "      <td>6638040.0</td>\n",
       "      <td>-34.457806</td>\n",
       "      <td>-58.762091</td>\n",
       "    </tr>\n",
       "  </tbody>\n",
       "</table>\n",
       "<p>4311 rows × 16 columns</p>\n",
       "</div>"
      ],
      "text/plain": [
       "         Provincia     Partido                                Localidad  \\\n",
       "0     BUENOS AIRES  9 de Julio  Alfredo Demarchi (Est. Facundo Quiroga)   \n",
       "1     BUENOS AIRES  9 de Julio                        Carlos María Naón   \n",
       "2     BUENOS AIRES  9 de Julio                                 Dudignac   \n",
       "3     BUENOS AIRES  9 de Julio                 La Aurora (Est. La Niña)   \n",
       "4     BUENOS AIRES  9 de Julio           Manuel B. Gonnet (Est. French)   \n",
       "...            ...         ...                                      ...   \n",
       "4306  BUENOS AIRES       Pilar                                    Pilar   \n",
       "4307  BUENOS AIRES       Pilar                        Presidente Derqui   \n",
       "4308  BUENOS AIRES       Pilar                       Roberto De Vicenzo   \n",
       "4309  BUENOS AIRES       Pilar                             Santa Teresa   \n",
       "4310  BUENOS AIRES       Pilar                              Tortuguitas   \n",
       "\n",
       "      Población   ADSL  Cablemódem  Dial Up  Fibra óptica  Satelital  \\\n",
       "0          1853   True       False    False         False      False   \n",
       "1           497  False       False    False         False      False   \n",
       "2          2670  False       False     True         False      False   \n",
       "3           531  False       False    False         False      False   \n",
       "4           748   True       False    False          True      False   \n",
       "...         ...    ...         ...      ...           ...        ...   \n",
       "4306      86158   True        True     True          True       True   \n",
       "4307      50783   True        True    False          True      False   \n",
       "4308          0  False       False    False         False      False   \n",
       "4309       5324  False       False    False         False       True   \n",
       "4310      26024  False       False    False          True       True   \n",
       "\n",
       "      Wireless  Telefonía Fija     3G    4G       Link    Latitud   Longitud  \n",
       "0        False            True   True  True  6588010.0 -35.292982 -61.407254  \n",
       "1        False            True   True  True  6588020.0 -35.239499 -60.825136  \n",
       "2         True            True   True  True  6588040.0 -35.651193 -60.709896  \n",
       "3        False           False  False  True  6588050.0 -35.407947 -61.210567  \n",
       "4        False            True   True  True  6588060.0 -35.520141 -60.998949  \n",
       "...        ...             ...    ...   ...        ...        ...        ...  \n",
       "4306      True            True   True  True  6638040.0 -34.466332 -58.922720  \n",
       "4307      True            True   True  True  6638040.0 -34.492862 -58.841699  \n",
       "4308     False           False   True  True  6638040.0 -34.436965 -58.766994  \n",
       "4309     False           False   True  True  6638040.0 -34.436691 -58.757347  \n",
       "4310      True           False   True  True  6638040.0 -34.457806 -58.762091  \n",
       "\n",
       "[4311 rows x 16 columns]"
      ]
     },
     "execution_count": 27,
     "metadata": {},
     "output_type": "execute_result"
    }
   ],
   "source": [
    "sin_errores"
   ]
  },
  {
   "cell_type": "code",
   "execution_count": 28,
   "metadata": {},
   "outputs": [],
   "source": [
    "tecnologías = sin_errores[[\"ADSL\",\"Cablemódem\",\"Dial Up\",\"Fibra óptica\",\"4G\",\"3G\",\"Telefonía Fija\",\"Wireless\",\"Satelital\"]]"
   ]
  },
  {
   "cell_type": "code",
   "execution_count": 29,
   "metadata": {},
   "outputs": [],
   "source": [
    "cant_tec = tecnologías.sum().reset_index()"
   ]
  },
  {
   "cell_type": "code",
   "execution_count": 31,
   "metadata": {},
   "outputs": [],
   "source": [
    "cant_tec= cant_tec.rename(columns={\"index\":\"Tipo\", 0:\"cantidad\"})"
   ]
  },
  {
   "cell_type": "code",
   "execution_count": 33,
   "metadata": {},
   "outputs": [],
   "source": [
    "cant_tec = cant_tec.sort_values(\"cantidad\", ascending=False)"
   ]
  },
  {
   "cell_type": "code",
   "execution_count": 34,
   "metadata": {},
   "outputs": [
    {
     "data": {
      "text/html": [
       "<div>\n",
       "<style scoped>\n",
       "    .dataframe tbody tr th:only-of-type {\n",
       "        vertical-align: middle;\n",
       "    }\n",
       "\n",
       "    .dataframe tbody tr th {\n",
       "        vertical-align: top;\n",
       "    }\n",
       "\n",
       "    .dataframe thead th {\n",
       "        text-align: right;\n",
       "    }\n",
       "</style>\n",
       "<table border=\"1\" class=\"dataframe\">\n",
       "  <thead>\n",
       "    <tr style=\"text-align: right;\">\n",
       "      <th></th>\n",
       "      <th>Tipo</th>\n",
       "      <th>cantidad</th>\n",
       "    </tr>\n",
       "  </thead>\n",
       "  <tbody>\n",
       "    <tr>\n",
       "      <th>4</th>\n",
       "      <td>4G</td>\n",
       "      <td>2574</td>\n",
       "    </tr>\n",
       "    <tr>\n",
       "      <th>6</th>\n",
       "      <td>Telefonía Fija</td>\n",
       "      <td>2243</td>\n",
       "    </tr>\n",
       "    <tr>\n",
       "      <th>7</th>\n",
       "      <td>Wireless</td>\n",
       "      <td>2224</td>\n",
       "    </tr>\n",
       "    <tr>\n",
       "      <th>5</th>\n",
       "      <td>3G</td>\n",
       "      <td>1880</td>\n",
       "    </tr>\n",
       "    <tr>\n",
       "      <th>3</th>\n",
       "      <td>Fibra óptica</td>\n",
       "      <td>1527</td>\n",
       "    </tr>\n",
       "    <tr>\n",
       "      <th>0</th>\n",
       "      <td>ADSL</td>\n",
       "      <td>1129</td>\n",
       "    </tr>\n",
       "    <tr>\n",
       "      <th>8</th>\n",
       "      <td>Satelital</td>\n",
       "      <td>1063</td>\n",
       "    </tr>\n",
       "    <tr>\n",
       "      <th>1</th>\n",
       "      <td>Cablemódem</td>\n",
       "      <td>863</td>\n",
       "    </tr>\n",
       "    <tr>\n",
       "      <th>2</th>\n",
       "      <td>Dial Up</td>\n",
       "      <td>403</td>\n",
       "    </tr>\n",
       "  </tbody>\n",
       "</table>\n",
       "</div>"
      ],
      "text/plain": [
       "             Tipo  cantidad\n",
       "4              4G      2574\n",
       "6  Telefonía Fija      2243\n",
       "7        Wireless      2224\n",
       "5              3G      1880\n",
       "3    Fibra óptica      1527\n",
       "0            ADSL      1129\n",
       "8       Satelital      1063\n",
       "1      Cablemódem       863\n",
       "2         Dial Up       403"
      ]
     },
     "execution_count": 34,
     "metadata": {},
     "output_type": "execute_result"
    }
   ],
   "source": [
    "cant_tec"
   ]
  },
  {
   "cell_type": "code",
   "execution_count": 35,
   "metadata": {},
   "outputs": [
    {
     "data": {
      "image/png": "[encoded data removed]",
      "text/plain": [
       "<Figure size 1000x600 with 1 Axes>"
      ]
     },
     "metadata": {},
     "output_type": "display_data"
    }
   ],
   "source": [
    "\n",
    "plt.figure(figsize=(10, 6))\n",
    "plt.bar(cant_tec[\"Tipo\"], cant_tec[\"cantidad\"])\n",
    "plt.xlabel(\"Tipo de conexión\")\n",
    "plt.ylabel(\"Cantidad\")\n",
    "plt.title(\"Mayor tipo de conexión\")\n",
    "plt.xticks(rotation=45)  \n",
    "\n",
    "plt.show()"
   ]
  },
  {
   "cell_type": "markdown",
   "metadata": {},
   "source": [
    "Tras realizar nuestra limpieza y observación de los datos, es evidente que existe una marcada disparidad en el acceso a Internet a través de dispositivos móviles, específicamente en lo que respecta a la tecnología 4G"
   ]
  },
  {
   "cell_type": "markdown",
   "metadata": {},
   "source": [
    "# Total nacional de accesos a Internet fijo por banda ancha y banda angosta\n",
    "Número total de accesos al servicio de Internet fijo por banda ancha y banda angosta (trimestral)"
   ]
  },
  {
   "cell_type": "code",
   "execution_count": 38,
   "metadata": {},
   "outputs": [
    {
     "data": {
      "text/html": [
       "<div>\n",
       "<style scoped>\n",
       "    .dataframe tbody tr th:only-of-type {\n",
       "        vertical-align: middle;\n",
       "    }\n",
       "\n",
       "    .dataframe tbody tr th {\n",
       "        vertical-align: top;\n",
       "    }\n",
       "\n",
       "    .dataframe thead th {\n",
       "        text-align: right;\n",
       "    }\n",
       "</style>\n",
       "<table border=\"1\" class=\"dataframe\">\n",
       "  <thead>\n",
       "    <tr style=\"text-align: right;\">\n",
       "      <th></th>\n",
       "      <th>Año</th>\n",
       "      <th>Trimestre</th>\n",
       "      <th>Banda ancha fija</th>\n",
       "      <th>Dial up</th>\n",
       "      <th>Total</th>\n",
       "      <th>Periodo</th>\n",
       "    </tr>\n",
       "  </thead>\n",
       "  <tbody>\n",
       "    <tr>\n",
       "      <th>0</th>\n",
       "      <td>2022</td>\n",
       "      <td>4</td>\n",
       "      <td>11195668</td>\n",
       "      <td>12446</td>\n",
       "      <td>11208114</td>\n",
       "      <td>Oct-Dic 2022</td>\n",
       "    </tr>\n",
       "    <tr>\n",
       "      <th>1</th>\n",
       "      <td>2022</td>\n",
       "      <td>3</td>\n",
       "      <td>11078691</td>\n",
       "      <td>12437</td>\n",
       "      <td>11091128</td>\n",
       "      <td>Jul-Sept 2022</td>\n",
       "    </tr>\n",
       "    <tr>\n",
       "      <th>2</th>\n",
       "      <td>2022</td>\n",
       "      <td>2</td>\n",
       "      <td>10946248</td>\n",
       "      <td>12436</td>\n",
       "      <td>10958684</td>\n",
       "      <td>Abr-Jun 2022</td>\n",
       "    </tr>\n",
       "    <tr>\n",
       "      <th>3</th>\n",
       "      <td>2022</td>\n",
       "      <td>1</td>\n",
       "      <td>10611390</td>\n",
       "      <td>12619</td>\n",
       "      <td>10624009</td>\n",
       "      <td>Ene-Mar 2022</td>\n",
       "    </tr>\n",
       "    <tr>\n",
       "      <th>4</th>\n",
       "      <td>2021</td>\n",
       "      <td>4</td>\n",
       "      <td>10476933</td>\n",
       "      <td>12861</td>\n",
       "      <td>10489794</td>\n",
       "      <td>Oct-Dic 2021</td>\n",
       "    </tr>\n",
       "  </tbody>\n",
       "</table>\n",
       "</div>"
      ],
      "text/plain": [
       "    Año  Trimestre  Banda ancha fija  Dial up     Total        Periodo\n",
       "0  2022          4          11195668    12446  11208114   Oct-Dic 2022\n",
       "1  2022          3          11078691    12437  11091128  Jul-Sept 2022\n",
       "2  2022          2          10946248    12436  10958684   Abr-Jun 2022\n",
       "3  2022          1          10611390    12619  10624009   Ene-Mar 2022\n",
       "4  2021          4          10476933    12861  10489794   Oct-Dic 2021"
      ]
     },
     "execution_count": 38,
     "metadata": {},
     "output_type": "execute_result"
    }
   ],
   "source": [
    "df2.head()"
   ]
  },
  {
   "cell_type": "code",
   "execution_count": 39,
   "metadata": {},
   "outputs": [
    {
     "name": "stdout",
     "output_type": "stream",
     "text": [
      "Año | 0 | int64\n",
      "Trimestre | 0 | int64\n",
      "Banda ancha fija | 0 | int64\n",
      "Dial up | 0 | int64\n",
      "Total | 0 | int64\n"
     ]
    }
   ],
   "source": [
    "outliers_col(df2)"
   ]
  },
  {
   "cell_type": "code",
   "execution_count": 42,
   "metadata": {},
   "outputs": [],
   "source": [
    "df2.drop_duplicates(inplace=True)"
   ]
  },
  {
   "cell_type": "code",
   "execution_count": 43,
   "metadata": {},
   "outputs": [
    {
     "name": "stdout",
     "output_type": "stream",
     "text": [
      "<class 'pandas.core.frame.DataFrame'>\n",
      "RangeIndex: 36 entries, 0 to 35\n",
      "Data columns (total 6 columns):\n",
      " #   Column            Non-Null Count  Dtype \n",
      "---  ------            --------------  ----- \n",
      " 0   Año               36 non-null     int64 \n",
      " 1   Trimestre         36 non-null     int64 \n",
      " 2   Banda ancha fija  36 non-null     int64 \n",
      " 3   Dial up           36 non-null     int64 \n",
      " 4   Total             36 non-null     int64 \n",
      " 5   Periodo           36 non-null     object\n",
      "dtypes: int64(5), object(1)\n",
      "memory usage: 1.8+ KB\n"
     ]
    }
   ],
   "source": [
    "df2.info()"
   ]
  },
  {
   "cell_type": "code",
   "execution_count": 44,
   "metadata": {},
   "outputs": [
    {
     "data": {
      "text/plain": [
       "Año                 0\n",
       "Trimestre           0\n",
       "Banda ancha fija    0\n",
       "Dial up             0\n",
       "Total               0\n",
       "Periodo             0\n",
       "dtype: int64"
      ]
     },
     "execution_count": 44,
     "metadata": {},
     "output_type": "execute_result"
    }
   ],
   "source": [
    "df2.isna().sum()"
   ]
  },
  {
   "cell_type": "code",
   "execution_count": 45,
   "metadata": {},
   "outputs": [],
   "source": [
    "banda_año = df2.groupby(\"Año\").sum()[\"Banda ancha fija\"].reset_index()"
   ]
  },
  {
   "cell_type": "code",
   "execution_count": 46,
   "metadata": {},
   "outputs": [
    {
     "data": {
      "text/html": [
       "<div>\n",
       "<style scoped>\n",
       "    .dataframe tbody tr th:only-of-type {\n",
       "        vertical-align: middle;\n",
       "    }\n",
       "\n",
       "    .dataframe tbody tr th {\n",
       "        vertical-align: top;\n",
       "    }\n",
       "\n",
       "    .dataframe thead th {\n",
       "        text-align: right;\n",
       "    }\n",
       "</style>\n",
       "<table border=\"1\" class=\"dataframe\">\n",
       "  <thead>\n",
       "    <tr style=\"text-align: right;\">\n",
       "      <th></th>\n",
       "      <th>Año</th>\n",
       "      <th>Banda ancha fija</th>\n",
       "    </tr>\n",
       "  </thead>\n",
       "  <tbody>\n",
       "    <tr>\n",
       "      <th>0</th>\n",
       "      <td>2014</td>\n",
       "      <td>25908873</td>\n",
       "    </tr>\n",
       "    <tr>\n",
       "      <th>1</th>\n",
       "      <td>2015</td>\n",
       "      <td>27337549</td>\n",
       "    </tr>\n",
       "    <tr>\n",
       "      <th>2</th>\n",
       "      <td>2016</td>\n",
       "      <td>28373776</td>\n",
       "    </tr>\n",
       "    <tr>\n",
       "      <th>3</th>\n",
       "      <td>2017</td>\n",
       "      <td>30217820</td>\n",
       "    </tr>\n",
       "    <tr>\n",
       "      <th>4</th>\n",
       "      <td>2018</td>\n",
       "      <td>32865578</td>\n",
       "    </tr>\n",
       "    <tr>\n",
       "      <th>5</th>\n",
       "      <td>2019</td>\n",
       "      <td>35490694</td>\n",
       "    </tr>\n",
       "    <tr>\n",
       "      <th>6</th>\n",
       "      <td>2020</td>\n",
       "      <td>36731204</td>\n",
       "    </tr>\n",
       "    <tr>\n",
       "      <th>7</th>\n",
       "      <td>2021</td>\n",
       "      <td>40042775</td>\n",
       "    </tr>\n",
       "    <tr>\n",
       "      <th>8</th>\n",
       "      <td>2022</td>\n",
       "      <td>43831997</td>\n",
       "    </tr>\n",
       "  </tbody>\n",
       "</table>\n",
       "</div>"
      ],
      "text/plain": [
       "    Año  Banda ancha fija\n",
       "0  2014          25908873\n",
       "1  2015          27337549\n",
       "2  2016          28373776\n",
       "3  2017          30217820\n",
       "4  2018          32865578\n",
       "5  2019          35490694\n",
       "6  2020          36731204\n",
       "7  2021          40042775\n",
       "8  2022          43831997"
      ]
     },
     "execution_count": 46,
     "metadata": {},
     "output_type": "execute_result"
    }
   ],
   "source": [
    "banda_año"
   ]
  },
  {
   "cell_type": "code",
   "execution_count": 47,
   "metadata": {},
   "outputs": [
    {
     "data": {
      "image/png": "[encoded data removed]",
      "text/plain": [
       "<Figure size 1000x600 with 1 Axes>"
      ]
     },
     "metadata": {},
     "output_type": "display_data"
    }
   ],
   "source": [
    "sns.set(style=\"white\")\n",
    "\n",
    "plt.figure(figsize=(10, 6))\n",
    "sns.lineplot(data= banda_año, x=\"Año\", y=\"Banda ancha fija\", label=\"Tendecia\")\n",
    "\n",
    "\n",
    "\n",
    "plt.title(\"Banda ancha fija\")\n",
    "plt.xlabel(\"Año\")\n",
    "plt.ylabel(\"Banda ancha fija por año\")\n",
    "plt.xticks(rotation=45)\n",
    "plt.tight_layout()"
   ]
  },
  {
   "cell_type": "markdown",
   "metadata": {},
   "source": [
    " \n",
    "Lo que se puede observar es un constante crecimiento en el acceso a Internet fijo a través de banda ancha a lo largo de los años, a nivel nacional\n",
    "Este desarrollo podría ser un indicador de una mayor infraestructura de telecomunicaciones y una mayor conciencia sobre la importancia de la conectividad de banda ancha, lo que, en última instancia, podría contribuir al progreso y desarrollo tecnológico en el país."
   ]
  },
  {
   "cell_type": "markdown",
   "metadata": {},
   "source": [
    "# Accesos a banda ancha y banda angosta por provincia\n",
    "Número de accesos al servicio de Internet fijo por banda ancha y banda angosta en cada provincia (trimestral)"
   ]
  },
  {
   "cell_type": "code",
   "execution_count": 49,
   "metadata": {},
   "outputs": [
    {
     "data": {
      "text/html": [
       "<div>\n",
       "<style scoped>\n",
       "    .dataframe tbody tr th:only-of-type {\n",
       "        vertical-align: middle;\n",
       "    }\n",
       "\n",
       "    .dataframe tbody tr th {\n",
       "        vertical-align: top;\n",
       "    }\n",
       "\n",
       "    .dataframe thead th {\n",
       "        text-align: right;\n",
       "    }\n",
       "</style>\n",
       "<table border=\"1\" class=\"dataframe\">\n",
       "  <thead>\n",
       "    <tr style=\"text-align: right;\">\n",
       "      <th></th>\n",
       "      <th>Año</th>\n",
       "      <th>Trimestre</th>\n",
       "      <th>Provincia</th>\n",
       "      <th>Banda ancha fija</th>\n",
       "      <th>Dial up</th>\n",
       "      <th>Total</th>\n",
       "    </tr>\n",
       "  </thead>\n",
       "  <tbody>\n",
       "    <tr>\n",
       "      <th>0</th>\n",
       "      <td>2022</td>\n",
       "      <td>4</td>\n",
       "      <td>Buenos Aires</td>\n",
       "      <td>4788466</td>\n",
       "      <td>6199.0</td>\n",
       "      <td>4794665</td>\n",
       "    </tr>\n",
       "    <tr>\n",
       "      <th>1</th>\n",
       "      <td>2022</td>\n",
       "      <td>4</td>\n",
       "      <td>Capital Federal</td>\n",
       "      <td>1549781</td>\n",
       "      <td>2145.0</td>\n",
       "      <td>1551926</td>\n",
       "    </tr>\n",
       "    <tr>\n",
       "      <th>2</th>\n",
       "      <td>2022</td>\n",
       "      <td>4</td>\n",
       "      <td>Catamarca</td>\n",
       "      <td>70908</td>\n",
       "      <td>1.0</td>\n",
       "      <td>70909</td>\n",
       "    </tr>\n",
       "    <tr>\n",
       "      <th>3</th>\n",
       "      <td>2022</td>\n",
       "      <td>4</td>\n",
       "      <td>Chaco</td>\n",
       "      <td>143658</td>\n",
       "      <td>5.0</td>\n",
       "      <td>143663</td>\n",
       "    </tr>\n",
       "    <tr>\n",
       "      <th>4</th>\n",
       "      <td>2022</td>\n",
       "      <td>4</td>\n",
       "      <td>Chubut</td>\n",
       "      <td>167855</td>\n",
       "      <td>904.0</td>\n",
       "      <td>168759</td>\n",
       "    </tr>\n",
       "  </tbody>\n",
       "</table>\n",
       "</div>"
      ],
      "text/plain": [
       "    Año  Trimestre        Provincia  Banda ancha fija  Dial up    Total\n",
       "0  2022          4     Buenos Aires           4788466   6199.0  4794665\n",
       "1  2022          4  Capital Federal           1549781   2145.0  1551926\n",
       "2  2022          4        Catamarca             70908      1.0    70909\n",
       "3  2022          4            Chaco            143658      5.0   143663\n",
       "4  2022          4           Chubut            167855    904.0   168759"
      ]
     },
     "execution_count": 49,
     "metadata": {},
     "output_type": "execute_result"
    }
   ],
   "source": [
    "df3.head()"
   ]
  },
  {
   "cell_type": "code",
   "execution_count": 50,
   "metadata": {},
   "outputs": [
    {
     "name": "stdout",
     "output_type": "stream",
     "text": [
      "Año | 0 | int64\n",
      "Trimestre | 0 | int64\n",
      "Banda ancha fija | 36 | int64\n",
      "Dial up | 0 | float64\n",
      "Total | 36 | int64\n"
     ]
    }
   ],
   "source": [
    "outliers_col(df3)"
   ]
  },
  {
   "cell_type": "code",
   "execution_count": 51,
   "metadata": {},
   "outputs": [],
   "source": [
    "df3.drop_duplicates(inplace=True)"
   ]
  },
  {
   "cell_type": "code",
   "execution_count": 52,
   "metadata": {},
   "outputs": [
    {
     "name": "stdout",
     "output_type": "stream",
     "text": [
      "<class 'pandas.core.frame.DataFrame'>\n",
      "RangeIndex: 864 entries, 0 to 863\n",
      "Data columns (total 6 columns):\n",
      " #   Column            Non-Null Count  Dtype  \n",
      "---  ------            --------------  -----  \n",
      " 0   Año               864 non-null    int64  \n",
      " 1   Trimestre         864 non-null    int64  \n",
      " 2   Provincia         864 non-null    object \n",
      " 3   Banda ancha fija  864 non-null    int64  \n",
      " 4   Dial up           862 non-null    float64\n",
      " 5   Total             864 non-null    int64  \n",
      "dtypes: float64(1), int64(4), object(1)\n",
      "memory usage: 40.6+ KB\n"
     ]
    }
   ],
   "source": [
    "df3.info()"
   ]
  },
  {
   "cell_type": "code",
   "execution_count": 53,
   "metadata": {},
   "outputs": [],
   "source": [
    "filtro = df3.groupby(\"Provincia\").sum()[\"Banda ancha fija\"].reset_index()"
   ]
  },
  {
   "cell_type": "code",
   "execution_count": 54,
   "metadata": {},
   "outputs": [],
   "source": [
    "ord_filtro = filtro.sort_values(\"Banda ancha fija\", ascending=False)"
   ]
  },
  {
   "cell_type": "code",
   "execution_count": 55,
   "metadata": {},
   "outputs": [
    {
     "data": {
      "text/html": [
       "<div>\n",
       "<style scoped>\n",
       "    .dataframe tbody tr th:only-of-type {\n",
       "        vertical-align: middle;\n",
       "    }\n",
       "\n",
       "    .dataframe tbody tr th {\n",
       "        vertical-align: top;\n",
       "    }\n",
       "\n",
       "    .dataframe thead th {\n",
       "        text-align: right;\n",
       "    }\n",
       "</style>\n",
       "<table border=\"1\" class=\"dataframe\">\n",
       "  <thead>\n",
       "    <tr style=\"text-align: right;\">\n",
       "      <th></th>\n",
       "      <th>Provincia</th>\n",
       "      <th>Banda ancha fija</th>\n",
       "    </tr>\n",
       "  </thead>\n",
       "  <tbody>\n",
       "    <tr>\n",
       "      <th>0</th>\n",
       "      <td>Buenos Aires</td>\n",
       "      <td>127802822</td>\n",
       "    </tr>\n",
       "    <tr>\n",
       "      <th>1</th>\n",
       "      <td>Capital Federal</td>\n",
       "      <td>50416407</td>\n",
       "    </tr>\n",
       "    <tr>\n",
       "      <th>6</th>\n",
       "      <td>Córdoba</td>\n",
       "      <td>27311083</td>\n",
       "    </tr>\n",
       "    <tr>\n",
       "      <th>20</th>\n",
       "      <td>Santa Fe</td>\n",
       "      <td>24831612</td>\n",
       "    </tr>\n",
       "    <tr>\n",
       "      <th>7</th>\n",
       "      <td>Entre Ríos</td>\n",
       "      <td>7520333</td>\n",
       "    </tr>\n",
       "  </tbody>\n",
       "</table>\n",
       "</div>"
      ],
      "text/plain": [
       "          Provincia  Banda ancha fija\n",
       "0      Buenos Aires         127802822\n",
       "1   Capital Federal          50416407\n",
       "6           Córdoba          27311083\n",
       "20         Santa Fe          24831612\n",
       "7        Entre Ríos           7520333"
      ]
     },
     "execution_count": 55,
     "metadata": {},
     "output_type": "execute_result"
    }
   ],
   "source": [
    "ord_filtro.head()"
   ]
  },
  {
   "cell_type": "code",
   "execution_count": 56,
   "metadata": {},
   "outputs": [
    {
     "data": {
      "image/png": "[encoded data removed]",
      "text/plain": [
       "<Figure size 1000x600 with 1 Axes>"
      ]
     },
     "metadata": {},
     "output_type": "display_data"
    }
   ],
   "source": [
    "plt.figure(figsize=(10, 6))\n",
    "plt.bar(ord_filtro[\"Provincia\"], ord_filtro[\"Banda ancha fija\"])\n",
    "plt.xlabel(\"Provincia\")\n",
    "plt.ylabel(\"Cantidad de banda ancha\")\n",
    "plt.title(\"Banda ancha fija por provincia\")\n",
    "plt.xticks(rotation=90)\n",
    "\n",
    "plt.show()"
   ]
  },
  {
   "cell_type": "markdown",
   "metadata": {},
   "source": [
    "Es innegable que existe una disparidad significativa en el acceso a banda ancha entre las principales provincias, como Buenos Aires, CABA o Córdoba, y las provincias más al sur, como Tierra del Fuego o Santa Cruz. Esta disparidad posiblemente se deba a las diferencias en la densidad de población. Las provincias con mayor cantidad de habitantes pueden tener una infraestructura de telecomunicaciones más desarrollada y una mayor competencia en el mercado, lo que facilita un acceso más amplio a la banda ancha."
   ]
  },
  {
   "cell_type": "markdown",
   "metadata": {},
   "source": [
    "# Acceso a Internet Fijo por rangos de velocidad de bajada\n",
    "Número de accesos al servicio de Internet fijo por velocidad de bajada nacional (trimestral)"
   ]
  },
  {
   "cell_type": "code",
   "execution_count": 66,
   "metadata": {},
   "outputs": [
    {
     "data": {
      "text/html": [
       "<div>\n",
       "<style scoped>\n",
       "    .dataframe tbody tr th:only-of-type {\n",
       "        vertical-align: middle;\n",
       "    }\n",
       "\n",
       "    .dataframe tbody tr th {\n",
       "        vertical-align: top;\n",
       "    }\n",
       "\n",
       "    .dataframe thead th {\n",
       "        text-align: right;\n",
       "    }\n",
       "</style>\n",
       "<table border=\"1\" class=\"dataframe\">\n",
       "  <thead>\n",
       "    <tr style=\"text-align: right;\">\n",
       "      <th></th>\n",
       "      <th>Año</th>\n",
       "      <th>Trimestre</th>\n",
       "      <th>Hasta 512 kbps</th>\n",
       "      <th>Entre 512 Kbps y 1 Mbps</th>\n",
       "      <th>Entre 1 Mbps y 6 Mbps</th>\n",
       "      <th>Entre 6 Mbps y 10 Mbps</th>\n",
       "      <th>Entre 10 Mbps y 20 Mbps</th>\n",
       "      <th>Entre 20 Mbps y 30 Mbps</th>\n",
       "      <th>Más de 30 Mbps</th>\n",
       "      <th>OTROS</th>\n",
       "      <th>Total</th>\n",
       "    </tr>\n",
       "  </thead>\n",
       "  <tbody>\n",
       "    <tr>\n",
       "      <th>0</th>\n",
       "      <td>2022</td>\n",
       "      <td>4</td>\n",
       "      <td>31981</td>\n",
       "      <td>85668</td>\n",
       "      <td>1075272</td>\n",
       "      <td>1109421</td>\n",
       "      <td>765015</td>\n",
       "      <td>335573</td>\n",
       "      <td>7410902</td>\n",
       "      <td>394282</td>\n",
       "      <td>11208114</td>\n",
       "    </tr>\n",
       "    <tr>\n",
       "      <th>1</th>\n",
       "      <td>2022</td>\n",
       "      <td>3</td>\n",
       "      <td>33013</td>\n",
       "      <td>96727</td>\n",
       "      <td>1161370</td>\n",
       "      <td>1151906</td>\n",
       "      <td>823505</td>\n",
       "      <td>479822</td>\n",
       "      <td>6995750</td>\n",
       "      <td>349035</td>\n",
       "      <td>11091128</td>\n",
       "    </tr>\n",
       "    <tr>\n",
       "      <th>2</th>\n",
       "      <td>2022</td>\n",
       "      <td>2</td>\n",
       "      <td>33667</td>\n",
       "      <td>99498</td>\n",
       "      <td>1193090</td>\n",
       "      <td>1197030</td>\n",
       "      <td>856562</td>\n",
       "      <td>485321</td>\n",
       "      <td>6741922</td>\n",
       "      <td>351594</td>\n",
       "      <td>10958684</td>\n",
       "    </tr>\n",
       "    <tr>\n",
       "      <th>3</th>\n",
       "      <td>2022</td>\n",
       "      <td>1</td>\n",
       "      <td>34890</td>\n",
       "      <td>104840</td>\n",
       "      <td>1263273</td>\n",
       "      <td>1209148</td>\n",
       "      <td>967508</td>\n",
       "      <td>509830</td>\n",
       "      <td>6336187</td>\n",
       "      <td>198333</td>\n",
       "      <td>10624009</td>\n",
       "    </tr>\n",
       "    <tr>\n",
       "      <th>4</th>\n",
       "      <td>2021</td>\n",
       "      <td>4</td>\n",
       "      <td>41262</td>\n",
       "      <td>28521</td>\n",
       "      <td>1413208</td>\n",
       "      <td>1245333</td>\n",
       "      <td>976539</td>\n",
       "      <td>558358</td>\n",
       "      <td>6032322</td>\n",
       "      <td>194251</td>\n",
       "      <td>10489794</td>\n",
       "    </tr>\n",
       "  </tbody>\n",
       "</table>\n",
       "</div>"
      ],
      "text/plain": [
       "    Año  Trimestre  Hasta 512 kbps  Entre 512 Kbps y 1 Mbps  \\\n",
       "0  2022          4           31981                    85668   \n",
       "1  2022          3           33013                    96727   \n",
       "2  2022          2           33667                    99498   \n",
       "3  2022          1           34890                   104840   \n",
       "4  2021          4           41262                    28521   \n",
       "\n",
       "   Entre 1 Mbps y 6 Mbps  Entre 6 Mbps y 10 Mbps  Entre 10 Mbps y 20 Mbps  \\\n",
       "0                1075272                 1109421                   765015   \n",
       "1                1161370                 1151906                   823505   \n",
       "2                1193090                 1197030                   856562   \n",
       "3                1263273                 1209148                   967508   \n",
       "4                1413208                 1245333                   976539   \n",
       "\n",
       "   Entre 20 Mbps y 30 Mbps  Más de 30 Mbps   OTROS     Total  \n",
       "0                   335573         7410902  394282  11208114  \n",
       "1                   479822         6995750  349035  11091128  \n",
       "2                   485321         6741922  351594  10958684  \n",
       "3                   509830         6336187  198333  10624009  \n",
       "4                   558358         6032322  194251  10489794  "
      ]
     },
     "execution_count": 66,
     "metadata": {},
     "output_type": "execute_result"
    }
   ],
   "source": [
    "df4.head()"
   ]
  },
  {
   "cell_type": "code",
   "execution_count": 68,
   "metadata": {},
   "outputs": [
    {
     "name": "stdout",
     "output_type": "stream",
     "text": [
      "Año | 0 | int64\n",
      "Trimestre | 0 | int64\n",
      "Hasta 512 kbps | 1 | int64\n",
      "Entre 512 Kbps y 1 Mbps | 0 | int64\n",
      "Entre 1 Mbps y 6 Mbps | 0 | int64\n",
      "Entre 6 Mbps y 10 Mbps | 0 | int64\n",
      "Entre 10 Mbps y 20 Mbps | 0 | int64\n",
      "Entre 20 Mbps y 30 Mbps | 0 | int64\n",
      "Más de 30 Mbps | 0 | int64\n",
      "OTROS | 0 | int64\n",
      "Total | 0 | int64\n"
     ]
    }
   ],
   "source": [
    "outliers_col(df4)"
   ]
  },
  {
   "cell_type": "code",
   "execution_count": 67,
   "metadata": {},
   "outputs": [
    {
     "name": "stdout",
     "output_type": "stream",
     "text": [
      "<class 'pandas.core.frame.DataFrame'>\n",
      "RangeIndex: 36 entries, 0 to 35\n",
      "Data columns (total 11 columns):\n",
      " #   Column                   Non-Null Count  Dtype\n",
      "---  ------                   --------------  -----\n",
      " 0   Año                      36 non-null     int64\n",
      " 1   Trimestre                36 non-null     int64\n",
      " 2   Hasta 512 kbps           36 non-null     int64\n",
      " 3   Entre 512 Kbps y 1 Mbps  36 non-null     int64\n",
      " 4   Entre 1 Mbps y 6 Mbps    36 non-null     int64\n",
      " 5   Entre 6 Mbps y 10 Mbps   36 non-null     int64\n",
      " 6   Entre 10 Mbps y 20 Mbps  36 non-null     int64\n",
      " 7   Entre 20 Mbps y 30 Mbps  36 non-null     int64\n",
      " 8   Más de 30 Mbps           36 non-null     int64\n",
      " 9   OTROS                    36 non-null     int64\n",
      " 10  Total                    36 non-null     int64\n",
      "dtypes: int64(11)\n",
      "memory usage: 3.2 KB\n"
     ]
    }
   ],
   "source": [
    "df4.info()"
   ]
  },
  {
   "cell_type": "markdown",
   "metadata": {},
   "source": [
    "# Acceso a Internet Fijo por rangos de velocidad de bajada y provincia\n",
    "Número de accesos al servicio de Internet fijo por velocidad de bajada en cada provincia (trimestral)"
   ]
  },
  {
   "cell_type": "code",
   "execution_count": 70,
   "metadata": {},
   "outputs": [
    {
     "data": {
      "text/html": [
       "<div>\n",
       "<style scoped>\n",
       "    .dataframe tbody tr th:only-of-type {\n",
       "        vertical-align: middle;\n",
       "    }\n",
       "\n",
       "    .dataframe tbody tr th {\n",
       "        vertical-align: top;\n",
       "    }\n",
       "\n",
       "    .dataframe thead th {\n",
       "        text-align: right;\n",
       "    }\n",
       "</style>\n",
       "<table border=\"1\" class=\"dataframe\">\n",
       "  <thead>\n",
       "    <tr style=\"text-align: right;\">\n",
       "      <th></th>\n",
       "      <th>Año</th>\n",
       "      <th>Trimestre</th>\n",
       "      <th>Provincia</th>\n",
       "      <th>HASTA 512 kbps</th>\n",
       "      <th>+ 512 Kbps - 1 Mbps</th>\n",
       "      <th>+ 1 Mbps - 6 Mbps</th>\n",
       "      <th>+ 6 Mbps - 10 Mbps</th>\n",
       "      <th>+ 10 Mbps - 20 Mbps</th>\n",
       "      <th>+ 20 Mbps - 30 Mbps</th>\n",
       "      <th>+ 30 Mbps</th>\n",
       "      <th>OTROS</th>\n",
       "      <th>Total</th>\n",
       "    </tr>\n",
       "  </thead>\n",
       "  <tbody>\n",
       "    <tr>\n",
       "      <th>0</th>\n",
       "      <td>2022</td>\n",
       "      <td>4</td>\n",
       "      <td>Buenos Aires</td>\n",
       "      <td>28934.0</td>\n",
       "      <td>23347.0</td>\n",
       "      <td>259866.0</td>\n",
       "      <td>281550.0</td>\n",
       "      <td>244555.0</td>\n",
       "      <td>98670.0</td>\n",
       "      <td>3760109.0</td>\n",
       "      <td>97634.0</td>\n",
       "      <td>4794665.0</td>\n",
       "    </tr>\n",
       "    <tr>\n",
       "      <th>1</th>\n",
       "      <td>2022</td>\n",
       "      <td>4</td>\n",
       "      <td>Capital Federal</td>\n",
       "      <td>516.0</td>\n",
       "      <td>5096.0</td>\n",
       "      <td>31320.0</td>\n",
       "      <td>64653.0</td>\n",
       "      <td>36336.0</td>\n",
       "      <td>8116.0</td>\n",
       "      <td>1299117.0</td>\n",
       "      <td>106772.0</td>\n",
       "      <td>1551926.0</td>\n",
       "    </tr>\n",
       "    <tr>\n",
       "      <th>2</th>\n",
       "      <td>2022</td>\n",
       "      <td>4</td>\n",
       "      <td>Catamarca</td>\n",
       "      <td>71.0</td>\n",
       "      <td>315.0</td>\n",
       "      <td>2716.0</td>\n",
       "      <td>5028.0</td>\n",
       "      <td>4638.0</td>\n",
       "      <td>3122.0</td>\n",
       "      <td>52739.0</td>\n",
       "      <td>2280.0</td>\n",
       "      <td>70909.0</td>\n",
       "    </tr>\n",
       "    <tr>\n",
       "      <th>3</th>\n",
       "      <td>2022</td>\n",
       "      <td>4</td>\n",
       "      <td>Chaco</td>\n",
       "      <td>461.0</td>\n",
       "      <td>771.0</td>\n",
       "      <td>16067.0</td>\n",
       "      <td>17846.0</td>\n",
       "      <td>6704.0</td>\n",
       "      <td>3039.0</td>\n",
       "      <td>94866.0</td>\n",
       "      <td>3909.0</td>\n",
       "      <td>143663.0</td>\n",
       "    </tr>\n",
       "    <tr>\n",
       "      <th>4</th>\n",
       "      <td>2022</td>\n",
       "      <td>4</td>\n",
       "      <td>Chubut</td>\n",
       "      <td>109.0</td>\n",
       "      <td>1614.0</td>\n",
       "      <td>46457.0</td>\n",
       "      <td>31007.0</td>\n",
       "      <td>34728.0</td>\n",
       "      <td>15770.0</td>\n",
       "      <td>19048.0</td>\n",
       "      <td>20026.0</td>\n",
       "      <td>168759.0</td>\n",
       "    </tr>\n",
       "  </tbody>\n",
       "</table>\n",
       "</div>"
      ],
      "text/plain": [
       "    Año  Trimestre        Provincia  HASTA 512 kbps  + 512 Kbps - 1 Mbps  \\\n",
       "0  2022          4     Buenos Aires         28934.0              23347.0   \n",
       "1  2022          4  Capital Federal           516.0               5096.0   \n",
       "2  2022          4        Catamarca            71.0                315.0   \n",
       "3  2022          4            Chaco           461.0                771.0   \n",
       "4  2022          4           Chubut           109.0               1614.0   \n",
       "\n",
       "   + 1 Mbps - 6 Mbps  + 6 Mbps - 10 Mbps  + 10 Mbps - 20 Mbps  \\\n",
       "0           259866.0            281550.0             244555.0   \n",
       "1            31320.0             64653.0              36336.0   \n",
       "2             2716.0              5028.0               4638.0   \n",
       "3            16067.0             17846.0               6704.0   \n",
       "4            46457.0             31007.0              34728.0   \n",
       "\n",
       "   + 20 Mbps - 30 Mbps  + 30 Mbps     OTROS      Total  \n",
       "0              98670.0  3760109.0   97634.0  4794665.0  \n",
       "1               8116.0  1299117.0  106772.0  1551926.0  \n",
       "2               3122.0    52739.0    2280.0    70909.0  \n",
       "3               3039.0    94866.0    3909.0   143663.0  \n",
       "4              15770.0    19048.0   20026.0   168759.0  "
      ]
     },
     "execution_count": 70,
     "metadata": {},
     "output_type": "execute_result"
    }
   ],
   "source": [
    "df5.head()"
   ]
  },
  {
   "cell_type": "code",
   "execution_count": 72,
   "metadata": {},
   "outputs": [],
   "source": [
    "df5.drop_duplicates(inplace=True)"
   ]
  },
  {
   "cell_type": "code",
   "execution_count": 73,
   "metadata": {},
   "outputs": [
    {
     "name": "stdout",
     "output_type": "stream",
     "text": [
      "Año | 0 | int64\n",
      "Trimestre | 0 | int64\n",
      "HASTA 512 kbps | 4 | float64\n",
      "+ 512 Kbps - 1 Mbps | 30 | float64\n",
      "+ 1 Mbps - 6 Mbps | 23 | float64\n",
      "+ 6 Mbps - 10 Mbps | 29 | float64\n",
      "+ 10 Mbps - 20 Mbps | 21 | float64\n",
      "+ 20 Mbps - 30 Mbps | 15 | float64\n",
      "+ 30 Mbps | 18 | float64\n",
      "OTROS | 0 | float64\n",
      "Total | 36 | float64\n"
     ]
    }
   ],
   "source": [
    "outliers_col(df5)"
   ]
  },
  {
   "cell_type": "code",
   "execution_count": 74,
   "metadata": {},
   "outputs": [
    {
     "name": "stdout",
     "output_type": "stream",
     "text": [
      "<class 'pandas.core.frame.DataFrame'>\n",
      "RangeIndex: 864 entries, 0 to 863\n",
      "Data columns (total 12 columns):\n",
      " #   Column               Non-Null Count  Dtype  \n",
      "---  ------               --------------  -----  \n",
      " 0   Año                  864 non-null    int64  \n",
      " 1   Trimestre            864 non-null    int64  \n",
      " 2   Provincia            864 non-null    object \n",
      " 3   HASTA 512 kbps       864 non-null    float64\n",
      " 4   + 512 Kbps - 1 Mbps  864 non-null    float64\n",
      " 5   + 1 Mbps - 6 Mbps    864 non-null    float64\n",
      " 6   + 6 Mbps - 10 Mbps   864 non-null    float64\n",
      " 7   + 10 Mbps - 20 Mbps  864 non-null    float64\n",
      " 8   + 20 Mbps - 30 Mbps  864 non-null    float64\n",
      " 9   + 30 Mbps            864 non-null    float64\n",
      " 10  OTROS                858 non-null    float64\n",
      " 11  Total                864 non-null    float64\n",
      "dtypes: float64(9), int64(2), object(1)\n",
      "memory usage: 81.1+ KB\n"
     ]
    }
   ],
   "source": [
    "df5.info()"
   ]
  },
  {
   "cell_type": "markdown",
   "metadata": {},
   "source": [
    "# Accesos a Internet fijo por velocidad bajada y provincia\n",
    "Número de accesos al servicio de Internet fijo por velocidad de bajada en cada provincia"
   ]
  },
  {
   "cell_type": "code",
   "execution_count": 78,
   "metadata": {},
   "outputs": [
    {
     "data": {
      "text/html": [
       "<div>\n",
       "<style scoped>\n",
       "    .dataframe tbody tr th:only-of-type {\n",
       "        vertical-align: middle;\n",
       "    }\n",
       "\n",
       "    .dataframe tbody tr th {\n",
       "        vertical-align: top;\n",
       "    }\n",
       "\n",
       "    .dataframe thead th {\n",
       "        text-align: right;\n",
       "    }\n",
       "</style>\n",
       "<table border=\"1\" class=\"dataframe\">\n",
       "  <thead>\n",
       "    <tr style=\"text-align: right;\">\n",
       "      <th></th>\n",
       "      <th>Año</th>\n",
       "      <th>Trimestre</th>\n",
       "      <th>Provincia</th>\n",
       "      <th>Otros</th>\n",
       "      <th>0,256 Mbps</th>\n",
       "      <th>0,375 Mbps</th>\n",
       "      <th>0,625 Mbps</th>\n",
       "      <th>0,5 Mbps</th>\n",
       "      <th>0,512 Mbps</th>\n",
       "      <th>0,75 Mbps</th>\n",
       "      <th>...</th>\n",
       "      <th>2048 Mbps</th>\n",
       "      <th>2529 Mbps</th>\n",
       "      <th>3072 Mbps</th>\n",
       "      <th>4000 Mbps</th>\n",
       "      <th>5000 Mbps</th>\n",
       "      <th>5125 Mbps</th>\n",
       "      <th>6000 Mbps</th>\n",
       "      <th>7000 Mbps</th>\n",
       "      <th>8000 Mbps</th>\n",
       "      <th>10000 Mbps</th>\n",
       "    </tr>\n",
       "  </thead>\n",
       "  <tbody>\n",
       "    <tr>\n",
       "      <th>0</th>\n",
       "      <td>2022.0</td>\n",
       "      <td>4.0</td>\n",
       "      <td>Buenos Aires</td>\n",
       "      <td>97634.0</td>\n",
       "      <td>18.0</td>\n",
       "      <td>0.0</td>\n",
       "      <td>0.0</td>\n",
       "      <td>28724.0</td>\n",
       "      <td>192.0</td>\n",
       "      <td>4611.0</td>\n",
       "      <td>...</td>\n",
       "      <td>0.0</td>\n",
       "      <td>0.0</td>\n",
       "      <td>0.0</td>\n",
       "      <td>0.0</td>\n",
       "      <td>0.0</td>\n",
       "      <td>0.0</td>\n",
       "      <td>0.0</td>\n",
       "      <td>0.0</td>\n",
       "      <td>0.0</td>\n",
       "      <td>0.0</td>\n",
       "    </tr>\n",
       "    <tr>\n",
       "      <th>1</th>\n",
       "      <td>2022.0</td>\n",
       "      <td>4.0</td>\n",
       "      <td>Capital Federal</td>\n",
       "      <td>106772.0</td>\n",
       "      <td>31.0</td>\n",
       "      <td>0.0</td>\n",
       "      <td>0.0</td>\n",
       "      <td>451.0</td>\n",
       "      <td>34.0</td>\n",
       "      <td>1307.0</td>\n",
       "      <td>...</td>\n",
       "      <td>0.0</td>\n",
       "      <td>0.0</td>\n",
       "      <td>0.0</td>\n",
       "      <td>0.0</td>\n",
       "      <td>0.0</td>\n",
       "      <td>0.0</td>\n",
       "      <td>0.0</td>\n",
       "      <td>0.0</td>\n",
       "      <td>0.0</td>\n",
       "      <td>0.0</td>\n",
       "    </tr>\n",
       "    <tr>\n",
       "      <th>2</th>\n",
       "      <td>2022.0</td>\n",
       "      <td>4.0</td>\n",
       "      <td>Catamarca</td>\n",
       "      <td>2280.0</td>\n",
       "      <td>0.0</td>\n",
       "      <td>0.0</td>\n",
       "      <td>0.0</td>\n",
       "      <td>34.0</td>\n",
       "      <td>37.0</td>\n",
       "      <td>0.0</td>\n",
       "      <td>...</td>\n",
       "      <td>0.0</td>\n",
       "      <td>0.0</td>\n",
       "      <td>0.0</td>\n",
       "      <td>0.0</td>\n",
       "      <td>0.0</td>\n",
       "      <td>0.0</td>\n",
       "      <td>0.0</td>\n",
       "      <td>0.0</td>\n",
       "      <td>0.0</td>\n",
       "      <td>0.0</td>\n",
       "    </tr>\n",
       "    <tr>\n",
       "      <th>3</th>\n",
       "      <td>2022.0</td>\n",
       "      <td>4.0</td>\n",
       "      <td>Chaco</td>\n",
       "      <td>3909.0</td>\n",
       "      <td>0.0</td>\n",
       "      <td>225.0</td>\n",
       "      <td>111.0</td>\n",
       "      <td>234.0</td>\n",
       "      <td>2.0</td>\n",
       "      <td>0.0</td>\n",
       "      <td>...</td>\n",
       "      <td>0.0</td>\n",
       "      <td>0.0</td>\n",
       "      <td>0.0</td>\n",
       "      <td>0.0</td>\n",
       "      <td>0.0</td>\n",
       "      <td>0.0</td>\n",
       "      <td>0.0</td>\n",
       "      <td>0.0</td>\n",
       "      <td>0.0</td>\n",
       "      <td>0.0</td>\n",
       "    </tr>\n",
       "    <tr>\n",
       "      <th>4</th>\n",
       "      <td>2022.0</td>\n",
       "      <td>4.0</td>\n",
       "      <td>Chubut</td>\n",
       "      <td>20026.0</td>\n",
       "      <td>8.0</td>\n",
       "      <td>0.0</td>\n",
       "      <td>0.0</td>\n",
       "      <td>69.0</td>\n",
       "      <td>32.0</td>\n",
       "      <td>836.0</td>\n",
       "      <td>...</td>\n",
       "      <td>0.0</td>\n",
       "      <td>0.0</td>\n",
       "      <td>0.0</td>\n",
       "      <td>0.0</td>\n",
       "      <td>0.0</td>\n",
       "      <td>0.0</td>\n",
       "      <td>0.0</td>\n",
       "      <td>0.0</td>\n",
       "      <td>0.0</td>\n",
       "      <td>0.0</td>\n",
       "    </tr>\n",
       "  </tbody>\n",
       "</table>\n",
       "<p>5 rows × 186 columns</p>\n",
       "</div>"
      ],
      "text/plain": [
       "      Año  Trimestre        Provincia     Otros  0,256 Mbps  0,375 Mbps  \\\n",
       "0  2022.0        4.0     Buenos Aires   97634.0        18.0         0.0   \n",
       "1  2022.0        4.0  Capital Federal  106772.0        31.0         0.0   \n",
       "2  2022.0        4.0        Catamarca    2280.0         0.0         0.0   \n",
       "3  2022.0        4.0            Chaco    3909.0         0.0       225.0   \n",
       "4  2022.0        4.0           Chubut   20026.0         8.0         0.0   \n",
       "\n",
       "   0,625 Mbps  0,5 Mbps  0,512 Mbps  0,75 Mbps  ...  2048 Mbps  2529 Mbps  \\\n",
       "0         0.0   28724.0       192.0     4611.0  ...        0.0        0.0   \n",
       "1         0.0     451.0        34.0     1307.0  ...        0.0        0.0   \n",
       "2         0.0      34.0        37.0        0.0  ...        0.0        0.0   \n",
       "3       111.0     234.0         2.0        0.0  ...        0.0        0.0   \n",
       "4         0.0      69.0        32.0      836.0  ...        0.0        0.0   \n",
       "\n",
       "   3072 Mbps  4000 Mbps  5000 Mbps  5125 Mbps  6000 Mbps  7000 Mbps  \\\n",
       "0        0.0        0.0        0.0        0.0        0.0        0.0   \n",
       "1        0.0        0.0        0.0        0.0        0.0        0.0   \n",
       "2        0.0        0.0        0.0        0.0        0.0        0.0   \n",
       "3        0.0        0.0        0.0        0.0        0.0        0.0   \n",
       "4        0.0        0.0        0.0        0.0        0.0        0.0   \n",
       "\n",
       "   8000 Mbps  10000 Mbps  \n",
       "0        0.0         0.0  \n",
       "1        0.0         0.0  \n",
       "2        0.0         0.0  \n",
       "3        0.0         0.0  \n",
       "4        0.0         0.0  \n",
       "\n",
       "[5 rows x 186 columns]"
      ]
     },
     "execution_count": 78,
     "metadata": {},
     "output_type": "execute_result"
    }
   ],
   "source": [
    "df6.head()"
   ]
  },
  {
   "cell_type": "code",
   "execution_count": 79,
   "metadata": {},
   "outputs": [],
   "source": [
    "df6.drop_duplicates(inplace=True)"
   ]
  },
  {
   "cell_type": "code",
   "execution_count": 80,
   "metadata": {},
   "outputs": [
    {
     "name": "stdout",
     "output_type": "stream",
     "text": [
      "Año | 0 | float64\n",
      "Trimestre | 0 | float64\n",
      "Otros | 0 | float64\n",
      "0,256 Mbps | 0 | float64\n",
      "0,375 Mbps | 0 | float64\n",
      "0,625 Mbps | 0 | float64\n",
      "0,5 Mbps | 0 | float64\n",
      "0,512 Mbps | 0 | float64\n",
      "0,75 Mbps | 0 | float64\n",
      "1 Mbps | 0 | float64\n",
      "1,2 Mbps | 0 | float64\n",
      "1,25 Mbps | 0 | float64\n",
      "1,5 Mbps | 0 | float64\n",
      "2 Mbps | 0 | float64\n",
      "2,2 Mbps | 0 | float64\n",
      "2,5 Mbps | 8 | int64\n",
      "6,7 Mbps | 0 | float64\n",
      "3 Mbps | 0 | float64\n",
      "3,2 Mbps | 0 | float64\n",
      "3,3 Mbps | 0 | float64\n",
      "3,5 Mbps | 0 | float64\n",
      "4 Mbps | 0 | float64\n",
      "4,5 Mbps | 0 | float64\n",
      "5 Mbps | 0 | float64\n",
      "6 Mbps | 0 | float64\n",
      "6,4 Mbps | 0 | float64\n",
      "7 Mbps | 0 | float64\n",
      "7,5 Mbps | 0 | float64\n",
      "8 Mbps | 0 | float64\n",
      "9 Mbps | 0 | float64\n",
      "10 Mbps | 0 | float64\n",
      "10,2 Mbps | 0 | float64\n",
      "10,6 Mbps | 0 | float64\n",
      "11 Mbps | 0 | float64\n",
      "12 Mbps | 0 | float64\n",
      "12,3 Mbps | 0 | float64\n",
      "13 Mbps | 0 | float64\n",
      "14 Mbps | 0 | float64\n",
      "15 Mbps | 0 | float64\n",
      "16 Mbps | 0 | float64\n",
      "17 Mbps | 0 | float64\n",
      "18 Mbps | 0 | float64\n",
      "19 Mbps | 0 | float64\n",
      "20 Mbps | 0 | float64\n",
      "20,5 Mbps | 0 | float64\n",
      "21 Mbps | 0 | float64\n",
      "22 Mbps | 0 | float64\n",
      "23 Mbps | 0 | float64\n",
      "24 Mbps | 0 | float64\n",
      "25 Mbps | 0 | float64\n",
      "25,1 Mbps | 0 | float64\n",
      "25,11 Mbps | 0 | float64\n",
      "25,5 Mbps | 0 | float64\n",
      "26 Mbps | 0 | float64\n",
      "27 Mbps | 0 | float64\n",
      "28 Mbps | 0 | float64\n",
      "29 Mbps | 0 | float64\n",
      "30 Mbps | 0 | float64\n",
      "31 Mbps | 0 | float64\n",
      "32 Mbps | 0 | float64\n",
      "34 Mbps | 0 | float64\n",
      "35 Mbps | 0 | float64\n",
      "36 Mbps | 0 | float64\n",
      "37 Mbps | 0 | float64\n",
      "38 Mbps | 0 | float64\n",
      "39 Mbps | 0 | float64\n",
      "40 Mbps | 0 | float64\n",
      "41 Mbps | 0 | float64\n",
      "45 Mbps | 0 | float64\n",
      "46 Mbps | 0 | float64\n",
      "47 Mbps | 0 | float64\n",
      "48 Mbps | 0 | float64\n",
      "49 Mbps | 0 | float64\n",
      "50 Mbps | 0 | float64\n",
      "50,1 Mbps | 0 | float64\n",
      "51 Mbps | 0 | float64\n",
      "50,25 Mbps | 0 | float64\n",
      "52 Mbps | 0 | float64\n",
      "54 Mbps | 0 | float64\n",
      "55 Mbps | 0 | float64\n",
      "56 Mbps | 0 | float64\n",
      "58 Mbps | 0 | float64\n",
      "59 Mbps | 0 | float64\n",
      "60 Mbps | 0 | float64\n",
      "61 Mbps | 0 | float64\n",
      "62 Mbps | 0 | float64\n",
      "63 Mbps | 0 | float64\n",
      "64 Mbps | 0 | float64\n",
      "65 Mbps | 0 | float64\n",
      "66 Mbps | 0 | float64\n",
      "67 Mbps | 0 | float64\n",
      "68 Mbps | 0 | float64\n",
      "70 Mbps | 0 | float64\n",
      "71 Mbps | 0 | float64\n",
      "75 Mbps | 0 | float64\n",
      "77 Mbps | 0 | float64\n",
      "78 Mbps | 0 | float64\n",
      "80 Mbps | 0 | float64\n",
      "81 Mbps | 0 | float64\n",
      "83 Mbps | 0 | float64\n",
      "82 Mbps | 0 | float64\n",
      "86 Mbps | 0 | float64\n",
      "84 Mbps | 0 | float64\n",
      "85 Mbps | 0 | float64\n",
      "90 Mbps | 0 | float64\n",
      "91 Mbps | 0 | float64\n",
      "92 Mbps | 0 | float64\n",
      "95 Mbps | 0 | float64\n",
      "98 Mbps | 0 | float64\n",
      "100 Mbps | 0 | float64\n",
      "100,25 Mbps | 0 | float64\n",
      "105 Mbps | 0 | float64\n",
      "109 Mbps | 0 | float64\n",
      "110 Mbps | 0 | float64\n",
      "120 Mbps | 0 | float64\n",
      "122 Mbps | 0 | float64\n",
      "125 Mbps | 0 | float64\n",
      "126 Mbps | 0 | float64\n",
      "127 Mbps | 0 | float64\n",
      "128 Mbps | 0 | float64\n",
      "130 Mbps | 0 | float64\n",
      "131 Mbps | 0 | float64\n",
      "134 Mbps | 0 | float64\n",
      "137 Mbps | 0 | float64\n",
      "140 Mbps | 0 | float64\n",
      "145 Mbps | 0 | float64\n",
      "150 Mbps | 0 | float64\n",
      "157 Mbps | 0 | float64\n",
      "158 Mbps | 0 | float64\n",
      "160 Mbps | 0 | float64\n",
      "164 Mbps | 0 | float64\n",
      "165 Mbps | 0 | float64\n",
      "180 Mbps | 0 | float64\n",
      "200 Mbps | 0 | float64\n",
      "203 Mbps | 0 | float64\n",
      "212 Mbps | 0 | float64\n",
      "220 Mbps | 0 | float64\n",
      "225 Mbps | 0 | float64\n",
      "234 Mbps | 0 | float64\n",
      "240 Mbps | 0 | float64\n",
      "250 Mbps | 0 | float64\n",
      "256 Mbps | 0 | float64\n",
      "270 Mbps | 0 | float64\n",
      "275 Mbps | 0 | float64\n",
      "300 Mbps | 0 | float64\n",
      "320 Mbps | 0 | float64\n",
      "325 Mbps | 0 | float64\n",
      "330 Mbps | 0 | float64\n",
      "340 Mbps | 0 | float64\n",
      "350 Mbps | 0 | float64\n",
      "380 Mbps | 0 | float64\n",
      "384 Mbps | 0 | float64\n",
      "400 Mbps | 0 | float64\n",
      "450 Mbps | 0 | float64\n",
      "473 Mbps | 0 | float64\n",
      "480 Mbps | 0 | float64\n",
      "500 Mbps | 0 | float64\n",
      "512 Mbps | 0 | float64\n",
      "520 Mbps | 0 | float64\n",
      "540 Mbps | 0 | float64\n",
      "600 Mbps | 0 | float64\n",
      "640 Mbps | 0 | float64\n",
      "680 Mbps | 0 | float64\n",
      "700 Mbps | 0 | float64\n",
      "768 Mbps | 0 | float64\n",
      "800 Mbps | 0 | float64\n",
      "850 Mbps | 0 | float64\n",
      "900 Mbps | 0 | float64\n",
      "945 Mbps | 0 | float64\n",
      "950 Mbps | 0 | float64\n",
      "1000 Mbps | 0 | float64\n",
      "1024 Mbps | 0 | float64\n",
      "1075 Mbps | 0 | float64\n",
      "1536 Mbps | 0 | float64\n",
      "2000 Mbps | 0 | float64\n",
      "2048 Mbps | 0 | float64\n",
      "2529 Mbps | 0 | float64\n",
      "3072 Mbps | 0 | float64\n",
      "4000 Mbps | 0 | float64\n",
      "5000 Mbps | 0 | float64\n",
      "5125 Mbps | 0 | float64\n",
      "6000 Mbps | 0 | float64\n",
      "7000 Mbps | 0 | float64\n",
      "8000 Mbps | 0 | float64\n",
      "10000 Mbps | 0 | float64\n"
     ]
    }
   ],
   "source": [
    "outliers_col(df6)"
   ]
  },
  {
   "cell_type": "code",
   "execution_count": 81,
   "metadata": {},
   "outputs": [
    {
     "name": "stdout",
     "output_type": "stream",
     "text": [
      "<class 'pandas.core.frame.DataFrame'>\n",
      "RangeIndex: 505 entries, 0 to 504\n",
      "Columns: 186 entries, Año to 10000 Mbps\n",
      "dtypes: float64(184), int64(1), object(1)\n",
      "memory usage: 734.0+ KB\n"
     ]
    }
   ],
   "source": [
    "df6.info()"
   ]
  },
  {
   "cell_type": "markdown",
   "metadata": {},
   "source": [
    "**Decidimos abstenernos de sacar conclusiones sobre los datos de los rangos de velocidad de bajada, ya que contamos con información de promedios de descarga en otros conjuntos de datos. Esto nos permitirá realizar un análisis más preciso y completo de la calidad de la conexión a Internet, evitando duplicación de esfuerzos y enfocando nuestra atención en aspectos más relevantes de nuestro estudio.**"
   ]
  },
  {
   "cell_type": "markdown",
   "metadata": {},
   "source": [
    "# Velocidad media de bajada de Internet\n",
    "Serie histórica de la velocidad media de descarga de Internet nacional (trimestral)"
   ]
  },
  {
   "cell_type": "code",
   "execution_count": 88,
   "metadata": {},
   "outputs": [
    {
     "data": {
      "text/html": [
       "<div>\n",
       "<style scoped>\n",
       "    .dataframe tbody tr th:only-of-type {\n",
       "        vertical-align: middle;\n",
       "    }\n",
       "\n",
       "    .dataframe tbody tr th {\n",
       "        vertical-align: top;\n",
       "    }\n",
       "\n",
       "    .dataframe thead th {\n",
       "        text-align: right;\n",
       "    }\n",
       "</style>\n",
       "<table border=\"1\" class=\"dataframe\">\n",
       "  <thead>\n",
       "    <tr style=\"text-align: right;\">\n",
       "      <th></th>\n",
       "      <th>Año</th>\n",
       "      <th>Trimestre</th>\n",
       "      <th>Mbps (Media de bajada)</th>\n",
       "      <th>Trimestre.1</th>\n",
       "    </tr>\n",
       "  </thead>\n",
       "  <tbody>\n",
       "    <tr>\n",
       "      <th>0</th>\n",
       "      <td>2022</td>\n",
       "      <td>4</td>\n",
       "      <td>106.56</td>\n",
       "      <td>Oct-Dic 2022</td>\n",
       "    </tr>\n",
       "    <tr>\n",
       "      <th>1</th>\n",
       "      <td>2022</td>\n",
       "      <td>3</td>\n",
       "      <td>62.46</td>\n",
       "      <td>Jul-Sept 2022</td>\n",
       "    </tr>\n",
       "    <tr>\n",
       "      <th>2</th>\n",
       "      <td>2022</td>\n",
       "      <td>2</td>\n",
       "      <td>58.44</td>\n",
       "      <td>Abr-Jun 2022</td>\n",
       "    </tr>\n",
       "    <tr>\n",
       "      <th>3</th>\n",
       "      <td>2022</td>\n",
       "      <td>1</td>\n",
       "      <td>55.11</td>\n",
       "      <td>Ene-Mar 2022</td>\n",
       "    </tr>\n",
       "    <tr>\n",
       "      <th>4</th>\n",
       "      <td>2021</td>\n",
       "      <td>4</td>\n",
       "      <td>52.34</td>\n",
       "      <td>Oct-Dic 2021</td>\n",
       "    </tr>\n",
       "  </tbody>\n",
       "</table>\n",
       "</div>"
      ],
      "text/plain": [
       "    Año  Trimestre  Mbps (Media de bajada)    Trimestre.1\n",
       "0  2022          4                  106.56   Oct-Dic 2022\n",
       "1  2022          3                   62.46  Jul-Sept 2022\n",
       "2  2022          2                   58.44   Abr-Jun 2022\n",
       "3  2022          1                   55.11   Ene-Mar 2022\n",
       "4  2021          4                   52.34   Oct-Dic 2021"
      ]
     },
     "execution_count": 88,
     "metadata": {},
     "output_type": "execute_result"
    }
   ],
   "source": [
    "df7.head()"
   ]
  },
  {
   "cell_type": "code",
   "execution_count": 90,
   "metadata": {},
   "outputs": [
    {
     "name": "stdout",
     "output_type": "stream",
     "text": [
      "Año | 0 | int64\n",
      "Trimestre | 0 | int64\n",
      "Mbps (Media de bajada) | 1 | float64\n"
     ]
    }
   ],
   "source": [
    "outliers_col(df7)"
   ]
  },
  {
   "cell_type": "code",
   "execution_count": 92,
   "metadata": {},
   "outputs": [
    {
     "name": "stdout",
     "output_type": "stream",
     "text": [
      "<class 'pandas.core.frame.DataFrame'>\n",
      "RangeIndex: 36 entries, 0 to 35\n",
      "Data columns (total 4 columns):\n",
      " #   Column                  Non-Null Count  Dtype  \n",
      "---  ------                  --------------  -----  \n",
      " 0   Año                     36 non-null     int64  \n",
      " 1   Trimestre               36 non-null     int64  \n",
      " 2   Mbps (Media de bajada)  36 non-null     float64\n",
      " 3   Trimestre.1             36 non-null     object \n",
      "dtypes: float64(1), int64(2), object(1)\n",
      "memory usage: 1.3+ KB\n"
     ]
    }
   ],
   "source": [
    "df7.info()"
   ]
  },
  {
   "cell_type": "code",
   "execution_count": 98,
   "metadata": {},
   "outputs": [],
   "source": [
    "vel_baj_año = df7.groupby(\"Año\").sum()[\"Mbps (Media de bajada)\"].reset_index()"
   ]
  },
  {
   "cell_type": "code",
   "execution_count": 99,
   "metadata": {},
   "outputs": [
    {
     "data": {
      "text/html": [
       "<div>\n",
       "<style scoped>\n",
       "    .dataframe tbody tr th:only-of-type {\n",
       "        vertical-align: middle;\n",
       "    }\n",
       "\n",
       "    .dataframe tbody tr th {\n",
       "        vertical-align: top;\n",
       "    }\n",
       "\n",
       "    .dataframe thead th {\n",
       "        text-align: right;\n",
       "    }\n",
       "</style>\n",
       "<table border=\"1\" class=\"dataframe\">\n",
       "  <thead>\n",
       "    <tr style=\"text-align: right;\">\n",
       "      <th></th>\n",
       "      <th>Año</th>\n",
       "      <th>Mbps (Media de bajada)</th>\n",
       "    </tr>\n",
       "  </thead>\n",
       "  <tbody>\n",
       "    <tr>\n",
       "      <th>0</th>\n",
       "      <td>2014</td>\n",
       "      <td>15.399992</td>\n",
       "    </tr>\n",
       "    <tr>\n",
       "      <th>1</th>\n",
       "      <td>2015</td>\n",
       "      <td>18.675020</td>\n",
       "    </tr>\n",
       "    <tr>\n",
       "      <th>2</th>\n",
       "      <td>2016</td>\n",
       "      <td>22.783393</td>\n",
       "    </tr>\n",
       "    <tr>\n",
       "      <th>3</th>\n",
       "      <td>2017</td>\n",
       "      <td>34.130709</td>\n",
       "    </tr>\n",
       "    <tr>\n",
       "      <th>4</th>\n",
       "      <td>2018</td>\n",
       "      <td>58.380880</td>\n",
       "    </tr>\n",
       "    <tr>\n",
       "      <th>5</th>\n",
       "      <td>2019</td>\n",
       "      <td>90.150000</td>\n",
       "    </tr>\n",
       "    <tr>\n",
       "      <th>6</th>\n",
       "      <td>2020</td>\n",
       "      <td>158.870000</td>\n",
       "    </tr>\n",
       "    <tr>\n",
       "      <th>7</th>\n",
       "      <td>2021</td>\n",
       "      <td>189.540000</td>\n",
       "    </tr>\n",
       "    <tr>\n",
       "      <th>8</th>\n",
       "      <td>2022</td>\n",
       "      <td>282.570000</td>\n",
       "    </tr>\n",
       "  </tbody>\n",
       "</table>\n",
       "</div>"
      ],
      "text/plain": [
       "    Año  Mbps (Media de bajada)\n",
       "0  2014               15.399992\n",
       "1  2015               18.675020\n",
       "2  2016               22.783393\n",
       "3  2017               34.130709\n",
       "4  2018               58.380880\n",
       "5  2019               90.150000\n",
       "6  2020              158.870000\n",
       "7  2021              189.540000\n",
       "8  2022              282.570000"
      ]
     },
     "execution_count": 99,
     "metadata": {},
     "output_type": "execute_result"
    }
   ],
   "source": [
    "vel_baj_año"
   ]
  },
  {
   "cell_type": "code",
   "execution_count": 104,
   "metadata": {},
   "outputs": [
    {
     "data": {
      "image/png": "[encoded data removed]",
      "text/plain": [
       "<Figure size 1000x600 with 1 Axes>"
      ]
     },
     "metadata": {},
     "output_type": "display_data"
    }
   ],
   "source": [
    "sns.set(style=\"white\")\n",
    "\n",
    "plt.figure(figsize=(10, 6))\n",
    "sns.lineplot(data= vel_baj_año, x=\"Año\", y=\"Mbps (Media de bajada)\", label=\"Tendecia\")\n",
    "\n",
    "\n",
    "\n",
    "plt.title(\"Mbps (Media de bajada) por año\")\n",
    "plt.xlabel(\"Año\")\n",
    "plt.ylabel(\"Mbps (Media de bajada)\")\n",
    "plt.xticks(rotation=45)\n",
    "plt.tight_layout()"
   ]
  },
  {
   "cell_type": "markdown",
   "metadata": {},
   "source": [
    "Observamos un sólido crecimiento anual en la velocidad media de bajada a nivel nacional"
   ]
  },
  {
   "cell_type": "markdown",
   "metadata": {},
   "source": [
    "# Velocidad media de bajada de Internet fijo por provincia\n",
    "Serie histórica de la velocidad media de descarga de Internet por provincia (trimestral)"
   ]
  },
  {
   "cell_type": "code",
   "execution_count": 89,
   "metadata": {},
   "outputs": [
    {
     "data": {
      "text/html": [
       "<div>\n",
       "<style scoped>\n",
       "    .dataframe tbody tr th:only-of-type {\n",
       "        vertical-align: middle;\n",
       "    }\n",
       "\n",
       "    .dataframe tbody tr th {\n",
       "        vertical-align: top;\n",
       "    }\n",
       "\n",
       "    .dataframe thead th {\n",
       "        text-align: right;\n",
       "    }\n",
       "</style>\n",
       "<table border=\"1\" class=\"dataframe\">\n",
       "  <thead>\n",
       "    <tr style=\"text-align: right;\">\n",
       "      <th></th>\n",
       "      <th>Año</th>\n",
       "      <th>Trimestre</th>\n",
       "      <th>Provincia</th>\n",
       "      <th>Mbps (Media de bajada)</th>\n",
       "    </tr>\n",
       "  </thead>\n",
       "  <tbody>\n",
       "    <tr>\n",
       "      <th>0</th>\n",
       "      <td>2022</td>\n",
       "      <td>4</td>\n",
       "      <td>Buenos Aires</td>\n",
       "      <td>111.00</td>\n",
       "    </tr>\n",
       "    <tr>\n",
       "      <th>1</th>\n",
       "      <td>2022</td>\n",
       "      <td>4</td>\n",
       "      <td>Capital Federal</td>\n",
       "      <td>182.86</td>\n",
       "    </tr>\n",
       "    <tr>\n",
       "      <th>2</th>\n",
       "      <td>2022</td>\n",
       "      <td>4</td>\n",
       "      <td>Catamarca</td>\n",
       "      <td>83.33</td>\n",
       "    </tr>\n",
       "    <tr>\n",
       "      <th>3</th>\n",
       "      <td>2022</td>\n",
       "      <td>4</td>\n",
       "      <td>Chaco</td>\n",
       "      <td>104.02</td>\n",
       "    </tr>\n",
       "    <tr>\n",
       "      <th>4</th>\n",
       "      <td>2022</td>\n",
       "      <td>4</td>\n",
       "      <td>Chubut</td>\n",
       "      <td>15.92</td>\n",
       "    </tr>\n",
       "  </tbody>\n",
       "</table>\n",
       "</div>"
      ],
      "text/plain": [
       "    Año  Trimestre        Provincia  Mbps (Media de bajada)\n",
       "0  2022          4     Buenos Aires                  111.00\n",
       "1  2022          4  Capital Federal                  182.86\n",
       "2  2022          4        Catamarca                   83.33\n",
       "3  2022          4            Chaco                  104.02\n",
       "4  2022          4           Chubut                   15.92"
      ]
     },
     "execution_count": 89,
     "metadata": {},
     "output_type": "execute_result"
    }
   ],
   "source": [
    "df8.head()"
   ]
  },
  {
   "cell_type": "code",
   "execution_count": 91,
   "metadata": {},
   "outputs": [
    {
     "name": "stdout",
     "output_type": "stream",
     "text": [
      "Año | 0 | int64\n",
      "Trimestre | 0 | int64\n",
      "Mbps (Media de bajada) | 20 | float64\n"
     ]
    }
   ],
   "source": [
    "outliers_col(df8)"
   ]
  },
  {
   "cell_type": "code",
   "execution_count": 93,
   "metadata": {},
   "outputs": [
    {
     "name": "stdout",
     "output_type": "stream",
     "text": [
      "<class 'pandas.core.frame.DataFrame'>\n",
      "RangeIndex: 864 entries, 0 to 863\n",
      "Data columns (total 4 columns):\n",
      " #   Column                  Non-Null Count  Dtype  \n",
      "---  ------                  --------------  -----  \n",
      " 0   Año                     864 non-null    int64  \n",
      " 1   Trimestre               864 non-null    int64  \n",
      " 2   Provincia               864 non-null    object \n",
      " 3   Mbps (Media de bajada)  864 non-null    float64\n",
      "dtypes: float64(1), int64(2), object(1)\n",
      "memory usage: 27.1+ KB\n"
     ]
    }
   ],
   "source": [
    "df8.info()"
   ]
  },
  {
   "cell_type": "code",
   "execution_count": 94,
   "metadata": {},
   "outputs": [],
   "source": [
    "Mbps_provi = df8.groupby(\"Provincia\")[\"Mbps (Media de bajada)\"].sum().reset_index()"
   ]
  },
  {
   "cell_type": "code",
   "execution_count": 95,
   "metadata": {},
   "outputs": [],
   "source": [
    "mayor_vel = Mbps_provi.sort_values(\"Mbps (Media de bajada)\",ascending=False)"
   ]
  },
  {
   "cell_type": "code",
   "execution_count": 96,
   "metadata": {},
   "outputs": [
    {
     "data": {
      "text/html": [
       "<div>\n",
       "<style scoped>\n",
       "    .dataframe tbody tr th:only-of-type {\n",
       "        vertical-align: middle;\n",
       "    }\n",
       "\n",
       "    .dataframe tbody tr th {\n",
       "        vertical-align: top;\n",
       "    }\n",
       "\n",
       "    .dataframe thead th {\n",
       "        text-align: right;\n",
       "    }\n",
       "</style>\n",
       "<table border=\"1\" class=\"dataframe\">\n",
       "  <thead>\n",
       "    <tr style=\"text-align: right;\">\n",
       "      <th></th>\n",
       "      <th>Provincia</th>\n",
       "      <th>Mbps (Media de bajada)</th>\n",
       "    </tr>\n",
       "  </thead>\n",
       "  <tbody>\n",
       "    <tr>\n",
       "      <th>1</th>\n",
       "      <td>Capital Federal</td>\n",
       "      <td>1347.752151</td>\n",
       "    </tr>\n",
       "    <tr>\n",
       "      <th>0</th>\n",
       "      <td>Buenos Aires</td>\n",
       "      <td>971.675297</td>\n",
       "    </tr>\n",
       "    <tr>\n",
       "      <th>6</th>\n",
       "      <td>Córdoba</td>\n",
       "      <td>794.049377</td>\n",
       "    </tr>\n",
       "    <tr>\n",
       "      <th>23</th>\n",
       "      <td>Tucumán</td>\n",
       "      <td>760.324082</td>\n",
       "    </tr>\n",
       "    <tr>\n",
       "      <th>3</th>\n",
       "      <td>Chaco</td>\n",
       "      <td>744.237414</td>\n",
       "    </tr>\n",
       "  </tbody>\n",
       "</table>\n",
       "</div>"
      ],
      "text/plain": [
       "          Provincia  Mbps (Media de bajada)\n",
       "1   Capital Federal             1347.752151\n",
       "0      Buenos Aires              971.675297\n",
       "6           Córdoba              794.049377\n",
       "23          Tucumán              760.324082\n",
       "3             Chaco              744.237414"
      ]
     },
     "execution_count": 96,
     "metadata": {},
     "output_type": "execute_result"
    }
   ],
   "source": [
    "mayor_vel.head()"
   ]
  },
  {
   "cell_type": "code",
   "execution_count": 103,
   "metadata": {},
   "outputs": [
    {
     "data": {
      "text/plain": [
       "<function matplotlib.pyplot.show(close=None, block=None)>"
      ]
     },
     "execution_count": 103,
     "metadata": {},
     "output_type": "execute_result"
    },
    {
     "data": {
      "image/png": "[encoded data removed]",
      "text/plain": [
       "<Figure size 1000x600 with 1 Axes>"
      ]
     },
     "metadata": {},
     "output_type": "display_data"
    }
   ],
   "source": [
    "sns.set(style=\"white\")\n",
    "\n",
    "plt.figure(figsize=(10, 6))\n",
    "sns.lineplot(data= mayor_vel, x=\"Provincia\", y=\"Mbps (Media de bajada)\", label=\"Tendencia\")\n",
    "\n",
    "\n",
    "plt.title(\" Media de Mbps por provincia\")\n",
    "plt.xlabel(\"Provincias\")\n",
    "plt.ylabel(\"Media de Mbp\")\n",
    "plt.xticks(rotation=90)\n",
    "plt.tight_layout()\n",
    "\n",
    "plt.show"
   ]
  },
  {
   "cell_type": "markdown",
   "metadata": {},
   "source": [
    "\n",
    "Nuevamente, observamos una diferenciación marcada entre las provincias principales y las del sur en cuanto a la velocidad de bajada. Este contraste en la calidad de la conexión refleja las disparidades en la infraestructura de telecomunicaciones entre las áreas urbanas más densamente pobladas y las regiones más remotas del sur."
   ]
  },
  {
   "cell_type": "markdown",
   "metadata": {},
   "source": [
    "# Serie trimestral de accesos a Internet fijo por tecnología\n",
    "Número de accesos al servicio de Internet fijo por tipo de tecnología. Total nacional (trimestral)"
   ]
  },
  {
   "cell_type": "code",
   "execution_count": 112,
   "metadata": {},
   "outputs": [
    {
     "data": {
      "text/html": [
       "<div>\n",
       "<style scoped>\n",
       "    .dataframe tbody tr th:only-of-type {\n",
       "        vertical-align: middle;\n",
       "    }\n",
       "\n",
       "    .dataframe tbody tr th {\n",
       "        vertical-align: top;\n",
       "    }\n",
       "\n",
       "    .dataframe thead th {\n",
       "        text-align: right;\n",
       "    }\n",
       "</style>\n",
       "<table border=\"1\" class=\"dataframe\">\n",
       "  <thead>\n",
       "    <tr style=\"text-align: right;\">\n",
       "      <th></th>\n",
       "      <th>Año</th>\n",
       "      <th>Trimestre</th>\n",
       "      <th>ADSL</th>\n",
       "      <th>Cablemodem</th>\n",
       "      <th>Fibra óptica</th>\n",
       "      <th>Wireless</th>\n",
       "      <th>Otros</th>\n",
       "      <th>Total</th>\n",
       "      <th>Periodo</th>\n",
       "    </tr>\n",
       "  </thead>\n",
       "  <tbody>\n",
       "    <tr>\n",
       "      <th>0</th>\n",
       "      <td>2022</td>\n",
       "      <td>4</td>\n",
       "      <td>1315373</td>\n",
       "      <td>6037457</td>\n",
       "      <td>3060575</td>\n",
       "      <td>572969</td>\n",
       "      <td>221740</td>\n",
       "      <td>11208114</td>\n",
       "      <td>Oct-Dic 2022</td>\n",
       "    </tr>\n",
       "    <tr>\n",
       "      <th>1</th>\n",
       "      <td>2022</td>\n",
       "      <td>3</td>\n",
       "      <td>1395277</td>\n",
       "      <td>6031970</td>\n",
       "      <td>2871541</td>\n",
       "      <td>557110</td>\n",
       "      <td>235230</td>\n",
       "      <td>11091128</td>\n",
       "      <td>Jul-Sept 2022</td>\n",
       "    </tr>\n",
       "    <tr>\n",
       "      <th>2</th>\n",
       "      <td>2022</td>\n",
       "      <td>2</td>\n",
       "      <td>1468333</td>\n",
       "      <td>5979214</td>\n",
       "      <td>2723285</td>\n",
       "      <td>556243</td>\n",
       "      <td>231609</td>\n",
       "      <td>10958684</td>\n",
       "      <td>Abr-Jun 2022</td>\n",
       "    </tr>\n",
       "    <tr>\n",
       "      <th>3</th>\n",
       "      <td>2022</td>\n",
       "      <td>1</td>\n",
       "      <td>1533240</td>\n",
       "      <td>6073426</td>\n",
       "      <td>2219533</td>\n",
       "      <td>545814</td>\n",
       "      <td>251996</td>\n",
       "      <td>10624009</td>\n",
       "      <td>Ene-Mar 2022</td>\n",
       "    </tr>\n",
       "    <tr>\n",
       "      <th>4</th>\n",
       "      <td>2021</td>\n",
       "      <td>4</td>\n",
       "      <td>1657615</td>\n",
       "      <td>5984240</td>\n",
       "      <td>2072236</td>\n",
       "      <td>523107</td>\n",
       "      <td>252596</td>\n",
       "      <td>10489794</td>\n",
       "      <td>Oct-Dic 2021</td>\n",
       "    </tr>\n",
       "  </tbody>\n",
       "</table>\n",
       "</div>"
      ],
      "text/plain": [
       "    Año  Trimestre     ADSL  Cablemodem  Fibra óptica  Wireless   Otros  \\\n",
       "0  2022          4  1315373     6037457       3060575    572969  221740   \n",
       "1  2022          3  1395277     6031970       2871541    557110  235230   \n",
       "2  2022          2  1468333     5979214       2723285    556243  231609   \n",
       "3  2022          1  1533240     6073426       2219533    545814  251996   \n",
       "4  2021          4  1657615     5984240       2072236    523107  252596   \n",
       "\n",
       "      Total        Periodo  \n",
       "0  11208114   Oct-Dic 2022  \n",
       "1  11091128  Jul-Sept 2022  \n",
       "2  10958684   Abr-Jun 2022  \n",
       "3  10624009   Ene-Mar 2022  \n",
       "4  10489794   Oct-Dic 2021  "
      ]
     },
     "execution_count": 112,
     "metadata": {},
     "output_type": "execute_result"
    }
   ],
   "source": [
    "df9.head()"
   ]
  },
  {
   "cell_type": "code",
   "execution_count": 113,
   "metadata": {},
   "outputs": [],
   "source": [
    "df9.drop_duplicates(inplace= True)"
   ]
  },
  {
   "cell_type": "code",
   "execution_count": 114,
   "metadata": {},
   "outputs": [
    {
     "name": "stdout",
     "output_type": "stream",
     "text": [
      "Año | 0 | int64\n",
      "Trimestre | 0 | int64\n",
      "ADSL | 0 | int64\n",
      "Cablemodem | 0 | int64\n",
      "Fibra óptica | 0 | int64\n",
      "Wireless | 0 | int64\n",
      "Otros | 0 | int64\n",
      "Total | 0 | int64\n"
     ]
    }
   ],
   "source": [
    "outliers_col(df9)"
   ]
  },
  {
   "cell_type": "code",
   "execution_count": 115,
   "metadata": {},
   "outputs": [
    {
     "name": "stdout",
     "output_type": "stream",
     "text": [
      "<class 'pandas.core.frame.DataFrame'>\n",
      "RangeIndex: 36 entries, 0 to 35\n",
      "Data columns (total 9 columns):\n",
      " #   Column        Non-Null Count  Dtype \n",
      "---  ------        --------------  ----- \n",
      " 0   Año           36 non-null     int64 \n",
      " 1   Trimestre     36 non-null     int64 \n",
      " 2   ADSL          36 non-null     int64 \n",
      " 3   Cablemodem    36 non-null     int64 \n",
      " 4   Fibra óptica  36 non-null     int64 \n",
      " 5   Wireless      36 non-null     int64 \n",
      " 6   Otros         36 non-null     int64 \n",
      " 7   Total         36 non-null     int64 \n",
      " 8   Periodo       36 non-null     object\n",
      "dtypes: int64(8), object(1)\n",
      "memory usage: 2.7+ KB\n"
     ]
    }
   ],
   "source": [
    "df9.info()"
   ]
  },
  {
   "cell_type": "code",
   "execution_count": 116,
   "metadata": {},
   "outputs": [],
   "source": [
    "tec_año = df9.groupby(\"Año\")[[\"ADSL\", \"Cablemodem\", \"Fibra óptica\",\"Wireless\",\"Otros\",\"Total\"]].sum().reset_index()"
   ]
  },
  {
   "cell_type": "code",
   "execution_count": 117,
   "metadata": {},
   "outputs": [
    {
     "data": {
      "text/html": [
       "<div>\n",
       "<style scoped>\n",
       "    .dataframe tbody tr th:only-of-type {\n",
       "        vertical-align: middle;\n",
       "    }\n",
       "\n",
       "    .dataframe tbody tr th {\n",
       "        vertical-align: top;\n",
       "    }\n",
       "\n",
       "    .dataframe thead th {\n",
       "        text-align: right;\n",
       "    }\n",
       "</style>\n",
       "<table border=\"1\" class=\"dataframe\">\n",
       "  <thead>\n",
       "    <tr style=\"text-align: right;\">\n",
       "      <th></th>\n",
       "      <th>Año</th>\n",
       "      <th>ADSL</th>\n",
       "      <th>Cablemodem</th>\n",
       "      <th>Fibra óptica</th>\n",
       "      <th>Wireless</th>\n",
       "      <th>Otros</th>\n",
       "    </tr>\n",
       "  </thead>\n",
       "  <tbody>\n",
       "    <tr>\n",
       "      <th>0</th>\n",
       "      <td>2014</td>\n",
       "      <td>14884750</td>\n",
       "      <td>9975087</td>\n",
       "      <td>604862</td>\n",
       "      <td>305234</td>\n",
       "      <td>286700</td>\n",
       "    </tr>\n",
       "    <tr>\n",
       "      <th>1</th>\n",
       "      <td>2015</td>\n",
       "      <td>15115694</td>\n",
       "      <td>11162971</td>\n",
       "      <td>620877</td>\n",
       "      <td>331431</td>\n",
       "      <td>242846</td>\n",
       "    </tr>\n",
       "    <tr>\n",
       "      <th>2</th>\n",
       "      <td>2016</td>\n",
       "      <td>15073814</td>\n",
       "      <td>12177088</td>\n",
       "      <td>680127</td>\n",
       "      <td>337396</td>\n",
       "      <td>227633</td>\n",
       "    </tr>\n",
       "    <tr>\n",
       "      <th>3</th>\n",
       "      <td>2017</td>\n",
       "      <td>14639302</td>\n",
       "      <td>14148063</td>\n",
       "      <td>766312</td>\n",
       "      <td>432844</td>\n",
       "      <td>344162</td>\n",
       "    </tr>\n",
       "    <tr>\n",
       "      <th>4</th>\n",
       "      <td>2018</td>\n",
       "      <td>13981984</td>\n",
       "      <td>16571272</td>\n",
       "      <td>1079124</td>\n",
       "      <td>870047</td>\n",
       "      <td>465760</td>\n",
       "    </tr>\n",
       "    <tr>\n",
       "      <th>5</th>\n",
       "      <td>2019</td>\n",
       "      <td>11447626</td>\n",
       "      <td>18754974</td>\n",
       "      <td>3191409</td>\n",
       "      <td>1262831</td>\n",
       "      <td>909341</td>\n",
       "    </tr>\n",
       "    <tr>\n",
       "      <th>6</th>\n",
       "      <td>2020</td>\n",
       "      <td>9072828</td>\n",
       "      <td>20539964</td>\n",
       "      <td>4636620</td>\n",
       "      <td>1563813</td>\n",
       "      <td>958018</td>\n",
       "    </tr>\n",
       "    <tr>\n",
       "      <th>7</th>\n",
       "      <td>2021</td>\n",
       "      <td>7802044</td>\n",
       "      <td>22877010</td>\n",
       "      <td>6473506</td>\n",
       "      <td>1927038</td>\n",
       "      <td>1006793</td>\n",
       "    </tr>\n",
       "    <tr>\n",
       "      <th>8</th>\n",
       "      <td>2022</td>\n",
       "      <td>5712223</td>\n",
       "      <td>24122067</td>\n",
       "      <td>10874934</td>\n",
       "      <td>2232136</td>\n",
       "      <td>940575</td>\n",
       "    </tr>\n",
       "  </tbody>\n",
       "</table>\n",
       "</div>"
      ],
      "text/plain": [
       "    Año      ADSL  Cablemodem  Fibra óptica  Wireless    Otros\n",
       "0  2014  14884750     9975087        604862    305234   286700\n",
       "1  2015  15115694    11162971        620877    331431   242846\n",
       "2  2016  15073814    12177088        680127    337396   227633\n",
       "3  2017  14639302    14148063        766312    432844   344162\n",
       "4  2018  13981984    16571272       1079124    870047   465760\n",
       "5  2019  11447626    18754974       3191409   1262831   909341\n",
       "6  2020   9072828    20539964       4636620   1563813   958018\n",
       "7  2021   7802044    22877010       6473506   1927038  1006793\n",
       "8  2022   5712223    24122067      10874934   2232136   940575"
      ]
     },
     "execution_count": 117,
     "metadata": {},
     "output_type": "execute_result"
    }
   ],
   "source": [
    "tec_año"
   ]
  },
  {
   "cell_type": "code",
   "execution_count": 118,
   "metadata": {},
   "outputs": [
    {
     "data": {
      "image/png": "[encoded data removed]",
      "text/plain": [
       "<Figure size 1000x600 with 1 Axes>"
      ]
     },
     "metadata": {},
     "output_type": "display_data"
    }
   ],
   "source": [
    "sns.set(style=\"white\")\n",
    "\n",
    "plt.figure(figsize=(10, 6))\n",
    "sns.lineplot(data= tec_año, x=\"Año\", y=\"ADSL\", label=\"ADSL\")\n",
    "sns.lineplot(data= tec_año, x=\"Año\", y=\"Cablemodem\", label=\"Cablemodem\")\n",
    "sns.lineplot(data= tec_año, x=\"Año\", y=\"Fibra óptica\", label=\"Fibra óptica\")\n",
    "sns.lineplot(data= tec_año, x=\"Año\", y=\"Wireless\", label=\"Wireless\")\n",
    "\n",
    "\n",
    "plt.title(\"Tecnología por año\")\n",
    "plt.xlabel(\"Año\")\n",
    "plt.ylabel(\"Cantidad de Tecnología\")\n",
    "plt.xticks(rotation=45)\n",
    "plt.tight_layout()"
   ]
  },
  {
   "cell_type": "markdown",
   "metadata": {},
   "source": [
    "Es evidente a simple vista cómo las nuevas tecnologías, como la \"Fibra óptica\", muestran un notable potencial de crecimiento en comparación con las tecnologías existentes. Este ascenso en la adopción de la fibra óptica puede atribuirse a su capacidad superior de transmisión de datos y mayor velocidad, lo que la convierte en una opción atractiva para los usuarios que buscan una conectividad de alta calidad."
   ]
  },
  {
   "cell_type": "markdown",
   "metadata": {},
   "source": [
    "# Acceso a Internet fijo por tecnología y provincia\n",
    "Número de accesos al servicio de Internet fijo por tipo de tecnología en cada provincia (trimestral)"
   ]
  },
  {
   "cell_type": "code",
   "execution_count": 124,
   "metadata": {},
   "outputs": [
    {
     "data": {
      "text/html": [
       "<div>\n",
       "<style scoped>\n",
       "    .dataframe tbody tr th:only-of-type {\n",
       "        vertical-align: middle;\n",
       "    }\n",
       "\n",
       "    .dataframe tbody tr th {\n",
       "        vertical-align: top;\n",
       "    }\n",
       "\n",
       "    .dataframe thead th {\n",
       "        text-align: right;\n",
       "    }\n",
       "</style>\n",
       "<table border=\"1\" class=\"dataframe\">\n",
       "  <thead>\n",
       "    <tr style=\"text-align: right;\">\n",
       "      <th></th>\n",
       "      <th>Año</th>\n",
       "      <th>Trimestre</th>\n",
       "      <th>Provincia</th>\n",
       "      <th>ADSL</th>\n",
       "      <th>Cablemodem</th>\n",
       "      <th>Fibra óptica</th>\n",
       "      <th>Wireless</th>\n",
       "      <th>Otros</th>\n",
       "      <th>Total</th>\n",
       "    </tr>\n",
       "  </thead>\n",
       "  <tbody>\n",
       "    <tr>\n",
       "      <th>0</th>\n",
       "      <td>2022</td>\n",
       "      <td>4</td>\n",
       "      <td>Buenos Aires</td>\n",
       "      <td>325908.0</td>\n",
       "      <td>2767247.0</td>\n",
       "      <td>1499149.0</td>\n",
       "      <td>129910.0</td>\n",
       "      <td>72451.0</td>\n",
       "      <td>4794665.0</td>\n",
       "    </tr>\n",
       "    <tr>\n",
       "      <th>1</th>\n",
       "      <td>2022</td>\n",
       "      <td>4</td>\n",
       "      <td>Capital Federal</td>\n",
       "      <td>138753.0</td>\n",
       "      <td>1238196.0</td>\n",
       "      <td>138548.0</td>\n",
       "      <td>4603.0</td>\n",
       "      <td>31826.0</td>\n",
       "      <td>1551926.0</td>\n",
       "    </tr>\n",
       "    <tr>\n",
       "      <th>2</th>\n",
       "      <td>2022</td>\n",
       "      <td>4</td>\n",
       "      <td>Catamarca</td>\n",
       "      <td>8952.0</td>\n",
       "      <td>10998.0</td>\n",
       "      <td>47337.0</td>\n",
       "      <td>1379.0</td>\n",
       "      <td>2243.0</td>\n",
       "      <td>70909.0</td>\n",
       "    </tr>\n",
       "    <tr>\n",
       "      <th>3</th>\n",
       "      <td>2022</td>\n",
       "      <td>4</td>\n",
       "      <td>Chaco</td>\n",
       "      <td>24582.0</td>\n",
       "      <td>61265.0</td>\n",
       "      <td>47285.0</td>\n",
       "      <td>7957.0</td>\n",
       "      <td>2574.0</td>\n",
       "      <td>143663.0</td>\n",
       "    </tr>\n",
       "    <tr>\n",
       "      <th>4</th>\n",
       "      <td>2022</td>\n",
       "      <td>4</td>\n",
       "      <td>Chubut</td>\n",
       "      <td>45450.0</td>\n",
       "      <td>73923.0</td>\n",
       "      <td>9815.0</td>\n",
       "      <td>30721.0</td>\n",
       "      <td>8850.0</td>\n",
       "      <td>168759.0</td>\n",
       "    </tr>\n",
       "  </tbody>\n",
       "</table>\n",
       "</div>"
      ],
      "text/plain": [
       "    Año Trimestre        Provincia      ADSL  Cablemodem  Fibra óptica  \\\n",
       "0  2022         4     Buenos Aires  325908.0   2767247.0     1499149.0   \n",
       "1  2022         4  Capital Federal  138753.0   1238196.0      138548.0   \n",
       "2  2022         4        Catamarca    8952.0     10998.0       47337.0   \n",
       "3  2022         4            Chaco   24582.0     61265.0       47285.0   \n",
       "4  2022         4           Chubut   45450.0     73923.0        9815.0   \n",
       "\n",
       "   Wireless    Otros      Total  \n",
       "0  129910.0  72451.0  4794665.0  \n",
       "1    4603.0  31826.0  1551926.0  \n",
       "2    1379.0   2243.0    70909.0  \n",
       "3    7957.0   2574.0   143663.0  \n",
       "4   30721.0   8850.0   168759.0  "
      ]
     },
     "execution_count": 124,
     "metadata": {},
     "output_type": "execute_result"
    }
   ],
   "source": [
    "df10.head()"
   ]
  },
  {
   "cell_type": "code",
   "execution_count": 125,
   "metadata": {},
   "outputs": [
    {
     "name": "stdout",
     "output_type": "stream",
     "text": [
      "<class 'pandas.core.frame.DataFrame'>\n",
      "RangeIndex: 866 entries, 0 to 865\n",
      "Data columns (total 9 columns):\n",
      " #   Column        Non-Null Count  Dtype  \n",
      "---  ------        --------------  -----  \n",
      " 0   Año           865 non-null    object \n",
      " 1   Trimestre     865 non-null    object \n",
      " 2   Provincia     864 non-null    object \n",
      " 3   ADSL          864 non-null    float64\n",
      " 4   Cablemodem    864 non-null    float64\n",
      " 5   Fibra óptica  864 non-null    float64\n",
      " 6   Wireless      864 non-null    float64\n",
      " 7   Otros         864 non-null    float64\n",
      " 8   Total         864 non-null    float64\n",
      "dtypes: float64(6), object(3)\n",
      "memory usage: 61.0+ KB\n"
     ]
    }
   ],
   "source": [
    "df10.info()"
   ]
  },
  {
   "cell_type": "code",
   "execution_count": 126,
   "metadata": {},
   "outputs": [
    {
     "name": "stdout",
     "output_type": "stream",
     "text": [
      "ADSL | 0 | float64\n",
      "Cablemodem | 0 | float64\n",
      "Fibra óptica | 0 | float64\n",
      "Wireless | 0 | float64\n",
      "Otros | 0 | float64\n",
      "Total | 0 | float64\n"
     ]
    }
   ],
   "source": [
    "outliers_col(df10)"
   ]
  },
  {
   "cell_type": "code",
   "execution_count": 127,
   "metadata": {},
   "outputs": [],
   "source": [
    "Cant_tec_provincia = df10.groupby(\"Provincia\")[\"Total\"].sum().reset_index()"
   ]
  },
  {
   "cell_type": "code",
   "execution_count": 128,
   "metadata": {},
   "outputs": [],
   "source": [
    "mayor_tec = Cant_tec_provincia.sort_values(\"Total\",ascending=False)"
   ]
  },
  {
   "cell_type": "code",
   "execution_count": 129,
   "metadata": {},
   "outputs": [
    {
     "data": {
      "text/html": [
       "<div>\n",
       "<style scoped>\n",
       "    .dataframe tbody tr th:only-of-type {\n",
       "        vertical-align: middle;\n",
       "    }\n",
       "\n",
       "    .dataframe tbody tr th {\n",
       "        vertical-align: top;\n",
       "    }\n",
       "\n",
       "    .dataframe thead th {\n",
       "        text-align: right;\n",
       "    }\n",
       "</style>\n",
       "<table border=\"1\" class=\"dataframe\">\n",
       "  <thead>\n",
       "    <tr style=\"text-align: right;\">\n",
       "      <th></th>\n",
       "      <th>Provincia</th>\n",
       "      <th>Total</th>\n",
       "    </tr>\n",
       "  </thead>\n",
       "  <tbody>\n",
       "    <tr>\n",
       "      <th>0</th>\n",
       "      <td>Buenos Aires</td>\n",
       "      <td>128149212.0</td>\n",
       "    </tr>\n",
       "    <tr>\n",
       "      <th>1</th>\n",
       "      <td>Capital Federal</td>\n",
       "      <td>50623531.0</td>\n",
       "    </tr>\n",
       "    <tr>\n",
       "      <th>6</th>\n",
       "      <td>Córdoba</td>\n",
       "      <td>27315747.0</td>\n",
       "    </tr>\n",
       "    <tr>\n",
       "      <th>20</th>\n",
       "      <td>Santa Fe</td>\n",
       "      <td>24843951.0</td>\n",
       "    </tr>\n",
       "    <tr>\n",
       "      <th>7</th>\n",
       "      <td>Entre Ríos</td>\n",
       "      <td>7522924.0</td>\n",
       "    </tr>\n",
       "  </tbody>\n",
       "</table>\n",
       "</div>"
      ],
      "text/plain": [
       "          Provincia        Total\n",
       "0      Buenos Aires  128149212.0\n",
       "1   Capital Federal   50623531.0\n",
       "6           Córdoba   27315747.0\n",
       "20         Santa Fe   24843951.0\n",
       "7        Entre Ríos    7522924.0"
      ]
     },
     "execution_count": 129,
     "metadata": {},
     "output_type": "execute_result"
    }
   ],
   "source": [
    "mayor_tec.head()"
   ]
  },
  {
   "cell_type": "code",
   "execution_count": 130,
   "metadata": {},
   "outputs": [
    {
     "data": {
      "image/png": "[encoded data removed]",
      "text/plain": [
       "<Figure size 1000x600 with 1 Axes>"
      ]
     },
     "metadata": {},
     "output_type": "display_data"
    }
   ],
   "source": [
    "plt.figure(figsize=(10, 6))\n",
    "plt.bar(mayor_tec[\"Provincia\"], mayor_tec[\"Total\"])\n",
    "plt.xlabel(\"Provincia\")\n",
    "plt.ylabel(\"Cantidad.tec\")\n",
    "plt.title(\"Cantidad de tecnología por Provincia\")\n",
    "\n",
    "# Rotar las etiquetas del eje x para mejorar la legibilidad\n",
    "plt.xticks(rotation=90)\n",
    "\n",
    "# Mostrar el gráfico\n",
    "plt.tight_layout()\n",
    "plt.show()"
   ]
  },
  {
   "cell_type": "markdown",
   "metadata": {},
   "source": [
    "# Penetración por hogares nacional de Internet fijo\n",
    "Serie trimestral de la penetración del Internet fijo en la métrica por cada 100 hogares"
   ]
  },
  {
   "cell_type": "code",
   "execution_count": 136,
   "metadata": {},
   "outputs": [
    {
     "data": {
      "text/html": [
       "<div>\n",
       "<style scoped>\n",
       "    .dataframe tbody tr th:only-of-type {\n",
       "        vertical-align: middle;\n",
       "    }\n",
       "\n",
       "    .dataframe tbody tr th {\n",
       "        vertical-align: top;\n",
       "    }\n",
       "\n",
       "    .dataframe thead th {\n",
       "        text-align: right;\n",
       "    }\n",
       "</style>\n",
       "<table border=\"1\" class=\"dataframe\">\n",
       "  <thead>\n",
       "    <tr style=\"text-align: right;\">\n",
       "      <th></th>\n",
       "      <th>Año</th>\n",
       "      <th>Trimestre</th>\n",
       "      <th>Accesos por cada 100 hogares</th>\n",
       "      <th>Accesos por cada 100 hab</th>\n",
       "      <th>Periodo</th>\n",
       "    </tr>\n",
       "  </thead>\n",
       "  <tbody>\n",
       "    <tr>\n",
       "      <th>0</th>\n",
       "      <td>2022</td>\n",
       "      <td>4</td>\n",
       "      <td>77.210000</td>\n",
       "      <td>24.150000</td>\n",
       "      <td>Oct-Dic 2022</td>\n",
       "    </tr>\n",
       "    <tr>\n",
       "      <th>1</th>\n",
       "      <td>2022</td>\n",
       "      <td>3</td>\n",
       "      <td>76.640000</td>\n",
       "      <td>23.950000</td>\n",
       "      <td>Jul-Sept 2022</td>\n",
       "    </tr>\n",
       "    <tr>\n",
       "      <th>2</th>\n",
       "      <td>2022</td>\n",
       "      <td>2</td>\n",
       "      <td>75.965424</td>\n",
       "      <td>23.720442</td>\n",
       "      <td>Abr-Jun 2022</td>\n",
       "    </tr>\n",
       "    <tr>\n",
       "      <th>3</th>\n",
       "      <td>2022</td>\n",
       "      <td>1</td>\n",
       "      <td>73.878803</td>\n",
       "      <td>23.049171</td>\n",
       "      <td>Ene-Mar 2022</td>\n",
       "    </tr>\n",
       "    <tr>\n",
       "      <th>4</th>\n",
       "      <td>2021</td>\n",
       "      <td>4</td>\n",
       "      <td>73.176397</td>\n",
       "      <td>22.810702</td>\n",
       "      <td>Oct-Dic 2021</td>\n",
       "    </tr>\n",
       "  </tbody>\n",
       "</table>\n",
       "</div>"
      ],
      "text/plain": [
       "    Año  Trimestre  Accesos por cada 100 hogares  Accesos por cada 100 hab  \\\n",
       "0  2022          4                     77.210000                 24.150000   \n",
       "1  2022          3                     76.640000                 23.950000   \n",
       "2  2022          2                     75.965424                 23.720442   \n",
       "3  2022          1                     73.878803                 23.049171   \n",
       "4  2021          4                     73.176397                 22.810702   \n",
       "\n",
       "         Periodo  \n",
       "0   Oct-Dic 2022  \n",
       "1  Jul-Sept 2022  \n",
       "2   Abr-Jun 2022  \n",
       "3   Ene-Mar 2022  \n",
       "4   Oct-Dic 2021  "
      ]
     },
     "execution_count": 136,
     "metadata": {},
     "output_type": "execute_result"
    }
   ],
   "source": [
    "df11.head()"
   ]
  },
  {
   "cell_type": "code",
   "execution_count": 137,
   "metadata": {},
   "outputs": [],
   "source": [
    "df11.drop_duplicates(inplace=True)"
   ]
  },
  {
   "cell_type": "code",
   "execution_count": 138,
   "metadata": {},
   "outputs": [
    {
     "name": "stdout",
     "output_type": "stream",
     "text": [
      "Año | 0 | int64\n",
      "Trimestre | 0 | int64\n",
      "Accesos por cada 100 hogares | 0 | float64\n",
      "Accesos por cada 100 hab | 0 | float64\n"
     ]
    }
   ],
   "source": [
    "outliers_col(df11)"
   ]
  },
  {
   "cell_type": "code",
   "execution_count": 139,
   "metadata": {},
   "outputs": [
    {
     "name": "stdout",
     "output_type": "stream",
     "text": [
      "<class 'pandas.core.frame.DataFrame'>\n",
      "RangeIndex: 36 entries, 0 to 35\n",
      "Data columns (total 5 columns):\n",
      " #   Column                        Non-Null Count  Dtype  \n",
      "---  ------                        --------------  -----  \n",
      " 0   Año                           36 non-null     int64  \n",
      " 1   Trimestre                     36 non-null     int64  \n",
      " 2   Accesos por cada 100 hogares  36 non-null     float64\n",
      " 3   Accesos por cada 100 hab      36 non-null     float64\n",
      " 4   Periodo                       36 non-null     object \n",
      "dtypes: float64(2), int64(2), object(1)\n",
      "memory usage: 1.5+ KB\n"
     ]
    }
   ],
   "source": [
    "df11.info()"
   ]
  },
  {
   "cell_type": "code",
   "execution_count": 140,
   "metadata": {},
   "outputs": [
    {
     "data": {
      "image/png": "[encoded data removed]",
      "text/plain": [
       "<Figure size 1000x600 with 1 Axes>"
      ]
     },
     "metadata": {},
     "output_type": "display_data"
    }
   ],
   "source": [
    "sns.set(style=\"white\")\n",
    "\n",
    "plt.figure(figsize=(10, 6))\n",
    "sns.lineplot(data= df11, x=\"Año\", y=\"Accesos por cada 100 hogares\", label=\"Tendencia\")\n",
    "\n",
    "\n",
    "plt.title(\"Accesos por cada 100 hogares nacional\")\n",
    "plt.xlabel(\"Año\")\n",
    "plt.ylabel(\"Accesos por cada 100 hogares\")\n",
    "plt.xticks(rotation=45)\n",
    "plt.tight_layout()"
   ]
  },
  {
   "cell_type": "markdown",
   "metadata": {},
   "source": [
    "Lo que destaca positivamente es el notorio crecimiento en el acceso a Internet en cada 100 hogares a lo largo de los años. Este aumento constante refleja un progreso significativo en la conectividad digital de las familias."
   ]
  },
  {
   "cell_type": "markdown",
   "metadata": {},
   "source": [
    "# Penetración de Internet fijo (accesos por cada 100 hogares)\n",
    "Número de accesos al servicio de Internet fijo por cada 100 hogares por provincia\n"
   ]
  },
  {
   "cell_type": "code",
   "execution_count": 141,
   "metadata": {},
   "outputs": [
    {
     "data": {
      "text/html": [
       "<div>\n",
       "<style scoped>\n",
       "    .dataframe tbody tr th:only-of-type {\n",
       "        vertical-align: middle;\n",
       "    }\n",
       "\n",
       "    .dataframe tbody tr th {\n",
       "        vertical-align: top;\n",
       "    }\n",
       "\n",
       "    .dataframe thead th {\n",
       "        text-align: right;\n",
       "    }\n",
       "</style>\n",
       "<table border=\"1\" class=\"dataframe\">\n",
       "  <thead>\n",
       "    <tr style=\"text-align: right;\">\n",
       "      <th></th>\n",
       "      <th>Año</th>\n",
       "      <th>Trimestre</th>\n",
       "      <th>Provincia</th>\n",
       "      <th>Accesos por cada 100 hogares</th>\n",
       "      <th>Accesos por cada 100 hab</th>\n",
       "    </tr>\n",
       "  </thead>\n",
       "  <tbody>\n",
       "    <tr>\n",
       "      <th>0</th>\n",
       "      <td>2022</td>\n",
       "      <td>4</td>\n",
       "      <td>Buenos Aires</td>\n",
       "      <td>78.94</td>\n",
       "      <td>26.72</td>\n",
       "    </tr>\n",
       "    <tr>\n",
       "      <th>1</th>\n",
       "      <td>2022</td>\n",
       "      <td>4</td>\n",
       "      <td>Capital Federal</td>\n",
       "      <td>122.73</td>\n",
       "      <td>50.35</td>\n",
       "    </tr>\n",
       "    <tr>\n",
       "      <th>2</th>\n",
       "      <td>2022</td>\n",
       "      <td>4</td>\n",
       "      <td>Catamarca</td>\n",
       "      <td>65.77</td>\n",
       "      <td>16.73</td>\n",
       "    </tr>\n",
       "    <tr>\n",
       "      <th>3</th>\n",
       "      <td>2022</td>\n",
       "      <td>4</td>\n",
       "      <td>Chaco</td>\n",
       "      <td>43.62</td>\n",
       "      <td>11.66</td>\n",
       "    </tr>\n",
       "    <tr>\n",
       "      <th>4</th>\n",
       "      <td>2022</td>\n",
       "      <td>4</td>\n",
       "      <td>Chubut</td>\n",
       "      <td>85.57</td>\n",
       "      <td>26.23</td>\n",
       "    </tr>\n",
       "  </tbody>\n",
       "</table>\n",
       "</div>"
      ],
      "text/plain": [
       "    Año  Trimestre        Provincia  Accesos por cada 100 hogares  \\\n",
       "0  2022          4     Buenos Aires                         78.94   \n",
       "1  2022          4  Capital Federal                        122.73   \n",
       "2  2022          4        Catamarca                         65.77   \n",
       "3  2022          4            Chaco                         43.62   \n",
       "4  2022          4           Chubut                         85.57   \n",
       "\n",
       "   Accesos por cada 100 hab  \n",
       "0                     26.72  \n",
       "1                     50.35  \n",
       "2                     16.73  \n",
       "3                     11.66  \n",
       "4                     26.23  "
      ]
     },
     "execution_count": 141,
     "metadata": {},
     "output_type": "execute_result"
    }
   ],
   "source": [
    "df12.head()"
   ]
  },
  {
   "cell_type": "code",
   "execution_count": 142,
   "metadata": {},
   "outputs": [],
   "source": [
    "df12.drop_duplicates(inplace=True)"
   ]
  },
  {
   "cell_type": "code",
   "execution_count": 143,
   "metadata": {},
   "outputs": [
    {
     "name": "stdout",
     "output_type": "stream",
     "text": [
      "Año | 0 | int64\n",
      "Trimestre | 0 | int64\n",
      "Accesos por cada 100 hogares | 9 | float64\n",
      "Accesos por cada 100 hab | 36 | float64\n"
     ]
    }
   ],
   "source": [
    "outliers_col(df12)"
   ]
  },
  {
   "cell_type": "code",
   "execution_count": 144,
   "metadata": {},
   "outputs": [
    {
     "name": "stdout",
     "output_type": "stream",
     "text": [
      "<class 'pandas.core.frame.DataFrame'>\n",
      "RangeIndex: 864 entries, 0 to 863\n",
      "Data columns (total 5 columns):\n",
      " #   Column                        Non-Null Count  Dtype  \n",
      "---  ------                        --------------  -----  \n",
      " 0   Año                           864 non-null    int64  \n",
      " 1   Trimestre                     864 non-null    int64  \n",
      " 2   Provincia                     864 non-null    object \n",
      " 3   Accesos por cada 100 hogares  864 non-null    float64\n",
      " 4   Accesos por cada 100 hab      864 non-null    float64\n",
      "dtypes: float64(2), int64(2), object(1)\n",
      "memory usage: 33.9+ KB\n"
     ]
    }
   ],
   "source": [
    "df12.info()"
   ]
  },
  {
   "cell_type": "code",
   "execution_count": 152,
   "metadata": {},
   "outputs": [],
   "source": [
    "Prov_hogar = df12.groupby(\"Provincia\").sum()[\"Accesos por cada 100 hogares\"].reset_index()"
   ]
  },
  {
   "cell_type": "code",
   "execution_count": 154,
   "metadata": {},
   "outputs": [],
   "source": [
    "Prov_hogar = Prov_hogar.sort_values(\"Accesos por cada 100 hogares\",ascending=False)"
   ]
  },
  {
   "cell_type": "code",
   "execution_count": 155,
   "metadata": {},
   "outputs": [
    {
     "data": {
      "text/html": [
       "<div>\n",
       "<style scoped>\n",
       "    .dataframe tbody tr th:only-of-type {\n",
       "        vertical-align: middle;\n",
       "    }\n",
       "\n",
       "    .dataframe tbody tr th {\n",
       "        vertical-align: top;\n",
       "    }\n",
       "\n",
       "    .dataframe thead th {\n",
       "        text-align: right;\n",
       "    }\n",
       "</style>\n",
       "<table border=\"1\" class=\"dataframe\">\n",
       "  <thead>\n",
       "    <tr style=\"text-align: right;\">\n",
       "      <th></th>\n",
       "      <th>Provincia</th>\n",
       "      <th>Accesos por cada 100 hogares</th>\n",
       "    </tr>\n",
       "  </thead>\n",
       "  <tbody>\n",
       "    <tr>\n",
       "      <th>1</th>\n",
       "      <td>Capital Federal</td>\n",
       "      <td>4090.995257</td>\n",
       "    </tr>\n",
       "    <tr>\n",
       "      <th>22</th>\n",
       "      <td>Tierra Del Fuego</td>\n",
       "      <td>2836.730243</td>\n",
       "    </tr>\n",
       "    <tr>\n",
       "      <th>10</th>\n",
       "      <td>La Pampa</td>\n",
       "      <td>2565.990487</td>\n",
       "    </tr>\n",
       "    <tr>\n",
       "      <th>6</th>\n",
       "      <td>Córdoba</td>\n",
       "      <td>2411.514803</td>\n",
       "    </tr>\n",
       "    <tr>\n",
       "      <th>0</th>\n",
       "      <td>Buenos Aires</td>\n",
       "      <td>2303.266172</td>\n",
       "    </tr>\n",
       "  </tbody>\n",
       "</table>\n",
       "</div>"
      ],
      "text/plain": [
       "           Provincia  Accesos por cada 100 hogares\n",
       "1    Capital Federal                   4090.995257\n",
       "22  Tierra Del Fuego                   2836.730243\n",
       "10          La Pampa                   2565.990487\n",
       "6            Córdoba                   2411.514803\n",
       "0       Buenos Aires                   2303.266172"
      ]
     },
     "execution_count": 155,
     "metadata": {},
     "output_type": "execute_result"
    }
   ],
   "source": [
    "Prov_hogar.head()"
   ]
  },
  {
   "cell_type": "code",
   "execution_count": 156,
   "metadata": {},
   "outputs": [
    {
     "data": {
      "image/png": "[encoded data removed]",
      "text/plain": [
       "<Figure size 1200x600 with 1 Axes>"
      ]
     },
     "metadata": {},
     "output_type": "display_data"
    }
   ],
   "source": [
    "plt.figure(figsize=(12, 6))\n",
    "sns.barplot(y=\"Accesos por cada 100 hogares\", x=\"Provincia\", data=Prov_hogar, palette=\"Set1\")\n",
    "\n",
    "#Rota las etiquetas del eje x para que sean legibles\n",
    "plt.xticks(rotation=90)\n",
    "\n",
    "plt.xlabel(\"Provincia\")\n",
    "plt.ylabel(\"Accesos por cada 100 hogares\")\n",
    "plt.title(\"Penetración de Internet fijo por provincia\")\n",
    "\n",
    "#Muestro el gráfico\n",
    "plt.tight_layout()\n",
    "plt.show()"
   ]
  },
  {
   "cell_type": "markdown",
   "metadata": {},
   "source": [
    "\n",
    "En este gráfico, es evidente que, a pesar de una inversión limitada en Tierra del Fuego, esta provincia se sitúa en la segunda posición en términos de acceso a Internet por cada 100 hogares. Estos datos subrayan cómo una gestión efectiva de los recursos puede llevar a resultados notablemente positivos en el ámbito de la conectividad.\n"
   ]
  },
  {
   "cell_type": "markdown",
   "metadata": {},
   "source": [
    "# Ingresos trimestrales por la prestación del servicio de Internet fijo\n",
    "Ingresos trimestrales de los operadores por el servicio de Internet fijo"
   ]
  },
  {
   "cell_type": "code",
   "execution_count": 159,
   "metadata": {},
   "outputs": [
    {
     "data": {
      "text/html": [
       "<div>\n",
       "<style scoped>\n",
       "    .dataframe tbody tr th:only-of-type {\n",
       "        vertical-align: middle;\n",
       "    }\n",
       "\n",
       "    .dataframe tbody tr th {\n",
       "        vertical-align: top;\n",
       "    }\n",
       "\n",
       "    .dataframe thead th {\n",
       "        text-align: right;\n",
       "    }\n",
       "</style>\n",
       "<table border=\"1\" class=\"dataframe\">\n",
       "  <thead>\n",
       "    <tr style=\"text-align: right;\">\n",
       "      <th></th>\n",
       "      <th>Año</th>\n",
       "      <th>Trimestre</th>\n",
       "      <th>Ingresos (miles de pesos)</th>\n",
       "      <th>Periodo</th>\n",
       "    </tr>\n",
       "  </thead>\n",
       "  <tbody>\n",
       "    <tr>\n",
       "      <th>0</th>\n",
       "      <td>2022</td>\n",
       "      <td>4</td>\n",
       "      <td>7.244348e+07</td>\n",
       "      <td>Oct-Dic 2022</td>\n",
       "    </tr>\n",
       "    <tr>\n",
       "      <th>1</th>\n",
       "      <td>2022</td>\n",
       "      <td>3</td>\n",
       "      <td>6.408678e+07</td>\n",
       "      <td>Jul-Sept 2022</td>\n",
       "    </tr>\n",
       "    <tr>\n",
       "      <th>2</th>\n",
       "      <td>2022</td>\n",
       "      <td>2</td>\n",
       "      <td>6.041950e+07</td>\n",
       "      <td>Abr-Jun 2022</td>\n",
       "    </tr>\n",
       "    <tr>\n",
       "      <th>3</th>\n",
       "      <td>2022</td>\n",
       "      <td>1</td>\n",
       "      <td>5.521931e+07</td>\n",
       "      <td>Ene-Mar 2022</td>\n",
       "    </tr>\n",
       "    <tr>\n",
       "      <th>4</th>\n",
       "      <td>2021</td>\n",
       "      <td>4</td>\n",
       "      <td>4.546789e+07</td>\n",
       "      <td>Oct-Dic 2021</td>\n",
       "    </tr>\n",
       "  </tbody>\n",
       "</table>\n",
       "</div>"
      ],
      "text/plain": [
       "    Año  Trimestre  Ingresos (miles de pesos)        Periodo\n",
       "0  2022          4               7.244348e+07   Oct-Dic 2022\n",
       "1  2022          3               6.408678e+07  Jul-Sept 2022\n",
       "2  2022          2               6.041950e+07   Abr-Jun 2022\n",
       "3  2022          1               5.521931e+07   Ene-Mar 2022\n",
       "4  2021          4               4.546789e+07   Oct-Dic 2021"
      ]
     },
     "execution_count": 159,
     "metadata": {},
     "output_type": "execute_result"
    }
   ],
   "source": [
    "df13.head()"
   ]
  },
  {
   "cell_type": "code",
   "execution_count": 160,
   "metadata": {},
   "outputs": [],
   "source": [
    "df13.drop_duplicates(inplace=True)"
   ]
  },
  {
   "cell_type": "code",
   "execution_count": 161,
   "metadata": {},
   "outputs": [
    {
     "name": "stdout",
     "output_type": "stream",
     "text": [
      "Año | 0 | int64\n",
      "Trimestre | 0 | int64\n",
      "Ingresos (miles de pesos) | 0 | float64\n"
     ]
    }
   ],
   "source": [
    "outliers_col(df13)"
   ]
  },
  {
   "cell_type": "code",
   "execution_count": 162,
   "metadata": {},
   "outputs": [
    {
     "name": "stdout",
     "output_type": "stream",
     "text": [
      "<class 'pandas.core.frame.DataFrame'>\n",
      "RangeIndex: 36 entries, 0 to 35\n",
      "Data columns (total 4 columns):\n",
      " #   Column                     Non-Null Count  Dtype  \n",
      "---  ------                     --------------  -----  \n",
      " 0   Año                        36 non-null     int64  \n",
      " 1   Trimestre                  36 non-null     int64  \n",
      " 2   Ingresos (miles de pesos)  36 non-null     float64\n",
      " 3   Periodo                    36 non-null     object \n",
      "dtypes: float64(1), int64(2), object(1)\n",
      "memory usage: 1.3+ KB\n"
     ]
    }
   ],
   "source": [
    "df13.info()"
   ]
  },
  {
   "cell_type": "code",
   "execution_count": 163,
   "metadata": {},
   "outputs": [],
   "source": [
    "ingresos_Año = df13.groupby(\"Año\")[\"Ingresos (miles de pesos)\"].sum().reset_index()"
   ]
  },
  {
   "cell_type": "code",
   "execution_count": 165,
   "metadata": {},
   "outputs": [
    {
     "data": {
      "text/html": [
       "<div>\n",
       "<style scoped>\n",
       "    .dataframe tbody tr th:only-of-type {\n",
       "        vertical-align: middle;\n",
       "    }\n",
       "\n",
       "    .dataframe tbody tr th {\n",
       "        vertical-align: top;\n",
       "    }\n",
       "\n",
       "    .dataframe thead th {\n",
       "        text-align: right;\n",
       "    }\n",
       "</style>\n",
       "<table border=\"1\" class=\"dataframe\">\n",
       "  <thead>\n",
       "    <tr style=\"text-align: right;\">\n",
       "      <th></th>\n",
       "      <th>Año</th>\n",
       "      <th>Ingresos (miles de pesos)</th>\n",
       "    </tr>\n",
       "  </thead>\n",
       "  <tbody>\n",
       "    <tr>\n",
       "      <th>0</th>\n",
       "      <td>2014</td>\n",
       "      <td>1.368395e+07</td>\n",
       "    </tr>\n",
       "    <tr>\n",
       "      <th>1</th>\n",
       "      <td>2015</td>\n",
       "      <td>2.010881e+07</td>\n",
       "    </tr>\n",
       "    <tr>\n",
       "      <th>2</th>\n",
       "      <td>2016</td>\n",
       "      <td>2.686751e+07</td>\n",
       "    </tr>\n",
       "    <tr>\n",
       "      <th>3</th>\n",
       "      <td>2017</td>\n",
       "      <td>3.967197e+07</td>\n",
       "    </tr>\n",
       "    <tr>\n",
       "      <th>4</th>\n",
       "      <td>2018</td>\n",
       "      <td>5.953959e+07</td>\n",
       "    </tr>\n",
       "  </tbody>\n",
       "</table>\n",
       "</div>"
      ],
      "text/plain": [
       "    Año  Ingresos (miles de pesos)\n",
       "0  2014               1.368395e+07\n",
       "1  2015               2.010881e+07\n",
       "2  2016               2.686751e+07\n",
       "3  2017               3.967197e+07\n",
       "4  2018               5.953959e+07"
      ]
     },
     "execution_count": 165,
     "metadata": {},
     "output_type": "execute_result"
    }
   ],
   "source": [
    "ingresos_Año.head()"
   ]
  },
  {
   "cell_type": "code",
   "execution_count": 166,
   "metadata": {},
   "outputs": [
    {
     "data": {
      "text/plain": [
       "<function matplotlib.pyplot.show(close=None, block=None)>"
      ]
     },
     "execution_count": 166,
     "metadata": {},
     "output_type": "execute_result"
    },
    {
     "data": {
      "image/png": "[encoded data removed]",
      "text/plain": [
       "<Figure size 1000x600 with 1 Axes>"
      ]
     },
     "metadata": {},
     "output_type": "display_data"
    }
   ],
   "source": [
    "sns.set(style=\"white\")\n",
    "\n",
    "\n",
    "plt.figure(figsize=(10, 6))\n",
    "sns.lineplot(data= ingresos_Año, x=\"Año\", y=\"Ingresos (miles de pesos)\", label=\"Tendencia\")\n",
    "\n",
    "\n",
    "plt.title(\"Ingresos por año\")\n",
    "plt.xlabel(\"Año\")\n",
    "plt.ylabel(\"Ingreso (miles de pesos)\")\n",
    "plt.xticks(rotation=45)\n",
    "plt.tight_layout()\n",
    "\n",
    "plt.show"
   ]
  },
  {
   "cell_type": "markdown",
   "metadata": {},
   "source": [
    "\n",
    "Observamos que nuestros ingresos por la prestación de servicios se mantienen de manera estable y positiva a lo largo del tiempo, sin mostrar tendencias significativas de cambio. Esta consistencia en los ingresos refleja la confiabilidad y la demanda constante de nuestros servicios, lo que puede ser un indicativo de una base de clientes sólida y una gestión efectiva de la calidad de los servicios ofrecidos."
   ]
  },
  {
   "cell_type": "markdown",
   "metadata": {},
   "source": [
    "# Accesos a Internet fijo por velocidad bajada y por tecnología (Localidad)"
   ]
  },
  {
   "cell_type": "markdown",
   "metadata": {},
   "source": [
    "### *\"Hemos identificado conjuntos de datos que contienen información sobre el tipo de tecnología de conexión y la velocidad de banda ancha. Sin embargo, hemos observado que esta información se organiza en función de las localidades, lo cual no es relevante para nuestro análisis. Nuestro enfoque se centra en un análisis a nivel nacional y provincial, por lo que hemos decidido no considerar estos datos a nivel de localidades en nuestra investigación.\"*"
   ]
  },
  {
   "cell_type": "code",
   "execution_count": 169,
   "metadata": {},
   "outputs": [
    {
     "data": {
      "text/html": [
       "<div>\n",
       "<style scoped>\n",
       "    .dataframe tbody tr th:only-of-type {\n",
       "        vertical-align: middle;\n",
       "    }\n",
       "\n",
       "    .dataframe tbody tr th {\n",
       "        vertical-align: top;\n",
       "    }\n",
       "\n",
       "    .dataframe thead th {\n",
       "        text-align: right;\n",
       "    }\n",
       "</style>\n",
       "<table border=\"1\" class=\"dataframe\">\n",
       "  <thead>\n",
       "    <tr style=\"text-align: right;\">\n",
       "      <th></th>\n",
       "      <th>Provincia</th>\n",
       "      <th>Partido</th>\n",
       "      <th>Localidad</th>\n",
       "      <th>Link Indec</th>\n",
       "      <th>Otros</th>\n",
       "      <th>0,256 Mbps</th>\n",
       "      <th>0,375 Mbps</th>\n",
       "      <th>0,5 Mbps</th>\n",
       "      <th>0,512 Mbps</th>\n",
       "      <th>0,625 Mbps</th>\n",
       "      <th>...</th>\n",
       "      <th>600 Mbps</th>\n",
       "      <th>680 Mbps</th>\n",
       "      <th>700 Mbps</th>\n",
       "      <th>800 Mbps</th>\n",
       "      <th>850 Mbps</th>\n",
       "      <th>900 Mbps</th>\n",
       "      <th>950 Mbps</th>\n",
       "      <th>1000 Mbps</th>\n",
       "      <th>1024 Mbps</th>\n",
       "      <th>Total general</th>\n",
       "    </tr>\n",
       "  </thead>\n",
       "  <tbody>\n",
       "    <tr>\n",
       "      <th>0</th>\n",
       "      <td>BUENOS AIRES</td>\n",
       "      <td>25 de Mayo</td>\n",
       "      <td>25 de Mayo</td>\n",
       "      <td>6854100</td>\n",
       "      <td>NaN</td>\n",
       "      <td>NaN</td>\n",
       "      <td>NaN</td>\n",
       "      <td>2.0</td>\n",
       "      <td>NaN</td>\n",
       "      <td>NaN</td>\n",
       "      <td>...</td>\n",
       "      <td>NaN</td>\n",
       "      <td>NaN</td>\n",
       "      <td>NaN</td>\n",
       "      <td>NaN</td>\n",
       "      <td>NaN</td>\n",
       "      <td>NaN</td>\n",
       "      <td>NaN</td>\n",
       "      <td>NaN</td>\n",
       "      <td>NaN</td>\n",
       "      <td>6208.0</td>\n",
       "    </tr>\n",
       "  </tbody>\n",
       "</table>\n",
       "<p>1 rows × 134 columns</p>\n",
       "</div>"
      ],
      "text/plain": [
       "      Provincia     Partido   Localidad Link Indec  Otros  0,256 Mbps  \\\n",
       "0  BUENOS AIRES  25 de Mayo  25 de Mayo    6854100    NaN         NaN   \n",
       "\n",
       "   0,375 Mbps  0,5 Mbps  0,512 Mbps  0,625 Mbps  ...  600 Mbps  680 Mbps  \\\n",
       "0         NaN       2.0         NaN         NaN  ...       NaN       NaN   \n",
       "\n",
       "   700 Mbps  800 Mbps  850 Mbps  900 Mbps  950 Mbps  1000 Mbps  1024 Mbps  \\\n",
       "0       NaN       NaN       NaN       NaN       NaN        NaN        NaN   \n",
       "\n",
       "   Total general  \n",
       "0         6208.0  \n",
       "\n",
       "[1 rows x 134 columns]"
      ]
     },
     "execution_count": 169,
     "metadata": {},
     "output_type": "execute_result"
    }
   ],
   "source": [
    "df14.head(1)"
   ]
  },
  {
   "cell_type": "code",
   "execution_count": 172,
   "metadata": {},
   "outputs": [
    {
     "name": "stdout",
     "output_type": "stream",
     "text": [
      "Otros | 0 | float64\n",
      "0,256 Mbps | 0 | float64\n",
      "0,375 Mbps | 0 | float64\n",
      "0,5 Mbps | 0 | float64\n",
      "0,512 Mbps | 0 | float64\n",
      "0,625 Mbps | 0 | float64\n",
      "0,75 Mbps | 0 | float64\n",
      "1 Mbps | 0 | float64\n",
      "1,25 Mbps | 0 | float64\n",
      "1,5 Mbps | 0 | float64\n",
      "2 Mbps | 0 | float64\n",
      "2,2 Mbps | 0 | float64\n",
      "2,5 Mbps | 0 | float64\n",
      "3 Mbps | 0 | float64\n",
      "3,3 Mbps | 0 | float64\n",
      "3,5 Mbps | 0 | float64\n",
      "4 Mbps | 0 | float64\n",
      "4,5 Mbps | 0 | float64\n",
      "5 Mbps | 0 | float64\n",
      "6 Mbps | 0 | float64\n",
      "6,4 Mbps | 0 | float64\n",
      "7 Mbps | 0 | float64\n",
      "7,5 Mbps | 0 | float64\n",
      "8 Mbps | 0 | float64\n",
      "9 Mbps | 0 | float64\n",
      "10 Mbps | 0 | float64\n",
      "10,2 Mbps | 0 | float64\n",
      "11 Mbps | 0 | float64\n",
      "12 Mbps | 0 | float64\n",
      "12,3 Mbps | 0 | float64\n",
      "13 Mbps | 0 | float64\n",
      "14 Mbps | 0 | float64\n",
      "15 Mbps | 0 | float64\n",
      "16 Mbps | 0 | float64\n",
      "17 Mbps | 0 | float64\n",
      "18 Mbps | 0 | float64\n",
      "20 Mbps | 0 | float64\n",
      "20,5 Mbps | 0 | float64\n",
      "21 Mbps | 0 | float64\n",
      "22 Mbps | 0 | float64\n",
      "23 Mbps | 0 | float64\n",
      "24 Mbps | 0 | float64\n",
      "25 Mbps | 0 | float64\n",
      "25,1 Mbps | 0 | float64\n",
      "25,5 Mbps | 0 | float64\n",
      "26 Mbps | 0 | float64\n",
      "27 Mbps | 0 | float64\n",
      "30 Mbps | 0 | float64\n",
      "31 Mbps | 0 | float64\n",
      "32 Mbps | 0 | float64\n",
      "34 Mbps | 0 | float64\n",
      "35 Mbps | 0 | float64\n",
      "36 Mbps | 0 | float64\n",
      "38 Mbps | 0 | float64\n",
      "39 Mbps | 0 | float64\n",
      "40 Mbps | 0 | float64\n",
      "41 Mbps | 0 | float64\n",
      "45 Mbps | 0 | float64\n",
      "46 Mbps | 0 | float64\n",
      "48 Mbps | 0 | float64\n",
      "49 Mbps | 0 | float64\n",
      "50 Mbps | 0 | float64\n",
      "50,1 Mbps | 0 | float64\n",
      "50,25 Mbps | 0 | float64\n",
      "51 Mbps | 0 | float64\n",
      "55 Mbps | 0 | float64\n",
      "58 Mbps | 0 | float64\n",
      "59 Mbps | 0 | float64\n",
      "60 Mbps | 0 | float64\n",
      "61 Mbps | 0 | float64\n",
      "62 Mbps | 0 | float64\n",
      "64 Mbps | 0 | float64\n",
      "65 Mbps | 0 | float64\n",
      "66 Mbps | 0 | float64\n",
      "70 Mbps | 0 | float64\n",
      "75 Mbps | 0 | float64\n",
      "78 Mbps | 0 | float64\n",
      "80 Mbps | 0 | float64\n",
      "83 Mbps | 0 | float64\n",
      "85 Mbps | 0 | float64\n",
      "90 Mbps | 0 | float64\n",
      "92 Mbps | 0 | float64\n",
      "95 Mbps | 0 | float64\n",
      "100 Mbps | 0 | float64\n",
      "100,25 Mbps | 0 | float64\n",
      "110 Mbps | 0 | float64\n",
      "120 Mbps | 0 | float64\n",
      "122 Mbps | 0 | float64\n",
      "125 Mbps | 0 | float64\n",
      "126 Mbps | 0 | float64\n",
      "130 Mbps | 0 | float64\n",
      "140 Mbps | 0 | float64\n",
      "150 Mbps | 0 | float64\n",
      "157 Mbps | 0 | float64\n",
      "158 Mbps | 0 | float64\n",
      "160 Mbps | 0 | float64\n",
      "164 Mbps | 0 | float64\n",
      "165 Mbps | 0 | float64\n",
      "180 Mbps | 0 | float64\n",
      "200 Mbps | 0 | float64\n",
      "212 Mbps | 0 | float64\n",
      "220 Mbps | 0 | float64\n",
      "225 Mbps | 0 | float64\n",
      "234 Mbps | 0 | float64\n",
      "240 Mbps | 0 | float64\n",
      "250 Mbps | 0 | float64\n",
      "256 Mbps | 0 | float64\n",
      "275 Mbps | 0 | float64\n",
      "300 Mbps | 0 | float64\n",
      "320 Mbps | 0 | float64\n",
      "325 Mbps | 0 | float64\n",
      "330 Mbps | 0 | float64\n",
      "340 Mbps | 0 | float64\n",
      "400 Mbps | 0 | float64\n",
      "450 Mbps | 0 | float64\n",
      "480 Mbps | 0 | float64\n",
      "500 Mbps | 0 | float64\n",
      "512 Mbps | 0 | float64\n",
      "520 Mbps | 0 | float64\n",
      "540 Mbps | 0 | float64\n",
      "600 Mbps | 0 | float64\n",
      "680 Mbps | 0 | float64\n",
      "700 Mbps | 0 | float64\n",
      "800 Mbps | 0 | float64\n",
      "850 Mbps | 0 | float64\n",
      "900 Mbps | 0 | float64\n",
      "950 Mbps | 0 | float64\n",
      "1000 Mbps | 0 | float64\n",
      "1024 Mbps | 0 | float64\n",
      "Total general | 0 | float64\n"
     ]
    }
   ],
   "source": [
    "outliers_col(df14)"
   ]
  },
  {
   "cell_type": "code",
   "execution_count": 171,
   "metadata": {},
   "outputs": [
    {
     "name": "stdout",
     "output_type": "stream",
     "text": [
      "<class 'pandas.core.frame.DataFrame'>\n",
      "RangeIndex: 3095 entries, 0 to 3094\n",
      "Columns: 134 entries, Provincia to Total general\n",
      "dtypes: float64(130), object(4)\n",
      "memory usage: 3.2+ MB\n"
     ]
    }
   ],
   "source": [
    "df14.info()"
   ]
  },
  {
   "cell_type": "code",
   "execution_count": 170,
   "metadata": {},
   "outputs": [
    {
     "data": {
      "text/html": [
       "<div>\n",
       "<style scoped>\n",
       "    .dataframe tbody tr th:only-of-type {\n",
       "        vertical-align: middle;\n",
       "    }\n",
       "\n",
       "    .dataframe tbody tr th {\n",
       "        vertical-align: top;\n",
       "    }\n",
       "\n",
       "    .dataframe thead th {\n",
       "        text-align: right;\n",
       "    }\n",
       "</style>\n",
       "<table border=\"1\" class=\"dataframe\">\n",
       "  <thead>\n",
       "    <tr style=\"text-align: right;\">\n",
       "      <th></th>\n",
       "      <th>Provincia</th>\n",
       "      <th>Partido</th>\n",
       "      <th>Localidad</th>\n",
       "      <th>Link Indec</th>\n",
       "      <th>ADSL</th>\n",
       "      <th>CABLEMODEM</th>\n",
       "      <th>DIAL UP</th>\n",
       "      <th>FIBRA OPTICA</th>\n",
       "      <th>OTROS</th>\n",
       "      <th>SATELITAL</th>\n",
       "      <th>WIMAX</th>\n",
       "      <th>WIRELESS</th>\n",
       "      <th>Total general</th>\n",
       "    </tr>\n",
       "  </thead>\n",
       "  <tbody>\n",
       "    <tr>\n",
       "      <th>0</th>\n",
       "      <td>BUENOS AIRES</td>\n",
       "      <td>25 de Mayo</td>\n",
       "      <td>25 de Mayo</td>\n",
       "      <td>6854100</td>\n",
       "      <td>874</td>\n",
       "      <td>4542</td>\n",
       "      <td>0</td>\n",
       "      <td>3</td>\n",
       "      <td>0</td>\n",
       "      <td>852</td>\n",
       "      <td>0</td>\n",
       "      <td>706</td>\n",
       "      <td>6977</td>\n",
       "    </tr>\n",
       "  </tbody>\n",
       "</table>\n",
       "</div>"
      ],
      "text/plain": [
       "      Provincia     Partido   Localidad Link Indec  ADSL  CABLEMODEM  DIAL UP  \\\n",
       "0  BUENOS AIRES  25 de Mayo  25 de Mayo    6854100   874        4542        0   \n",
       "\n",
       "   FIBRA OPTICA  OTROS  SATELITAL  WIMAX  WIRELESS  Total general  \n",
       "0             3      0        852      0       706           6977  "
      ]
     },
     "execution_count": 170,
     "metadata": {},
     "output_type": "execute_result"
    }
   ],
   "source": [
    "df15.head(1)"
   ]
  },
  {
   "cell_type": "code",
   "execution_count": 173,
   "metadata": {},
   "outputs": [
    {
     "name": "stdout",
     "output_type": "stream",
     "text": [
      "ADSL | 16 | int64\n",
      "CABLEMODEM | 10 | int64\n",
      "DIAL UP | 17 | int64\n",
      "FIBRA OPTICA | 24 | int64\n",
      "OTROS | 15 | int64\n",
      "SATELITAL | 4 | int64\n",
      "WIMAX | 10 | int64\n",
      "WIRELESS | 29 | int64\n",
      "Total general | 11 | int64\n"
     ]
    }
   ],
   "source": [
    "outliers_col(df15)"
   ]
  },
  {
   "cell_type": "code",
   "execution_count": 174,
   "metadata": {},
   "outputs": [
    {
     "name": "stdout",
     "output_type": "stream",
     "text": [
      "<class 'pandas.core.frame.DataFrame'>\n",
      "RangeIndex: 3137 entries, 0 to 3136\n",
      "Data columns (total 13 columns):\n",
      " #   Column         Non-Null Count  Dtype \n",
      "---  ------         --------------  ----- \n",
      " 0   Provincia      3137 non-null   object\n",
      " 1   Partido        3137 non-null   object\n",
      " 2   Localidad      3137 non-null   object\n",
      " 3   Link Indec     3137 non-null   object\n",
      " 4   ADSL           3137 non-null   int64 \n",
      " 5   CABLEMODEM     3137 non-null   int64 \n",
      " 6   DIAL UP        3137 non-null   int64 \n",
      " 7   FIBRA OPTICA   3137 non-null   int64 \n",
      " 8   OTROS          3137 non-null   int64 \n",
      " 9   SATELITAL      3137 non-null   int64 \n",
      " 10  WIMAX          3137 non-null   int64 \n",
      " 11  WIRELESS       3137 non-null   int64 \n",
      " 12  Total general  3137 non-null   int64 \n",
      "dtypes: int64(9), object(4)\n",
      "memory usage: 318.7+ KB\n"
     ]
    }
   ],
   "source": [
    "df15.info()"
   ]
  }
 ],
 "metadata": {
  "kernelspec": {
   "display_name": "Python 3",
   "language": "python",
   "name": "python3"
  },
  "language_info": {
   "codemirror_mode": {
    "name": "ipython",
    "version": 3
   },
   "file_extension": ".py",
   "mimetype": "text/x-python",
   "name": "python",
   "nbconvert_exporter": "python",
   "pygments_lexer": "ipython3",
   "version": "3.11.4"
  }
 },
 "nbformat": 4,
 "nbformat_minor": 2
}
