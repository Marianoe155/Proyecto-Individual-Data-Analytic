{
 "cells": [
  {
   "cell_type": "markdown",
   "metadata": {},
   "source": [
    "# KPI´s"
   ]
  },
  {
   "cell_type": "code",
   "execution_count": 1,
   "metadata": {},
   "outputs": [],
   "source": [
    "import pandas as pd\n",
    "import numpy as np\n",
    "from scipy import stats\n",
    "import matplotlib.pyplot as plt\n",
    "import seaborn as sns\n",
    "from funcion import *\n",
    "import warnings\n",
    "warnings.filterwarnings(\"ignore\")"
   ]
  },
  {
   "cell_type": "markdown",
   "metadata": {},
   "source": [
    "#### Después de un análisis exhaustivo, hemos establecido un KPI que se enfoca en lograr un crecimiento constante en el acceso a Internet en los hogares, con un objetivo específico de alcanzar un incremento del 2% trimestral por provincia. Para calcular este indicador, utilizamos la fórmula que compara el número de nuevos accesos con el acceso actual.\n",
    "\n",
    "#### La fórmula KPI se define como: \n",
    "#### `KPI = ((Nuevo acceso - Acceso actual) / Acceso actual) * 100 = 2%`"
   ]
  },
  {
   "cell_type": "code",
   "execution_count": 2,
   "metadata": {},
   "outputs": [],
   "source": [
    "df12 =pd.read_excel(r\"datasets/Internet_Penetracion.xlsx\",sheet_name=\"Provincia\")"
   ]
  },
  {
   "cell_type": "code",
   "execution_count": 3,
   "metadata": {},
   "outputs": [
    {
     "data": {
      "text/html": [
       "<div>\n",
       "<style scoped>\n",
       "    .dataframe tbody tr th:only-of-type {\n",
       "        vertical-align: middle;\n",
       "    }\n",
       "\n",
       "    .dataframe tbody tr th {\n",
       "        vertical-align: top;\n",
       "    }\n",
       "\n",
       "    .dataframe thead th {\n",
       "        text-align: right;\n",
       "    }\n",
       "</style>\n",
       "<table border=\"1\" class=\"dataframe\">\n",
       "  <thead>\n",
       "    <tr style=\"text-align: right;\">\n",
       "      <th></th>\n",
       "      <th>Año</th>\n",
       "      <th>Trimestre</th>\n",
       "      <th>Provincia</th>\n",
       "      <th>Accesos por cada 100 hogares</th>\n",
       "      <th>Accesos por cada 100 hab</th>\n",
       "    </tr>\n",
       "  </thead>\n",
       "  <tbody>\n",
       "    <tr>\n",
       "      <th>0</th>\n",
       "      <td>2022</td>\n",
       "      <td>4</td>\n",
       "      <td>Buenos Aires</td>\n",
       "      <td>78.94</td>\n",
       "      <td>26.72</td>\n",
       "    </tr>\n",
       "  </tbody>\n",
       "</table>\n",
       "</div>"
      ],
      "text/plain": [
       "    Año  Trimestre     Provincia  Accesos por cada 100 hogares  \\\n",
       "0  2022          4  Buenos Aires                         78.94   \n",
       "\n",
       "   Accesos por cada 100 hab  \n",
       "0                     26.72  "
      ]
     },
     "execution_count": 3,
     "metadata": {},
     "output_type": "execute_result"
    }
   ],
   "source": [
    "df12.head(1)"
   ]
  },
  {
   "cell_type": "code",
   "execution_count": 4,
   "metadata": {},
   "outputs": [],
   "source": [
    "Filtrado = df12.groupby([\"Año\",\"Trimestre\",\"Provincia\"])[\"Accesos por cada 100 hogares\"].sum().reset_index()"
   ]
  },
  {
   "cell_type": "code",
   "execution_count": 5,
   "metadata": {},
   "outputs": [],
   "source": [
    "Filtrado = Filtrado.rename(columns={\"Accesos por cada 100 hogares\":\"Accesoactual\"})"
   ]
  },
  {
   "cell_type": "code",
   "execution_count": 6,
   "metadata": {},
   "outputs": [],
   "source": [
    "prox_tris = Filtrado[~((Filtrado[\"Año\"] == 2014) & (Filtrado[\"Trimestre\"] == 1))]"
   ]
  },
  {
   "cell_type": "code",
   "execution_count": 7,
   "metadata": {},
   "outputs": [
    {
     "data": {
      "text/html": [
       "<div>\n",
       "<style scoped>\n",
       "    .dataframe tbody tr th:only-of-type {\n",
       "        vertical-align: middle;\n",
       "    }\n",
       "\n",
       "    .dataframe tbody tr th {\n",
       "        vertical-align: top;\n",
       "    }\n",
       "\n",
       "    .dataframe thead th {\n",
       "        text-align: right;\n",
       "    }\n",
       "</style>\n",
       "<table border=\"1\" class=\"dataframe\">\n",
       "  <thead>\n",
       "    <tr style=\"text-align: right;\">\n",
       "      <th></th>\n",
       "      <th>Año</th>\n",
       "      <th>Trimestre</th>\n",
       "      <th>Provincia</th>\n",
       "      <th>Accesoactual</th>\n",
       "    </tr>\n",
       "  </thead>\n",
       "  <tbody>\n",
       "    <tr>\n",
       "      <th>0</th>\n",
       "      <td>2014</td>\n",
       "      <td>1</td>\n",
       "      <td>Buenos Aires</td>\n",
       "      <td>54.570073</td>\n",
       "    </tr>\n",
       "  </tbody>\n",
       "</table>\n",
       "</div>"
      ],
      "text/plain": [
       "    Año  Trimestre     Provincia  Accesoactual\n",
       "0  2014          1  Buenos Aires     54.570073"
      ]
     },
     "execution_count": 7,
     "metadata": {},
     "output_type": "execute_result"
    }
   ],
   "source": [
    "Filtrado.head(1)"
   ]
  },
  {
   "cell_type": "code",
   "execution_count": 8,
   "metadata": {},
   "outputs": [],
   "source": [
    "prox_tris.reset_index(inplace= True)"
   ]
  },
  {
   "cell_type": "code",
   "execution_count": 9,
   "metadata": {},
   "outputs": [
    {
     "data": {
      "text/html": [
       "<div>\n",
       "<style scoped>\n",
       "    .dataframe tbody tr th:only-of-type {\n",
       "        vertical-align: middle;\n",
       "    }\n",
       "\n",
       "    .dataframe tbody tr th {\n",
       "        vertical-align: top;\n",
       "    }\n",
       "\n",
       "    .dataframe thead th {\n",
       "        text-align: right;\n",
       "    }\n",
       "</style>\n",
       "<table border=\"1\" class=\"dataframe\">\n",
       "  <thead>\n",
       "    <tr style=\"text-align: right;\">\n",
       "      <th></th>\n",
       "      <th>index</th>\n",
       "      <th>Año</th>\n",
       "      <th>Trimestre</th>\n",
       "      <th>Provincia</th>\n",
       "      <th>Accesoactual</th>\n",
       "    </tr>\n",
       "  </thead>\n",
       "  <tbody>\n",
       "    <tr>\n",
       "      <th>0</th>\n",
       "      <td>24</td>\n",
       "      <td>2014</td>\n",
       "      <td>2</td>\n",
       "      <td>Buenos Aires</td>\n",
       "      <td>55.061417</td>\n",
       "    </tr>\n",
       "  </tbody>\n",
       "</table>\n",
       "</div>"
      ],
      "text/plain": [
       "   index   Año  Trimestre     Provincia  Accesoactual\n",
       "0     24  2014          2  Buenos Aires     55.061417"
      ]
     },
     "execution_count": 9,
     "metadata": {},
     "output_type": "execute_result"
    }
   ],
   "source": [
    "prox_tris.head(1)"
   ]
  },
  {
   "cell_type": "code",
   "execution_count": 10,
   "metadata": {},
   "outputs": [],
   "source": [
    "Filtrado[\"Nuevoacceso\"] = prox_tris[\"Accesoactual\"]"
   ]
  },
  {
   "cell_type": "markdown",
   "metadata": {},
   "source": [
    "### Lo guardamos en un excel para poder trabajarlo en nuestro dashboar en PowerBi"
   ]
  },
  {
   "cell_type": "code",
   "execution_count": 11,
   "metadata": {},
   "outputs": [],
   "source": [
    "Filtrado.to_excel(\"accesosPorProvincia.xlsx\")"
   ]
  },
  {
   "cell_type": "code",
   "execution_count": 12,
   "metadata": {},
   "outputs": [],
   "source": [
    "Filtrado[\"Increm_trimestral\"] = round((((Filtrado[\"Nuevoacceso\"])-(Filtrado[\"Accesoactual\"]))/Filtrado[\"Accesoactual\"])*100,2)"
   ]
  },
  {
   "cell_type": "code",
   "execution_count": 13,
   "metadata": {},
   "outputs": [
    {
     "data": {
      "text/html": [
       "<div>\n",
       "<style scoped>\n",
       "    .dataframe tbody tr th:only-of-type {\n",
       "        vertical-align: middle;\n",
       "    }\n",
       "\n",
       "    .dataframe tbody tr th {\n",
       "        vertical-align: top;\n",
       "    }\n",
       "\n",
       "    .dataframe thead th {\n",
       "        text-align: right;\n",
       "    }\n",
       "</style>\n",
       "<table border=\"1\" class=\"dataframe\">\n",
       "  <thead>\n",
       "    <tr style=\"text-align: right;\">\n",
       "      <th></th>\n",
       "      <th>Año</th>\n",
       "      <th>Trimestre</th>\n",
       "      <th>Provincia</th>\n",
       "      <th>Accesoactual</th>\n",
       "      <th>Nuevoacceso</th>\n",
       "      <th>Increm_trimestral</th>\n",
       "    </tr>\n",
       "  </thead>\n",
       "  <tbody>\n",
       "    <tr>\n",
       "      <th>0</th>\n",
       "      <td>2014</td>\n",
       "      <td>1</td>\n",
       "      <td>Buenos Aires</td>\n",
       "      <td>54.570073</td>\n",
       "      <td>55.061417</td>\n",
       "      <td>0.90</td>\n",
       "    </tr>\n",
       "    <tr>\n",
       "      <th>1</th>\n",
       "      <td>2014</td>\n",
       "      <td>1</td>\n",
       "      <td>Capital Federal</td>\n",
       "      <td>112.254123</td>\n",
       "      <td>113.143352</td>\n",
       "      <td>0.79</td>\n",
       "    </tr>\n",
       "    <tr>\n",
       "      <th>2</th>\n",
       "      <td>2014</td>\n",
       "      <td>1</td>\n",
       "      <td>Catamarca</td>\n",
       "      <td>24.251751</td>\n",
       "      <td>24.703119</td>\n",
       "      <td>1.86</td>\n",
       "    </tr>\n",
       "    <tr>\n",
       "      <th>3</th>\n",
       "      <td>2014</td>\n",
       "      <td>1</td>\n",
       "      <td>Chaco</td>\n",
       "      <td>20.718539</td>\n",
       "      <td>20.957996</td>\n",
       "      <td>1.16</td>\n",
       "    </tr>\n",
       "    <tr>\n",
       "      <th>4</th>\n",
       "      <td>2014</td>\n",
       "      <td>1</td>\n",
       "      <td>Chubut</td>\n",
       "      <td>41.235218</td>\n",
       "      <td>41.410210</td>\n",
       "      <td>0.42</td>\n",
       "    </tr>\n",
       "    <tr>\n",
       "      <th>...</th>\n",
       "      <td>...</td>\n",
       "      <td>...</td>\n",
       "      <td>...</td>\n",
       "      <td>...</td>\n",
       "      <td>...</td>\n",
       "      <td>...</td>\n",
       "    </tr>\n",
       "    <tr>\n",
       "      <th>859</th>\n",
       "      <td>2022</td>\n",
       "      <td>4</td>\n",
       "      <td>Santa Cruz</td>\n",
       "      <td>43.530000</td>\n",
       "      <td>NaN</td>\n",
       "      <td>NaN</td>\n",
       "    </tr>\n",
       "    <tr>\n",
       "      <th>860</th>\n",
       "      <td>2022</td>\n",
       "      <td>4</td>\n",
       "      <td>Santa Fe</td>\n",
       "      <td>78.400000</td>\n",
       "      <td>NaN</td>\n",
       "      <td>NaN</td>\n",
       "    </tr>\n",
       "    <tr>\n",
       "      <th>861</th>\n",
       "      <td>2022</td>\n",
       "      <td>4</td>\n",
       "      <td>Santiago Del Estero</td>\n",
       "      <td>48.050000</td>\n",
       "      <td>NaN</td>\n",
       "      <td>NaN</td>\n",
       "    </tr>\n",
       "    <tr>\n",
       "      <th>862</th>\n",
       "      <td>2022</td>\n",
       "      <td>4</td>\n",
       "      <td>Tierra Del Fuego</td>\n",
       "      <td>101.440000</td>\n",
       "      <td>NaN</td>\n",
       "      <td>NaN</td>\n",
       "    </tr>\n",
       "    <tr>\n",
       "      <th>863</th>\n",
       "      <td>2022</td>\n",
       "      <td>4</td>\n",
       "      <td>Tucumán</td>\n",
       "      <td>61.040000</td>\n",
       "      <td>NaN</td>\n",
       "      <td>NaN</td>\n",
       "    </tr>\n",
       "  </tbody>\n",
       "</table>\n",
       "<p>864 rows × 6 columns</p>\n",
       "</div>"
      ],
      "text/plain": [
       "      Año  Trimestre            Provincia  Accesoactual  Nuevoacceso  \\\n",
       "0    2014          1         Buenos Aires     54.570073    55.061417   \n",
       "1    2014          1      Capital Federal    112.254123   113.143352   \n",
       "2    2014          1            Catamarca     24.251751    24.703119   \n",
       "3    2014          1                Chaco     20.718539    20.957996   \n",
       "4    2014          1               Chubut     41.235218    41.410210   \n",
       "..    ...        ...                  ...           ...          ...   \n",
       "859  2022          4           Santa Cruz     43.530000          NaN   \n",
       "860  2022          4             Santa Fe     78.400000          NaN   \n",
       "861  2022          4  Santiago Del Estero     48.050000          NaN   \n",
       "862  2022          4     Tierra Del Fuego    101.440000          NaN   \n",
       "863  2022          4              Tucumán     61.040000          NaN   \n",
       "\n",
       "     Increm_trimestral  \n",
       "0                 0.90  \n",
       "1                 0.79  \n",
       "2                 1.86  \n",
       "3                 1.16  \n",
       "4                 0.42  \n",
       "..                 ...  \n",
       "859                NaN  \n",
       "860                NaN  \n",
       "861                NaN  \n",
       "862                NaN  \n",
       "863                NaN  \n",
       "\n",
       "[864 rows x 6 columns]"
      ]
     },
     "execution_count": 13,
     "metadata": {},
     "output_type": "execute_result"
    }
   ],
   "source": [
    "Filtrado"
   ]
  },
  {
   "cell_type": "code",
   "execution_count": 14,
   "metadata": {},
   "outputs": [],
   "source": [
    "Filtrado[\"KPI\"] = Filtrado[\"Increm_trimestral\"]"
   ]
  },
  {
   "cell_type": "code",
   "execution_count": 15,
   "metadata": {},
   "outputs": [],
   "source": [
    "Filtrado[\"KPI\"] = Filtrado[\"KPI\"].apply(lambda x: True if x > 1.99 else False)"
   ]
  },
  {
   "cell_type": "code",
   "execution_count": 16,
   "metadata": {},
   "outputs": [
    {
     "data": {
      "text/html": [
       "<div>\n",
       "<style scoped>\n",
       "    .dataframe tbody tr th:only-of-type {\n",
       "        vertical-align: middle;\n",
       "    }\n",
       "\n",
       "    .dataframe tbody tr th {\n",
       "        vertical-align: top;\n",
       "    }\n",
       "\n",
       "    .dataframe thead th {\n",
       "        text-align: right;\n",
       "    }\n",
       "</style>\n",
       "<table border=\"1\" class=\"dataframe\">\n",
       "  <thead>\n",
       "    <tr style=\"text-align: right;\">\n",
       "      <th></th>\n",
       "      <th>Año</th>\n",
       "      <th>Trimestre</th>\n",
       "      <th>Provincia</th>\n",
       "      <th>Accesoactual</th>\n",
       "      <th>Nuevoacceso</th>\n",
       "      <th>Increm_trimestral</th>\n",
       "      <th>KPI</th>\n",
       "    </tr>\n",
       "  </thead>\n",
       "  <tbody>\n",
       "    <tr>\n",
       "      <th>0</th>\n",
       "      <td>2014</td>\n",
       "      <td>1</td>\n",
       "      <td>Buenos Aires</td>\n",
       "      <td>54.570073</td>\n",
       "      <td>55.061417</td>\n",
       "      <td>0.90</td>\n",
       "      <td>False</td>\n",
       "    </tr>\n",
       "    <tr>\n",
       "      <th>1</th>\n",
       "      <td>2014</td>\n",
       "      <td>1</td>\n",
       "      <td>Capital Federal</td>\n",
       "      <td>112.254123</td>\n",
       "      <td>113.143352</td>\n",
       "      <td>0.79</td>\n",
       "      <td>False</td>\n",
       "    </tr>\n",
       "    <tr>\n",
       "      <th>2</th>\n",
       "      <td>2014</td>\n",
       "      <td>1</td>\n",
       "      <td>Catamarca</td>\n",
       "      <td>24.251751</td>\n",
       "      <td>24.703119</td>\n",
       "      <td>1.86</td>\n",
       "      <td>False</td>\n",
       "    </tr>\n",
       "    <tr>\n",
       "      <th>3</th>\n",
       "      <td>2014</td>\n",
       "      <td>1</td>\n",
       "      <td>Chaco</td>\n",
       "      <td>20.718539</td>\n",
       "      <td>20.957996</td>\n",
       "      <td>1.16</td>\n",
       "      <td>False</td>\n",
       "    </tr>\n",
       "    <tr>\n",
       "      <th>4</th>\n",
       "      <td>2014</td>\n",
       "      <td>1</td>\n",
       "      <td>Chubut</td>\n",
       "      <td>41.235218</td>\n",
       "      <td>41.410210</td>\n",
       "      <td>0.42</td>\n",
       "      <td>False</td>\n",
       "    </tr>\n",
       "    <tr>\n",
       "      <th>...</th>\n",
       "      <td>...</td>\n",
       "      <td>...</td>\n",
       "      <td>...</td>\n",
       "      <td>...</td>\n",
       "      <td>...</td>\n",
       "      <td>...</td>\n",
       "      <td>...</td>\n",
       "    </tr>\n",
       "    <tr>\n",
       "      <th>859</th>\n",
       "      <td>2022</td>\n",
       "      <td>4</td>\n",
       "      <td>Santa Cruz</td>\n",
       "      <td>43.530000</td>\n",
       "      <td>NaN</td>\n",
       "      <td>NaN</td>\n",
       "      <td>False</td>\n",
       "    </tr>\n",
       "    <tr>\n",
       "      <th>860</th>\n",
       "      <td>2022</td>\n",
       "      <td>4</td>\n",
       "      <td>Santa Fe</td>\n",
       "      <td>78.400000</td>\n",
       "      <td>NaN</td>\n",
       "      <td>NaN</td>\n",
       "      <td>False</td>\n",
       "    </tr>\n",
       "    <tr>\n",
       "      <th>861</th>\n",
       "      <td>2022</td>\n",
       "      <td>4</td>\n",
       "      <td>Santiago Del Estero</td>\n",
       "      <td>48.050000</td>\n",
       "      <td>NaN</td>\n",
       "      <td>NaN</td>\n",
       "      <td>False</td>\n",
       "    </tr>\n",
       "    <tr>\n",
       "      <th>862</th>\n",
       "      <td>2022</td>\n",
       "      <td>4</td>\n",
       "      <td>Tierra Del Fuego</td>\n",
       "      <td>101.440000</td>\n",
       "      <td>NaN</td>\n",
       "      <td>NaN</td>\n",
       "      <td>False</td>\n",
       "    </tr>\n",
       "    <tr>\n",
       "      <th>863</th>\n",
       "      <td>2022</td>\n",
       "      <td>4</td>\n",
       "      <td>Tucumán</td>\n",
       "      <td>61.040000</td>\n",
       "      <td>NaN</td>\n",
       "      <td>NaN</td>\n",
       "      <td>False</td>\n",
       "    </tr>\n",
       "  </tbody>\n",
       "</table>\n",
       "<p>864 rows × 7 columns</p>\n",
       "</div>"
      ],
      "text/plain": [
       "      Año  Trimestre            Provincia  Accesoactual  Nuevoacceso  \\\n",
       "0    2014          1         Buenos Aires     54.570073    55.061417   \n",
       "1    2014          1      Capital Federal    112.254123   113.143352   \n",
       "2    2014          1            Catamarca     24.251751    24.703119   \n",
       "3    2014          1                Chaco     20.718539    20.957996   \n",
       "4    2014          1               Chubut     41.235218    41.410210   \n",
       "..    ...        ...                  ...           ...          ...   \n",
       "859  2022          4           Santa Cruz     43.530000          NaN   \n",
       "860  2022          4             Santa Fe     78.400000          NaN   \n",
       "861  2022          4  Santiago Del Estero     48.050000          NaN   \n",
       "862  2022          4     Tierra Del Fuego    101.440000          NaN   \n",
       "863  2022          4              Tucumán     61.040000          NaN   \n",
       "\n",
       "     Increm_trimestral    KPI  \n",
       "0                 0.90  False  \n",
       "1                 0.79  False  \n",
       "2                 1.86  False  \n",
       "3                 1.16  False  \n",
       "4                 0.42  False  \n",
       "..                 ...    ...  \n",
       "859                NaN  False  \n",
       "860                NaN  False  \n",
       "861                NaN  False  \n",
       "862                NaN  False  \n",
       "863                NaN  False  \n",
       "\n",
       "[864 rows x 7 columns]"
      ]
     },
     "execution_count": 16,
     "metadata": {},
     "output_type": "execute_result"
    }
   ],
   "source": [
    "Filtrado"
   ]
  },
  {
   "cell_type": "code",
   "execution_count": 17,
   "metadata": {},
   "outputs": [
    {
     "data": {
      "text/plain": [
       "<function matplotlib.pyplot.show(close=None, block=None)>"
      ]
     },
     "execution_count": 17,
     "metadata": {},
     "output_type": "execute_result"
    },
    {
     "data": {
      "image/png": "[encoded data removed]",
      "text/plain": [
       "<Figure size 1000x600 with 1 Axes>"
      ]
     },
     "metadata": {},
     "output_type": "display_data"
    }
   ],
   "source": [
    "sns.set(style=\"white\")\n",
    "\n",
    "plt.figure(figsize=(10, 6))\n",
    "sns.lineplot(data= Filtrado, x=\"Año\", y=\"Increm_trimestral\", label=\"Tendencia\")\n",
    "\n",
    "\n",
    "plt.title(\"Incremento trimestral del acceso al servicio por año\")\n",
    "plt.xlabel(\"Año\")\n",
    "plt.ylabel(\"Porcentraje de incremento\")\n",
    "plt.axhline(y= 2,color='r', linestyle='--')\n",
    "plt.tight_layout()\n",
    "\n",
    "plt.show"
   ]
  },
  {
   "cell_type": "markdown",
   "metadata": {},
   "source": [
    "# KPI2\n"
   ]
  },
  {
   "cell_type": "markdown",
   "metadata": {},
   "source": [
    "#### Con el objetivo de mejorar nuestro servicio, hemos establecido un KPI centrado en el incremento anual del acceso a Internet a través de la tecnología de fibra óptica. Nuestra meta es lograr un crecimiento del 25% anual en la adopción de esta tecnología.\n",
    "\n",
    "#### La fórmula del KPI se define de la siguiente manera: KPI = ((Total de fibra óptica anual - Total de fibra óptica año anterior) / Total de fibra óptica año anterior) * 100 = 25%. Esta fórmula nos permitirá evaluar si estamos cumpliendo con nuestro objetivo de expansión de la fibra óptica y si estamos mejorando constantemente nuestro servicio en esta área."
   ]
  },
  {
   "cell_type": "code",
   "execution_count": 18,
   "metadata": {},
   "outputs": [],
   "source": [
    "df9 = pd.read_excel(r\"datasets/Internet_Accesos-por-tecnologia.xlsx\",sheet_name=\"Total\")"
   ]
  },
  {
   "cell_type": "code",
   "execution_count": 30,
   "metadata": {},
   "outputs": [
    {
     "data": {
      "text/html": [
       "<div>\n",
       "<style scoped>\n",
       "    .dataframe tbody tr th:only-of-type {\n",
       "        vertical-align: middle;\n",
       "    }\n",
       "\n",
       "    .dataframe tbody tr th {\n",
       "        vertical-align: top;\n",
       "    }\n",
       "\n",
       "    .dataframe thead th {\n",
       "        text-align: right;\n",
       "    }\n",
       "</style>\n",
       "<table border=\"1\" class=\"dataframe\">\n",
       "  <thead>\n",
       "    <tr style=\"text-align: right;\">\n",
       "      <th></th>\n",
       "      <th>Año</th>\n",
       "      <th>Trimestre</th>\n",
       "      <th>ADSL</th>\n",
       "      <th>Cablemodem</th>\n",
       "      <th>Fibra óptica</th>\n",
       "      <th>Wireless</th>\n",
       "      <th>Otros</th>\n",
       "      <th>Total</th>\n",
       "      <th>Periodo</th>\n",
       "    </tr>\n",
       "  </thead>\n",
       "  <tbody>\n",
       "    <tr>\n",
       "      <th>0</th>\n",
       "      <td>2022</td>\n",
       "      <td>4</td>\n",
       "      <td>1315373</td>\n",
       "      <td>6037457</td>\n",
       "      <td>3060575</td>\n",
       "      <td>572969</td>\n",
       "      <td>221740</td>\n",
       "      <td>11208114</td>\n",
       "      <td>Oct-Dic 2022</td>\n",
       "    </tr>\n",
       "    <tr>\n",
       "      <th>1</th>\n",
       "      <td>2022</td>\n",
       "      <td>3</td>\n",
       "      <td>1395277</td>\n",
       "      <td>6031970</td>\n",
       "      <td>2871541</td>\n",
       "      <td>557110</td>\n",
       "      <td>235230</td>\n",
       "      <td>11091128</td>\n",
       "      <td>Jul-Sept 2022</td>\n",
       "    </tr>\n",
       "    <tr>\n",
       "      <th>2</th>\n",
       "      <td>2022</td>\n",
       "      <td>2</td>\n",
       "      <td>1468333</td>\n",
       "      <td>5979214</td>\n",
       "      <td>2723285</td>\n",
       "      <td>556243</td>\n",
       "      <td>231609</td>\n",
       "      <td>10958684</td>\n",
       "      <td>Abr-Jun 2022</td>\n",
       "    </tr>\n",
       "    <tr>\n",
       "      <th>3</th>\n",
       "      <td>2022</td>\n",
       "      <td>1</td>\n",
       "      <td>1533240</td>\n",
       "      <td>6073426</td>\n",
       "      <td>2219533</td>\n",
       "      <td>545814</td>\n",
       "      <td>251996</td>\n",
       "      <td>10624009</td>\n",
       "      <td>Ene-Mar 2022</td>\n",
       "    </tr>\n",
       "    <tr>\n",
       "      <th>4</th>\n",
       "      <td>2021</td>\n",
       "      <td>4</td>\n",
       "      <td>1657615</td>\n",
       "      <td>5984240</td>\n",
       "      <td>2072236</td>\n",
       "      <td>523107</td>\n",
       "      <td>252596</td>\n",
       "      <td>10489794</td>\n",
       "      <td>Oct-Dic 2021</td>\n",
       "    </tr>\n",
       "  </tbody>\n",
       "</table>\n",
       "</div>"
      ],
      "text/plain": [
       "    Año  Trimestre     ADSL  Cablemodem  Fibra óptica  Wireless   Otros  \\\n",
       "0  2022          4  1315373     6037457       3060575    572969  221740   \n",
       "1  2022          3  1395277     6031970       2871541    557110  235230   \n",
       "2  2022          2  1468333     5979214       2723285    556243  231609   \n",
       "3  2022          1  1533240     6073426       2219533    545814  251996   \n",
       "4  2021          4  1657615     5984240       2072236    523107  252596   \n",
       "\n",
       "      Total        Periodo  \n",
       "0  11208114   Oct-Dic 2022  \n",
       "1  11091128  Jul-Sept 2022  \n",
       "2  10958684   Abr-Jun 2022  \n",
       "3  10624009   Ene-Mar 2022  \n",
       "4  10489794   Oct-Dic 2021  "
      ]
     },
     "execution_count": 30,
     "metadata": {},
     "output_type": "execute_result"
    }
   ],
   "source": [
    "df9.head(5)"
   ]
  },
  {
   "cell_type": "code",
   "execution_count": 20,
   "metadata": {},
   "outputs": [],
   "source": [
    "tec_año = df9.groupby(\"Año\")[[\"ADSL\", \"Cablemodem\", \"Fibra óptica\",\"Wireless\",\"Otros\",\"Total\"]].sum().reset_index()"
   ]
  },
  {
   "cell_type": "code",
   "execution_count": 22,
   "metadata": {},
   "outputs": [
    {
     "data": {
      "text/html": [
       "<div>\n",
       "<style scoped>\n",
       "    .dataframe tbody tr th:only-of-type {\n",
       "        vertical-align: middle;\n",
       "    }\n",
       "\n",
       "    .dataframe tbody tr th {\n",
       "        vertical-align: top;\n",
       "    }\n",
       "\n",
       "    .dataframe thead th {\n",
       "        text-align: right;\n",
       "    }\n",
       "</style>\n",
       "<table border=\"1\" class=\"dataframe\">\n",
       "  <thead>\n",
       "    <tr style=\"text-align: right;\">\n",
       "      <th></th>\n",
       "      <th>Año</th>\n",
       "      <th>ADSL</th>\n",
       "      <th>Cablemodem</th>\n",
       "      <th>Fibra óptica</th>\n",
       "      <th>Wireless</th>\n",
       "      <th>Otros</th>\n",
       "      <th>Total</th>\n",
       "    </tr>\n",
       "  </thead>\n",
       "  <tbody>\n",
       "    <tr>\n",
       "      <th>0</th>\n",
       "      <td>2014</td>\n",
       "      <td>14884750</td>\n",
       "      <td>9975087</td>\n",
       "      <td>604862</td>\n",
       "      <td>305234</td>\n",
       "      <td>286700</td>\n",
       "      <td>26056633</td>\n",
       "    </tr>\n",
       "    <tr>\n",
       "      <th>1</th>\n",
       "      <td>2015</td>\n",
       "      <td>15115694</td>\n",
       "      <td>11162971</td>\n",
       "      <td>620877</td>\n",
       "      <td>331431</td>\n",
       "      <td>242846</td>\n",
       "      <td>27473819</td>\n",
       "    </tr>\n",
       "    <tr>\n",
       "      <th>2</th>\n",
       "      <td>2016</td>\n",
       "      <td>15073814</td>\n",
       "      <td>12177088</td>\n",
       "      <td>680127</td>\n",
       "      <td>337396</td>\n",
       "      <td>227633</td>\n",
       "      <td>28496058</td>\n",
       "    </tr>\n",
       "    <tr>\n",
       "      <th>3</th>\n",
       "      <td>2017</td>\n",
       "      <td>14639302</td>\n",
       "      <td>14148063</td>\n",
       "      <td>766312</td>\n",
       "      <td>432844</td>\n",
       "      <td>344162</td>\n",
       "      <td>30330683</td>\n",
       "    </tr>\n",
       "    <tr>\n",
       "      <th>4</th>\n",
       "      <td>2018</td>\n",
       "      <td>13981984</td>\n",
       "      <td>16571272</td>\n",
       "      <td>1079124</td>\n",
       "      <td>870047</td>\n",
       "      <td>465760</td>\n",
       "      <td>32968187</td>\n",
       "    </tr>\n",
       "    <tr>\n",
       "      <th>5</th>\n",
       "      <td>2019</td>\n",
       "      <td>11447626</td>\n",
       "      <td>18754974</td>\n",
       "      <td>3191409</td>\n",
       "      <td>1262831</td>\n",
       "      <td>909341</td>\n",
       "      <td>35566181</td>\n",
       "    </tr>\n",
       "    <tr>\n",
       "      <th>6</th>\n",
       "      <td>2020</td>\n",
       "      <td>9072828</td>\n",
       "      <td>20539964</td>\n",
       "      <td>4636620</td>\n",
       "      <td>1563813</td>\n",
       "      <td>958018</td>\n",
       "      <td>36771243</td>\n",
       "    </tr>\n",
       "    <tr>\n",
       "      <th>7</th>\n",
       "      <td>2021</td>\n",
       "      <td>7802044</td>\n",
       "      <td>22877010</td>\n",
       "      <td>6473506</td>\n",
       "      <td>1927038</td>\n",
       "      <td>1006793</td>\n",
       "      <td>40086391</td>\n",
       "    </tr>\n",
       "    <tr>\n",
       "      <th>8</th>\n",
       "      <td>2022</td>\n",
       "      <td>5712223</td>\n",
       "      <td>24122067</td>\n",
       "      <td>10874934</td>\n",
       "      <td>2232136</td>\n",
       "      <td>940575</td>\n",
       "      <td>43881935</td>\n",
       "    </tr>\n",
       "  </tbody>\n",
       "</table>\n",
       "</div>"
      ],
      "text/plain": [
       "    Año      ADSL  Cablemodem  Fibra óptica  Wireless    Otros     Total\n",
       "0  2014  14884750     9975087        604862    305234   286700  26056633\n",
       "1  2015  15115694    11162971        620877    331431   242846  27473819\n",
       "2  2016  15073814    12177088        680127    337396   227633  28496058\n",
       "3  2017  14639302    14148063        766312    432844   344162  30330683\n",
       "4  2018  13981984    16571272       1079124    870047   465760  32968187\n",
       "5  2019  11447626    18754974       3191409   1262831   909341  35566181\n",
       "6  2020   9072828    20539964       4636620   1563813   958018  36771243\n",
       "7  2021   7802044    22877010       6473506   1927038  1006793  40086391\n",
       "8  2022   5712223    24122067      10874934   2232136   940575  43881935"
      ]
     },
     "execution_count": 22,
     "metadata": {},
     "output_type": "execute_result"
    }
   ],
   "source": [
    "tec_año"
   ]
  },
  {
   "cell_type": "code",
   "execution_count": 32,
   "metadata": {},
   "outputs": [
    {
     "data": {
      "image/png": "[encoded data removed]",
      "text/plain": [
       "<Figure size 1000x600 with 1 Axes>"
      ]
     },
     "metadata": {},
     "output_type": "display_data"
    }
   ],
   "source": [
    "sns.set(style=\"white\")\n",
    "\n",
    "plt.figure(figsize=(10, 6))\n",
    "sns.lineplot(data= tec_año, x=\"Año\", y=\"ADSL\", label=\"ADSL\")\n",
    "sns.lineplot(data= tec_año, x=\"Año\", y=\"Cablemodem\", label=\"Cablemodem\")\n",
    "sns.lineplot(data= tec_año, x=\"Año\", y=\"Fibra óptica\", label=\"Fibra óptica\")\n",
    "sns.lineplot(data= tec_año, x=\"Año\", y=\"Wireless\", label=\"Wireless\")\n",
    "\n",
    "\n",
    "plt.title(\"Tecnología por año\")\n",
    "plt.xlabel(\"Año\")\n",
    "plt.ylabel(\"Cantidad de Tecnología\")\n",
    "plt.xticks(rotation=45)\n",
    "plt.tight_layout()"
   ]
  },
  {
   "cell_type": "markdown",
   "metadata": {},
   "source": [
    "### Lo guardamos en un excel para poder trabajarlo en nuestro dashboar en PowerBi"
   ]
  },
  {
   "cell_type": "code",
   "execution_count": 21,
   "metadata": {},
   "outputs": [],
   "source": [
    "tec_año.to_excel(\"tecnologíaAño.xlsx\")"
   ]
  }
 ],
 "metadata": {
  "kernelspec": {
   "display_name": "Python 3",
   "language": "python",
   "name": "python3"
  },
  "language_info": {
   "codemirror_mode": {
    "name": "ipython",
    "version": 3
   },
   "file_extension": ".py",
   "mimetype": "text/x-python",
   "name": "python",
   "nbconvert_exporter": "python",
   "pygments_lexer": "ipython3",
   "version": "3.11.4"
  }
 },
 "nbformat": 4,
 "nbformat_minor": 2
}
